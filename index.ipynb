{
 "cells": [
  {
   "cell_type": "markdown",
   "id": "808122fc-2045-4d5a-a2b4-d6ba56b5aa5a",
   "metadata": {},
   "source": [
    "Author: Alvin Thai\n",
    "Per Scholas - index.ipynb manages the ETL process for a loan application and credit card dataset that using Python, MariaDB, Apache Spark, and Python Visualization libraries. \n",
    "8/30/2022"
   ]
  },
  {
   "cell_type": "markdown",
   "id": "80946130-544e-4b3f-82cc-1071b048d185",
   "metadata": {},
   "source": [
    "#### Data Extraction and Transformation with Python and PySpark\n"
   ]
  },
  {
   "cell_type": "code",
   "execution_count": null,
   "id": "e8cf2d7e-f914-4cef-9d77-8d066fe47c88",
   "metadata": {},
   "outputs": [],
   "source": [
    "from datetime import datetime\n",
    "from datetime import date\n",
    "from pyspark.sql import SparkSession\n",
    "from pyspark.sql.types import StructType,StructField,StringType,IntegerType,FloatType\n",
    "\n",
    "spark = SparkSession.builder.appName('capstone').getOrCreate()\n",
    "branches = spark.read.json(\"cdw_sapp_branch.json\")\n",
    "customers = spark.read.json(\"cdw_sapp_customer.json\")\n",
    "credits = spark.read.json(\"cdw_sapp_credit.json\")\n",
    "\n",
    "branchRDD = branches.rdd.map(lambda x: (x[1], x[2], x[5], x[0], x[4], x[6], '('+x[3][:3]+')'+x[3][3:6]+'-'+x[3][6:], datetime.fromisoformat(x[7])))\n",
    "branches = spark.createDataFrame(data=branchRDD, schema=[\"BRANCH_CODE\", \"BRANCH_NAME\", \"BRANCH_STREET\", \"BRANCH_CITY\", \"BRANCH_STATE\", \"BRANCH_ZIP\", \"BRANCH_PHONE\", \"LAST_UPDATED\"])\n",
    "branches.printSchema()\n",
    "customerRDD = customers.rdd.map(lambda x: (int(x[12]), x[8].title(), x[11].lower(), x[9].title(), x[1], x[13]+\", \"+x[0], x[2], x[6], x[3], int(x[7]), str(x[5])[:3]+\"-\"+str(x[5])[3:], x[4], datetime.fromisoformat(x[10])))\n",
    "customers = spark.createDataFrame(data=customerRDD, schema=[\"SSN\",\"FIRST_NAME\",\"MIDDLE_NAME\", \"LAST_NAME\", \"Credit_card_no\", \"FULL_STREET_ADDRESS\", \"CUST_CITY\", \"CUST_STATE\", \"CUST_COUNTRY\", \"CUST_ZIP\", \"CUST_PHONE\", \"CUST_EMAIL\", \"LAST_UPDATED\"])\n",
    "customers.printSchema()\n",
    "creditRDD = credits.rdd.map(lambda x: (x[1], date(x[8], x[4], x[3]).strftime('%Y%m%d'), x[2], x[0], x[6], x[7], x[5]))  \n",
    "credits = spark.createDataFrame(data=creditRDD, schema=[\"CUST_CC_NO\", \"TIMEID\", \"CUST_SSN\", \"BRANCH_CODE\", \"TRANSACTION_TYPE\", \"TRANSACTION_VALUE\", \"TRANSACTION_ID\"])\n",
    "credits.printSchema()"
   ]
  },
  {
   "cell_type": "markdown",
   "id": "937d31ef-0016-41dc-9d8b-89ccd41d7f34",
   "metadata": {},
   "source": [
    "#### Data loading into Database"
   ]
  },
  {
   "cell_type": "code",
   "execution_count": null,
   "id": "805a0c36-ae11-46dc-8b98-b7320ad8f6bf",
   "metadata": {},
   "outputs": [],
   "source": [
    "branches.write.format(\"jdbc\") \\\n",
    "  .mode(\"overwrite\") \\\n",
    "  .option(\"url\", \"jdbc:mysql://localhost:3306/credit_capstone\") \\\n",
    "  .option(\"dbtable\", \"credit_capstone.cdw_sapp_branch\") \\\n",
    "  .option(\"user\", \"root\") \\\n",
    "  .option(\"password\", \"root\") \\\n",
    "  .save()\n",
    "customers.write.format(\"jdbc\") \\\n",
    "  .mode(\"overwrite\") \\\n",
    "  .option(\"url\", \"jdbc:mysql://localhost:3306/credit_capstone\") \\\n",
    "  .option(\"dbtable\", \"credit_capstone.cdw_sapp_customer\") \\\n",
    "  .option(\"user\", \"root\") \\\n",
    "  .option(\"password\", \"root\") \\\n",
    "  .save()\n",
    "credits.write.format(\"jdbc\") \\\n",
    "  .mode(\"overwrite\") \\\n",
    "  .option(\"url\", \"jdbc:mysql://localhost:3306/credit_capstone\") \\\n",
    "  .option(\"dbtable\", \"credit_capstone.cdw_sapp_credit_card\") \\\n",
    "  .option(\"user\", \"root\") \\\n",
    "  .option(\"password\", \"root\") \\\n",
    "  .save()"
   ]
  },
  {
   "cell_type": "code",
   "execution_count": null,
   "id": "435c0149-650c-460f-9bae-c4c55b8eeb6b",
   "metadata": {},
   "outputs": [],
   "source": [
    "branches.createTempView(\"branches\")\n",
    "customers.createTempView(\"customers\")\n",
    "credits.createTempView(\"credit_card\")"
   ]
  },
  {
   "cell_type": "markdown",
   "id": "60815f86-68a9-460b-89f3-ee9294a56b82",
   "metadata": {},
   "source": [
    "#### View transactions from customer in given year and month within a zipcode ordered by day descending"
   ]
  },
  {
   "cell_type": "code",
   "execution_count": null,
   "id": "8a7a20f0-ae2b-49d6-b729-4897eb98d574",
   "metadata": {},
   "outputs": [],
   "source": [
    "# year_month is in YYYYMM format.  Change the variables to see data from a different, month, and zipcode.\n",
    "year_month = '201809'\n",
    "zipcode = 55044\n",
    "\n",
    "query = \"SELECT t.TIMEID, t.TRANSACTION_ID, t.TRANSACTION_TYPE, t.TRANSACTION_VALUE \\\n",
    "          FROM branches b, customers c, credit_card t \\\n",
    "          WHERE b.BRANCH_CODE = t.BRANCH_CODE and t.CUST_CC_NO = c.Credit_card_no and t.TIMEID LIKE '\" + year_month + \"%' and c.CUST_ZIP = \" + str(zipcode) + \" \\\n",
    "          ORDER BY t.TIMEID DESC\"\n",
    "spark.sql(query).show(5)"
   ]
  },
  {
   "cell_type": "markdown",
   "id": "851c8446-63ba-452b-b09a-7bef97386cb5",
   "metadata": {},
   "source": [
    "#### Display the number and total values of transactions for a given type"
   ]
  },
  {
   "cell_type": "code",
   "execution_count": null,
   "id": "aad54819-06e5-4f08-a052-dd4bd95399e1",
   "metadata": {},
   "outputs": [],
   "source": [
    "query = \"SELECT t.TRANSACTION_TYPE, count(*) AS Orders, round(sum(t.TRANSACTION_VALUE), 2) AS Total \\\n",
    "          FROM credit_card t \\\n",
    "          GROUP BY t.TRANSACTION_TYPE\"\n",
    "spark.sql(query).show()"
   ]
  },
  {
   "cell_type": "markdown",
   "id": "3c962f81-9c3b-4dff-a09b-b7d196d32b3d",
   "metadata": {},
   "source": [
    "#### Display the number and total values of transactions for branches in a given state"
   ]
  },
  {
   "cell_type": "code",
   "execution_count": null,
   "id": "b8efc0c1-3612-4e4e-a1a7-b94302141af6",
   "metadata": {},
   "outputs": [],
   "source": [
    "state = \"NY\"\n",
    "query = \"SELECT t.BRANCH_CODE as Branch, count(*) AS Orders, round(sum(t.TRANSACTION_VALUE), 2) AS Total \\\n",
    "          FROM credit_card t JOIN branches b on t.BRANCH_CODE = b.BRANCH_CODE \\\n",
    "          WHERE b.BRANCH_STATE = '\" + state + \"' \\\n",
    "          GROUP BY t.BRANCH_CODE\"\n",
    "spark.sql(query).show()"
   ]
  },
  {
   "cell_type": "markdown",
   "id": "2b03e8c1-4065-4bee-9973-9ddd185b9148",
   "metadata": {},
   "source": [
    "#### Check the existing account details of a customer"
   ]
  },
  {
   "cell_type": "code",
   "execution_count": null,
   "id": "2dc5f276-8863-4242-accc-c5a1ee43c6f6",
   "metadata": {},
   "outputs": [],
   "source": [
    "ssn = 123456100\n",
    "query = \"SELECT * \\\n",
    "          FROM customers c \\\n",
    "          WHERE c.SSN = \" + str(ssn) + \"\"\n",
    "spark.sql(query).show()"
   ]
  },
  {
   "cell_type": "markdown",
   "id": "34415043-b7ae-4669-b1cf-5968acec051c",
   "metadata": {},
   "source": [
    "#### Modify the existing account details of a customer"
   ]
  },
  {
   "cell_type": "code",
   "execution_count": null,
   "id": "54ff0782-aba2-4352-9824-20960da0c7f6",
   "metadata": {},
   "outputs": [],
   "source": [
    "import mysql.connector as mariadb\n",
    "from mysql.connector import Error\n",
    "from dotenv import dotenv_values\n",
    "\n",
    "config = dotenv_values('.env')\n",
    "try:\n",
    "    connection = mariadb.connect(host='localhost',\n",
    "                                         database='credit_capstone',\n",
    "                                         user=config['user'],\n",
    "                                         password=config['password'])\n",
    "    if connection.is_connected():\n",
    "        db_Info = connection.get_server_info()\n",
    "        print(\"Connected to SQL  version \", db_Info)\n",
    "        cursor = connection.cursor()\n",
    "        SQLQuery =\"UPDATE cdw_sapp_customer SET Credit_card_no = 4210653310061068 WHERE Credit_card_no = 4210653310061055\";\n",
    "        cursor.execute(SQLQuery)\n",
    "        ssn = 123456100\n",
    "        SQLQuery = \"SELECT * \\\n",
    "                  FROM cdw_sapp_customer c \\\n",
    "                  WHERE c.SSN = \" + str(ssn) + \"\"\n",
    "        cursor.execute(SQLQuery)\n",
    "        records = cursor.fetchall()\n",
    "        print(\"Total number of rows from result table: \", cursor.rowcount)    \n",
    "        print(\"\\nPrinting each row\")\n",
    "        for row in records:\n",
    "            print(\"SSN = \", row[0],  )\n",
    "            print(\"First name = \", row[1])\n",
    "            print(\"Middle name  = \", row[2])\n",
    "            print(\"Last name = \", row[3])\n",
    "            print(\"Credit card no. = \", row[4])\n",
    "            print(\"Full Street Address = \", row[5])\n",
    "            print(\"City = \", row[6])\n",
    "            print(\"State = \", row[7])\n",
    "            print(\"Country = \", row[8])\n",
    "            print(\"Zipcode = \", row[9])\n",
    "            print(\"Phone = \", row[10])\n",
    "            print(\"Email = \", row[11])\n",
    "            print(\"Last updated = \", row[12], \"\\n\")\n",
    "except Error as e:\n",
    "        print(\"Error while connecting to Database\", e)\n",
    "finally:\n",
    "        if connection.is_connected():\n",
    "            cursor.close()\n",
    "            connection.close()\n",
    "            print(\"Database connection is closed\")\n"
   ]
  },
  {
   "cell_type": "markdown",
   "id": "f9c52e86-1681-413c-8746-d61a64e1aac2",
   "metadata": {},
   "source": [
    "#### Generate a monthly bill for a credit card number for a given month and year"
   ]
  },
  {
   "cell_type": "code",
   "execution_count": null,
   "id": "5ac019fb-4320-4f91-83ec-750dd7091172",
   "metadata": {},
   "outputs": [],
   "source": [
    "# cc_no and year_month changes the output.  cc_no is the credit card number and year_month is in YYYYMM format.\n",
    "cc_no = \"4210653349028689\"\n",
    "year_month = \"201809\"\n",
    "query = \"SELECT round(sum(t.TRANSACTION_VALUE), 2) \\\n",
    "          FROM credit_card t \\\n",
    "          WHERE t.CUST_CC_NO = '\" + cc_no + \"' and startswith(t.TIMEID, '\" + year_month + \"')\"\n",
    "spark.sql(query).show()"
   ]
  },
  {
   "cell_type": "markdown",
   "id": "11a7c61c-70aa-436d-ad15-2713eabc0ad5",
   "metadata": {},
   "source": [
    "#### Display the transactions made by a customer between two dates ordered by year, month, and day in descending order"
   ]
  },
  {
   "cell_type": "code",
   "execution_count": null,
   "id": "46e931e3-b798-485c-a7b5-da16bc972e61",
   "metadata": {},
   "outputs": [],
   "source": [
    "cc_no = \"4210653349028689\"\n",
    "start = \"20180501\"\n",
    "end = \"20180701\"\n",
    "spark.sql(\"SELECT t.TIMEID, t.TRANSACTION_ID, t.TRANSACTION_TYPE, t.TRANSACTION_VALUE \\\n",
    "          FROM credit_card t \\\n",
    "          WHERE t.CUST_CC_NO = '\" + cc_no + \"' and t.TIMEID > '\" + start + \"' and t.TIMEID < '\" + end + \"' \\\n",
    "          ORDER BY EXTRACT(YEAR FROM t.TIMEID), EXTRACT(MONTH FROM t.TIMEID), EXTRACT(DAY FROM t.TIMEID) DESC\").show()"
   ]
  },
  {
   "cell_type": "markdown",
   "id": "18102d3c-41b4-4431-91d1-d2d13ca0deb9",
   "metadata": {},
   "source": [
    "### Data Analysis and Visualization"
   ]
  },
  {
   "cell_type": "code",
   "execution_count": null,
   "id": "eda8f92e-2024-4574-88ea-18dce36d8426",
   "metadata": {},
   "outputs": [],
   "source": [
    "import pandas as pd\n",
    "import numpy as np\n",
    "import matplotlib.pyplot as plt\n",
    "import plotly.express as px\n",
    "import seaborn as sns\n",
    "%matplotlib inline"
   ]
  },
  {
   "cell_type": "markdown",
   "id": "9eba6a62-8e70-42de-bc92-d51e493e1321",
   "metadata": {},
   "source": [
    "#### Which transaction type occurs most often"
   ]
  },
  {
   "cell_type": "code",
   "execution_count": null,
   "id": "00376df5-bbf9-4d9a-a12f-21204a307fe8",
   "metadata": {},
   "outputs": [],
   "source": [
    "purchases = credits.toPandas()\n",
    "transaction_types = sns.countplot(data=purchases, y='TRANSACTION_TYPE')"
   ]
  },
  {
   "cell_type": "markdown",
   "id": "5f844c97-f201-4c8c-9798-941bcd37a85b",
   "metadata": {},
   "source": [
    "#### Which state has the highest number of customers"
   ]
  },
  {
   "cell_type": "code",
   "execution_count": null,
   "id": "20d8e5ab-f897-4df6-92dc-5ad56f4db7df",
   "metadata": {},
   "outputs": [],
   "source": [
    "customers = customers.toPandas()\n",
    "# ax = sns.countplot(data=customers, y=\"CUST_STATE\")\n",
    "count_df = customers['CUST_STATE'].value_counts().to_frame().reset_index().rename(columns={'index':'State', 'CUST_STATE':'Count'})\n",
    "transactions_by_state = px.choropleth(count_df, locations=count_df['State'], locationmode='USA-states', scope='usa', color='Count', color_continuous_scale='tealgrn', title='Transactions by State')\n",
    "transactions_by_state.update_layout(margin={\"r\":0,\"t\":0,\"l\":0,\"b\":0})\n",
    "transactions_by_state.show()"
   ]
  },
  {
   "cell_type": "markdown",
   "id": "507dd61b-695d-49df-9fb2-c2d6162cb32d",
   "metadata": {},
   "source": [
    "#### Sum of all transactions for each customer, and which customer has the highest transaction amount"
   ]
  },
  {
   "cell_type": "code",
   "execution_count": null,
   "id": "3fca2101-4c2d-4a82-b56f-76db332c8c86",
   "metadata": {},
   "outputs": [],
   "source": [
    "transaction_sums = purchases[['CUST_SSN', 'TRANSACTION_VALUE']].groupby('CUST_SSN').sum().rename(columns={\"TRANSACTION_VALUE\": \"Sum\"}).reset_index()\n",
    "transaction_sums['CUST_SSN'] = transaction_sums['CUST_SSN'].astype(str)\n",
    "cust_totals = px.scatter(transaction_sums, x='Sum', y='CUST_SSN', title='Transaction Totals by Customer', color='Sum', color_continuous_scale='oryel')\n",
    "cust_totals.add_annotation(\n",
    "    xref=\"x domain\",\n",
    "    yref=\"y domain\",\n",
    "    x=0.94,\n",
    "    y=0.09,\n",
    "    text=\"Highest Purchase\",\n",
    "    arrowhead=2,\n",
    ")\n",
    "cust_totals.update_layout(\n",
    "    autosize=False,\n",
    "    width=1500,\n",
    "    height=800,)\n",
    "cust_totals.show()"
   ]
  },
  {
   "cell_type": "code",
   "execution_count": null,
   "id": "e3bf6d33-3d9f-4eab-a17c-f419eaae8a1b",
   "metadata": {},
   "outputs": [],
   "source": [
    "spark.sql(\"SELECT SUBSTRING(t.TIMEID, 5, 2), round(sum(t.TRANSACTION_VALUE), 2) \\\n",
    "          FROM credit_card t \\\n",
    "          GROUP BY SUBSTRING(t.TIMEID, 5, 2) \\\n",
    "          ORDER BY sum(t.TRANSACTION_VALUE) DESC\").show()"
   ]
  },
  {
   "cell_type": "markdown",
   "id": "8edd1cfd-948e-4442-be75-d5476066a467",
   "metadata": {},
   "source": [
    "#### Top three months with the largest transaction data"
   ]
  },
  {
   "cell_type": "code",
   "execution_count": null,
   "id": "23753018-0ea5-4ecb-910e-e834b99ca153",
   "metadata": {},
   "outputs": [],
   "source": [
    "month_purchases = purchases[['TIMEID', 'TRANSACTION_VALUE']]\n",
    "months = {'01': 'January', '02':'February', '03':'March', '04':'April', '05':'May', '06':'June', '07':'July', '08':'August', '09':'September', '10':'October', '11':'November', '12':'December'}\n",
    "month_purchases['MONTH'] = month_purchases['TIMEID'].apply(lambda e: months[e[4:6]])\n",
    "month_sums = month_purchases.groupby('MONTH').sum().rename(columns={\"TRANSACTION_VALUE\": \"Sum\"}).reset_index()\n",
    "top_three = px.bar(month_sums.nlargest(n=3, columns=['Sum']), x='Sum', y='MONTH', labels={'Sum':'Total Purchases (Dollars)', 'MONTH':'Month'}, title=\"Top Three Months\", orientation='h')\n",
    "# show from most to least\n",
    "top_three.update_layout(yaxis={'categoryorder':'total ascending'})"
   ]
  },
  {
   "cell_type": "markdown",
   "id": "d6d48820-0ba6-4935-99a7-b78e00da8d3f",
   "metadata": {},
   "source": [
    "#### Healthcare transactions"
   ]
  },
  {
   "cell_type": "code",
   "execution_count": null,
   "id": "b7342c5e-df16-41f1-b304-080afc4b69f7",
   "metadata": {},
   "outputs": [],
   "source": [
    "branch_spendings = purchases[['BRANCH_CODE', 'TRANSACTION_TYPE', 'TRANSACTION_VALUE']]\n",
    "branch_spendings = branch_spendings.groupby(['TRANSACTION_TYPE', 'BRANCH_CODE']).sum().unstack()\n",
    "branch_spendings = branch_spendings.loc['Healthcare'].to_frame().reset_index().drop(['level_0'], axis=1).rename(columns={\"Healthcare\": \"BRANCH_SUM\"})\n",
    "branch_spendings\n",
    "health_spend = px.scatter(branch_spendings, x='BRANCH_CODE', y='BRANCH_SUM', size='BRANCH_SUM', title=\"Healthcare Spendings (Dollars) by Branch\")\n",
    "health_spend.show()"
   ]
  },
  {
   "cell_type": "markdown",
   "id": "da097ff7-edeb-4042-b20c-6b700cd76919",
   "metadata": {},
   "source": [
    "### Import from API"
   ]
  },
  {
   "cell_type": "code",
   "execution_count": null,
   "id": "de993ad2-a6e9-464f-922d-b2b806227ea9",
   "metadata": {},
   "outputs": [],
   "source": [
    "import requests\n",
    "import json\n",
    "response = requests.get(\"https://raw.githubusercontent.com/platformps/LoanDataset/main/loan_data.json\")\n",
    "print(response)"
   ]
  },
  {
   "cell_type": "code",
   "execution_count": null,
   "id": "65746b2d-f3b8-4670-922b-7fe9b0de35db",
   "metadata": {},
   "outputs": [],
   "source": [
    "loans = response.json()\n",
    "loans = spark.createDataFrame(data=loans)\n",
    "loans.printSchema()"
   ]
  },
  {
   "cell_type": "code",
   "execution_count": null,
   "id": "e173be8e-6ba2-4048-93fb-1ad26898515a",
   "metadata": {},
   "outputs": [],
   "source": [
    "loans.write.format(\"jdbc\") \\\n",
    "  .mode(\"overwrite\") \\\n",
    "  .option(\"url\", \"jdbc:mysql://localhost:3306/credit_capstone\") \\\n",
    "  .option(\"dbtable\", \"credit_capstone.cdw_sapp_loan_application\") \\\n",
    "  .option(\"user\", \"root\") \\\n",
    "  .option(\"password\", \"root\") \\\n",
    "  .save()"
   ]
  },
  {
   "cell_type": "code",
   "execution_count": null,
   "id": "ccad8e98-3cd4-4782-916a-1f2551a026be",
   "metadata": {},
   "outputs": [],
   "source": [
    "df = loans.toPandas()"
   ]
  },
  {
   "cell_type": "code",
   "execution_count": null,
   "id": "a1b4514b-c792-489f-8e75-b72008222a2d",
   "metadata": {},
   "outputs": [],
   "source": [
    "df.head()"
   ]
  },
  {
   "cell_type": "markdown",
   "id": "df3fc514-b59a-4221-b2d2-90da4bd7e795",
   "metadata": {},
   "source": [
    "#### Difference in application approvals for Married Men vs Married Women based on income ranges"
   ]
  },
  {
   "cell_type": "code",
   "execution_count": null,
   "id": "1cbb29bf-769c-4b73-9de3-ce7d296a2fb4",
   "metadata": {},
   "outputs": [],
   "source": [
    "married_only = df[df['Married'] =='Yes']\n",
    "approvals_only = married_only[married_only['Application_Status']=='Y']"
   ]
  },
  {
   "cell_type": "code",
   "execution_count": null,
   "id": "130dbe17-e128-4a1a-a133-f3d9fad4a3b8",
   "metadata": {},
   "outputs": [],
   "source": [
    "married_income_app = approvals_only[['Gender', 'Income']].value_counts().to_frame().rename(columns={0:'Count'}) \\\n",
    ".plot(kind='barh', title='Income-based Approvals between Married Men and Married Women for Credit')"
   ]
  },
  {
   "cell_type": "markdown",
   "id": "2e0dbdc5-a4f7-4b09-b024-5f7e7f25f3fb",
   "metadata": {},
   "source": [
    "#### Difference in application approvals based on Property Area"
   ]
  },
  {
   "cell_type": "code",
   "execution_count": null,
   "id": "70448ebd-3bca-4ef6-934f-feeb5234249a",
   "metadata": {},
   "outputs": [],
   "source": [
    "prop_approval = df[df['Application_Status']=='Y']\n",
    "prop_app = prop_approval[['Property_Area', 'Application_Status']].value_counts().to_frame().rename(columns={0:'Count'}).plot(kind='barh', title='Property Area based Approval for Credit')"
   ]
  },
  {
   "cell_type": "code",
   "execution_count": null,
   "id": "c57d3bbb-6af7-489c-bdbe-2420c4efd9bf",
   "metadata": {},
   "outputs": [],
   "source": [
    "approved = df[df['Application_Status'] =='Y']\n",
    "\n",
    "# fig, ax = plt.subplots()\n",
    "# ax.plot(approved.groupby(['Credit_History']).count().reset_index()['Application_ID'].to_frame(), label='Credit_History')\n",
    "# ax.plot(approved.groupby(['Dependents']).count().reset_index()['Application_ID'].to_frame(), label='Dependents')\n",
    "# ax.plot(approved.groupby(['Education']).count().reset_index()['Application_ID'].to_frame(), label='Education')\n",
    "# ax.plot(approved.groupby(['Income']).count().reset_index()['Application_ID'].to_frame(), label='Income')\n",
    "# ax.plot(approved.groupby(['Married']).count().reset_index()['Application_ID'].to_frame(), label='Married')\n",
    "# ax.plot(approved.groupby(['Property_Area']).count().reset_index()['Application_ID'].to_frame(), label='Property_Area')\n",
    "# ax.plot(approved.groupby(['Self_Employed']).count().reset_index()['Application_ID'].to_frame(), label='Self_Employed')\n",
    "# ax.legend(bbox_to_anchor=(1.05, 1), loc=\"upper left\")\n",
    "# plt.show()\n",
    "\n",
    "approved['Dependents'].value_counts().to_frame().plot(kind='bar')\n"
   ]
  },
  {
   "cell_type": "code",
   "execution_count": null,
   "id": "93cc6dbc-70b3-417e-9938-1a262ab7a351",
   "metadata": {},
   "outputs": [],
   "source": [
    "cred_app = sns.countplot(x='Application_Status', hue='Credit_History', data=df, palette='rainbow')"
   ]
  },
  {
   "cell_type": "code",
   "execution_count": null,
   "id": "42f755ff-7513-4603-a432-566a232485da",
   "metadata": {},
   "outputs": [],
   "source": [
    "dep_app = sns.countplot(x='Application_Status', hue='Dependents', data=df, palette='rainbow')"
   ]
  },
  {
   "cell_type": "code",
   "execution_count": null,
   "id": "bee7e15d-2710-4b52-bef4-90b94aa96e6a",
   "metadata": {},
   "outputs": [],
   "source": [
    "edu_app = sns.countplot(x='Application_Status', hue='Education', data=df, palette='rainbow')"
   ]
  },
  {
   "cell_type": "code",
   "execution_count": null,
   "id": "89e98519-32a9-469d-9dea-75b014e70fdf",
   "metadata": {},
   "outputs": [],
   "source": [
    "income_app = sns.countplot(x='Application_Status', hue='Income', data=df, palette='rainbow')"
   ]
  },
  {
   "cell_type": "code",
   "execution_count": null,
   "id": "b38cac91-56e7-4ca2-9771-520a8524b8c4",
   "metadata": {},
   "outputs": [],
   "source": [
    "married_app = sns.countplot(x='Application_Status', hue='Married', data=df, palette='rainbow')"
   ]
  },
  {
   "cell_type": "code",
   "execution_count": null,
   "id": "5458f822-7f8b-4cd1-97b8-668bbd504914",
   "metadata": {},
   "outputs": [],
   "source": [
    "sns.countplot(x='Application_Status', hue='Property_Area', data=df, palette='rainbow')"
   ]
  },
  {
   "cell_type": "code",
   "execution_count": null,
   "id": "53bf3773-3244-4e6d-b5ad-3813e8cb40cf",
   "metadata": {},
   "outputs": [],
   "source": [
    "emp_app = sns.countplot(x='Application_Status', hue='Self_Employed', data=df, palette='rainbow')"
   ]
  },
  {
   "cell_type": "code",
   "execution_count": null,
   "id": "e04de108-b31c-427f-86f9-e0973762da0b",
   "metadata": {},
   "outputs": [],
   "source": [
    "self_employed = pd.get_dummies(df['Self_Employed'], drop_first=True).rename(columns={'Yes': 'self_employed'})\n",
    "property_area = pd.get_dummies(df['Property_Area'])\n",
    "application_status = pd.get_dummies(df['Application_Status'], drop_first=True)\n",
    "married = pd.get_dummies(df['Married'], drop_first=True).rename(columns={'Yes': 'married'})\n",
    "income = pd.get_dummies(df['Income'], drop_first=True)\n",
    "education = pd.get_dummies(df['Education'], drop_first=True)\n",
    "dependents = pd.get_dummies(df['Dependents'])\n",
    "credit_history = pd.get_dummies(df['Credit_History'], drop_first=True)\n",
    "gender = pd.get_dummies(df['Gender'], drop_first=True)"
   ]
  },
  {
   "cell_type": "code",
   "execution_count": null,
   "id": "f74ac80f-167c-43a1-8cd5-727675de978c",
   "metadata": {},
   "outputs": [],
   "source": [
    "X = pd.concat([self_employed, married, education, credit_history, gender], axis=1).rename(columns={'Yes': 'self_employed_yes', 'Yes':'married_yes', 1:'credit_history_1'})\n",
    "y = application_status"
   ]
  },
  {
   "cell_type": "code",
   "execution_count": null,
   "id": "02351e8d-1fc6-4594-b1e5-37b79528eecb",
   "metadata": {},
   "outputs": [],
   "source": [
    "from sklearn.model_selection import train_test_split"
   ]
  },
  {
   "cell_type": "code",
   "execution_count": null,
   "id": "c7689751-877b-434b-85c0-f3844a89052b",
   "metadata": {},
   "outputs": [],
   "source": [
    "X_train, X_test, y_train, y_test = train_test_split(X, y, test_size=.3, random_state=42)"
   ]
  },
  {
   "cell_type": "code",
   "execution_count": null,
   "id": "0880d92a-d4e2-4bfe-92f2-5adac556d586",
   "metadata": {},
   "outputs": [],
   "source": [
    "from sklearn.linear_model import LogisticRegression"
   ]
  },
  {
   "cell_type": "code",
   "execution_count": null,
   "id": "e78b8253-aecd-460e-b10c-23518f4bec51",
   "metadata": {},
   "outputs": [],
   "source": [
    "logmodel = LogisticRegression()\n",
    "logmodel.fit(X_train,y_train.values.ravel())"
   ]
  },
  {
   "cell_type": "code",
   "execution_count": null,
   "id": "0730e724-27be-45b8-afe9-6e95ee51f180",
   "metadata": {},
   "outputs": [],
   "source": [
    "predictions = logmodel.predict(X_test)"
   ]
  },
  {
   "cell_type": "code",
   "execution_count": null,
   "id": "74a7c53e-b395-4f66-957e-348ae09192be",
   "metadata": {},
   "outputs": [],
   "source": [
    "from sklearn.metrics import classification_report\n",
    "print(classification_report(y_test,predictions))"
   ]
  },
  {
   "cell_type": "code",
   "execution_count": null,
   "id": "2d3cc354-c4f0-4af4-a28c-753c5d174ed2",
   "metadata": {},
   "outputs": [],
   "source": [
    "from sklearn.metrics import confusion_matrix\n",
    "confusion_matrix(y_test, predictions)"
   ]
  },
  {
   "cell_type": "code",
   "execution_count": null,
   "id": "b27588a1-7ec1-4d23-ad43-ea121638f450",
   "metadata": {},
   "outputs": [],
   "source": [
    "import dash\n",
    "from dash import html\n",
    "from dash import dcc"
   ]
  },
  {
   "cell_type": "code",
   "execution_count": null,
   "id": "3cc201a1-3d43-469b-8bad-a5d5d44e6491",
   "metadata": {},
   "outputs": [],
   "source": [
    "app = dash.Dash(__name__)\n",
    "app.layout = html.Div(children=[html.H1('Credit Visualization',\n",
    "                                    style={'textAlign': 'center',\n",
    "                                        'color': '#503D36',\n",
    "                                        'font-size': 40}),\n",
    "                                html.P('How do demographics affect credit acceptance?',\n",
    "                                    style={'textAlign':'center', 'color': '#F57241'}),\n",
    "                                dcc.Graph(figure=transactions_by_state),\n",
    "                                dcc.Graph(figure=cust_totals),\n",
    "                                dcc.Graph(figure=top_three),\n",
    "                                dcc.Graph(figure=health_spend),\n",
    "                    ])\n",
    "app.run_server()"
   ]
  },
  {
   "cell_type": "code",
   "execution_count": null,
   "id": "abab3b3a-1de4-499c-8d4d-56ecd9b07677",
   "metadata": {},
   "outputs": [],
   "source": [
    "spark.stop()"
   ]
  }
 ],
 "metadata": {
  "kernelspec": {
   "display_name": "Python 3 (ipykernel)",
   "language": "python",
   "name": "python3"
  },
  "language_info": {
   "codemirror_mode": {
    "name": "ipython",
    "version": 3
   },
   "file_extension": ".py",
   "mimetype": "text/x-python",
   "name": "python",
   "nbconvert_exporter": "python",
   "pygments_lexer": "ipython3",
   "version": "3.10.5"
  }
 },
 "nbformat": 4,
 "nbformat_minor": 5
}
