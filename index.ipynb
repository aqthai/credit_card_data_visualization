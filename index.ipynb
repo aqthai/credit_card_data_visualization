{
 "cells": [
  {
   "cell_type": "markdown",
   "id": "80946130-544e-4b3f-82cc-1071b048d185",
   "metadata": {},
   "source": [
    "### Data Extraction and Transformation with Python and PySpark\n"
   ]
  },
  {
   "cell_type": "code",
   "execution_count": 1,
   "id": "e8cf2d7e-f914-4cef-9d77-8d066fe47c88",
   "metadata": {},
   "outputs": [
    {
     "name": "stdout",
     "output_type": "stream",
     "text": [
      "root\n",
      " |-- BRANCH_CODE: long (nullable = true)\n",
      " |-- BRANCH_NAME: string (nullable = true)\n",
      " |-- BRANCH_STREET: string (nullable = true)\n",
      " |-- BRANCH_CITY: string (nullable = true)\n",
      " |-- BRANCH_STATE: string (nullable = true)\n",
      " |-- BRANCH_ZIP: long (nullable = true)\n",
      " |-- BRANCH_PHONE: string (nullable = true)\n",
      " |-- LAST_UPDATED: timestamp (nullable = true)\n",
      "\n",
      "root\n",
      " |-- SSN: long (nullable = true)\n",
      " |-- FIRST_NAME: string (nullable = true)\n",
      " |-- MIDDLE_NAME: string (nullable = true)\n",
      " |-- LAST_NAME: string (nullable = true)\n",
      " |-- Credit_card_no: string (nullable = true)\n",
      " |-- FULL_STREET_ADDRESS: string (nullable = true)\n",
      " |-- CUST_CITY: string (nullable = true)\n",
      " |-- CUST_STATE: string (nullable = true)\n",
      " |-- CUST_COUNTRY: string (nullable = true)\n",
      " |-- CUST_ZIP: long (nullable = true)\n",
      " |-- CUST_PHONE: string (nullable = true)\n",
      " |-- CUST_EMAIL: string (nullable = true)\n",
      " |-- LAST_UPDATED: timestamp (nullable = true)\n",
      "\n",
      "root\n",
      " |-- CUST_CC_NO: string (nullable = true)\n",
      " |-- TIMEID: string (nullable = true)\n",
      " |-- CUST_SSN: long (nullable = true)\n",
      " |-- BRANCH_CODE: long (nullable = true)\n",
      " |-- TRANSACTION_TYPE: string (nullable = true)\n",
      " |-- TRANSACTION_VALUE: double (nullable = true)\n",
      " |-- TRANSACTION_ID: long (nullable = true)\n",
      "\n"
     ]
    }
   ],
   "source": [
    "from datetime import datetime\n",
    "from datetime import date\n",
    "from pyspark.sql import SparkSession\n",
    "from pyspark.sql.types import StructType,StructField,StringType,IntegerType,FloatType\n",
    "\n",
    "spark = SparkSession.builder.appName('capstone').getOrCreate()\n",
    "branches = spark.read.json(\"cdw_sapp_branch.json\")\n",
    "customers = spark.read.json(\"cdw_sapp_customer.json\")\n",
    "credits = spark.read.json(\"cdw_sapp_credit.json\")\n",
    "\n",
    "branchRDD = branches.rdd.map(lambda x: (x[1], x[2], x[5], x[0], x[4], x[6], '('+x[3][:3]+')'+x[3][3:6]+'-'+x[3][6:], datetime.fromisoformat(x[7])))\n",
    "branches = spark.createDataFrame(data=branchRDD, schema=[\"BRANCH_CODE\", \"BRANCH_NAME\", \"BRANCH_STREET\", \"BRANCH_CITY\", \"BRANCH_STATE\", \"BRANCH_ZIP\", \"BRANCH_PHONE\", \"LAST_UPDATED\"])\n",
    "branches.printSchema()\n",
    "customerRDD = customers.rdd.map(lambda x: (int(x[12]), x[8].title(), x[11].lower(), x[9].title(), x[1], x[13]+\", \"+x[0], x[2], x[6], x[3], int(x[7]), str(x[5])[:3]+\"-\"+str(x[5])[3:], x[4], datetime.fromisoformat(x[10])))\n",
    "customers = spark.createDataFrame(data=customerRDD, schema=[\"SSN\",\"FIRST_NAME\",\"MIDDLE_NAME\", \"LAST_NAME\", \"Credit_card_no\", \"FULL_STREET_ADDRESS\", \"CUST_CITY\", \"CUST_STATE\", \"CUST_COUNTRY\", \"CUST_ZIP\", \"CUST_PHONE\", \"CUST_EMAIL\", \"LAST_UPDATED\"])\n",
    "customers.printSchema()\n",
    "creditRDD = credits.rdd.map(lambda x: (x[1], date(x[8], x[4], x[3]).strftime('%Y%m%d'), x[2], x[0], x[6], x[7], x[5]))  \n",
    "credits = spark.createDataFrame(data=creditRDD, schema=[\"CUST_CC_NO\", \"TIMEID\", \"CUST_SSN\", \"BRANCH_CODE\", \"TRANSACTION_TYPE\", \"TRANSACTION_VALUE\", \"TRANSACTION_ID\"])\n",
    "credits.printSchema()"
   ]
  },
  {
   "cell_type": "markdown",
   "id": "937d31ef-0016-41dc-9d8b-89ccd41d7f34",
   "metadata": {},
   "source": [
    "### Data loading into Database"
   ]
  },
  {
   "cell_type": "code",
   "execution_count": null,
   "id": "805a0c36-ae11-46dc-8b98-b7320ad8f6bf",
   "metadata": {},
   "outputs": [],
   "source": [
    "branches.write.format(\"jdbc\") \\\n",
    "  .mode(\"overwrite\") \\\n",
    "  .option(\"url\", \"jdbc:mysql://localhost:3306/credit_capstone\") \\\n",
    "  .option(\"dbtable\", \"credit_capstone.cdw_sapp_branch\") \\\n",
    "  .option(\"user\", \"root\") \\\n",
    "  .option(\"password\", \"root\") \\\n",
    "  .save()\n",
    "customers.write.format(\"jdbc\") \\\n",
    "  .mode(\"overwrite\") \\\n",
    "  .option(\"url\", \"jdbc:mysql://localhost:3306/credit_capstone\") \\\n",
    "  .option(\"dbtable\", \"credit_capstone.cdw_sapp_customer\") \\\n",
    "  .option(\"user\", \"root\") \\\n",
    "  .option(\"password\", \"root\") \\\n",
    "  .save()\n",
    "credits.write.format(\"jdbc\") \\\n",
    "  .mode(\"overwrite\") \\\n",
    "  .option(\"url\", \"jdbc:mysql://localhost:3306/credit_capstone\") \\\n",
    "  .option(\"dbtable\", \"credit_capstone.cdw_sapp_credit_card\") \\\n",
    "  .option(\"user\", \"root\") \\\n",
    "  .option(\"password\", \"root\") \\\n",
    "  .save()"
   ]
  },
  {
   "cell_type": "code",
   "execution_count": null,
   "id": "abab3b3a-1de4-499c-8d4d-56ecd9b07677",
   "metadata": {},
   "outputs": [],
   "source": [
    "spark.stop()"
   ]
  },
  {
   "cell_type": "markdown",
   "id": "da097ff7-edeb-4042-b20c-6b700cd76919",
   "metadata": {},
   "source": [
    "### Import from API"
   ]
  },
  {
   "cell_type": "code",
   "execution_count": null,
   "id": "de993ad2-a6e9-464f-922d-b2b806227ea9",
   "metadata": {},
   "outputs": [],
   "source": [
    "import requests\n",
    "import json\n",
    "response = requests.get(\"https://raw.githubusercontent.com/platformps/LoanDataset/main/loan_data.json\")\n",
    "print(response)"
   ]
  },
  {
   "cell_type": "code",
   "execution_count": null,
   "id": "65746b2d-f3b8-4670-922b-7fe9b0de35db",
   "metadata": {},
   "outputs": [],
   "source": [
    "loans = response.json()\n",
    "loans = spark.createDataFrame(data=loans, schema=[\"Application_ID\", \"Gender\", \"Married\", \"Dependents\", \"Education\", \"Self_Employed\", \"Credit_History\", \"Property_Area\", \"Income\", \"Application_Status\"])\n",
    "loans.printSchema()"
   ]
  },
  {
   "cell_type": "markdown",
   "id": "0f9853b3-af17-4e9a-b52b-f5d2e81c7b01",
   "metadata": {},
   "source": [
    "### Load to RDBMS"
   ]
  },
  {
   "cell_type": "code",
   "execution_count": null,
   "id": "e173be8e-6ba2-4048-93fb-1ad26898515a",
   "metadata": {},
   "outputs": [],
   "source": [
    "loans.write.format(\"jdbc\") \\\n",
    "  .mode(\"overwrite\") \\\n",
    "  .option(\"url\", \"jdbc:mysql://localhost:3306/credit_capstone\") \\\n",
    "  .option(\"dbtable\", \"credit_capstone.cdw_sapp_loan_application\") \\\n",
    "  .option(\"user\", \"root\") \\\n",
    "  .option(\"password\", \"root\") \\\n",
    "  .save()"
   ]
  },
  {
   "cell_type": "code",
   "execution_count": 2,
   "id": "435c0149-650c-460f-9bae-c4c55b8eeb6b",
   "metadata": {},
   "outputs": [],
   "source": [
    "branches.createTempView(\"branches\")\n",
    "customers.createTempView(\"customers\")\n",
    "credits.createTempView(\"credit_card\")\n",
    "# loans.createTempView(\"loans\")"
   ]
  },
  {
   "cell_type": "code",
   "execution_count": 4,
   "id": "8a7a20f0-ae2b-49d6-b729-4897eb98d574",
   "metadata": {},
   "outputs": [
    {
     "name": "stdout",
     "output_type": "stream",
     "text": [
      "+--------+--------------+----------------+-----------------+\n",
      "|  TIMEID|TRANSACTION_ID|TRANSACTION_TYPE|TRANSACTION_VALUE|\n",
      "+--------+--------------+----------------+-----------------+\n",
      "|20180928|         20300|      Healthcare|            68.14|\n",
      "|20180928|          7553|         Grocery|            65.53|\n",
      "|20180928|          2003|      Healthcare|            72.55|\n",
      "|20180928|         21083|         Grocery|             44.5|\n",
      "|20180928|         27507|            Test|            69.28|\n",
      "+--------+--------------+----------------+-----------------+\n",
      "only showing top 5 rows\n",
      "\n"
     ]
    }
   ],
   "source": [
    "spark.sql(\"SELECT t.TIMEID, t.TRANSACTION_ID, t.TRANSACTION_TYPE, t.TRANSACTION_VALUE \\\n",
    "          FROM branches b, customers c, credit_card t \\\n",
    "          WHERE b.BRANCH_CODE = t.BRANCH_CODE and t.CUST_CC_NO = c.Credit_card_no and t.TIMEID LIKE '201809%' and c.CUST_ZIP > 90000 and c.CUST_ZIP < 99000 \\\n",
    "          ORDER BY t.TIMEID DESC\").show(5)"
   ]
  },
  {
   "cell_type": "code",
   "execution_count": null,
   "id": "aad54819-06e5-4f08-a052-dd4bd95399e1",
   "metadata": {},
   "outputs": [],
   "source": [
    "spark.sql(\"SELECT t.TRANSACTION_TYPE, count(*) AS Orders, round(sum(t.TRANSACTION_VALUE), 2) AS Total \\\n",
    "          FROM credit_card t \\\n",
    "          GROUP BY t.TRANSACTION_TYPE\").show()"
   ]
  },
  {
   "cell_type": "code",
   "execution_count": null,
   "id": "b8efc0c1-3612-4e4e-a1a7-b94302141af6",
   "metadata": {},
   "outputs": [],
   "source": [
    "spark.sql(\"SELECT t.BRANCH_CODE as Branch, count(*) AS Orders, round(sum(t.TRANSACTION_VALUE), 2) AS Total \\\n",
    "          FROM credit_card t JOIN branches b on t.BRANCH_CODE = b.BRANCH_CODE \\\n",
    "          WHERE b.BRANCH_STATE = 'FL' \\\n",
    "          GROUP BY t.BRANCH_CODE\").show()"
   ]
  },
  {
   "cell_type": "code",
   "execution_count": null,
   "id": "2dc5f276-8863-4242-accc-c5a1ee43c6f6",
   "metadata": {},
   "outputs": [],
   "source": [
    "spark.sql(\"SELECT * \\\n",
    "          FROM customers c \\\n",
    "          WHERE c.SSN = 123456100\").show()"
   ]
  },
  {
   "cell_type": "code",
   "execution_count": null,
   "id": "54ff0782-aba2-4352-9824-20960da0c7f6",
   "metadata": {},
   "outputs": [],
   "source": [
    "import mysql.connector as mariadb\n",
    "from mysql.connector import Error\n",
    "\n",
    "try:\n",
    "    connection = mariadb.connect(host='localhost',\n",
    "                                         database='credit_capstone',\n",
    "                                         user='root',\n",
    "                                         password='root')\n",
    "    if connection.is_connected():\n",
    "        db_Info = connection.get_server_info()\n",
    "        print(\"Connected to SQL  version \", db_Info)\n",
    "        cursor = connection.cursor()\n",
    "        SQLQuery =\"UPDATE customers SET Credit_card_no = 4210653310061068 WHERE Credit_card_no = 4210653310061055\";\n",
    "        cursor.execute(SQLQuery)\n",
    "except Error as e:\n",
    "        print(\"Error while connecting to Database\", e)\n",
    "finally:\n",
    "        if connection.is_connected():\n",
    "            cursor.close()\n",
    "            connection.close()\n",
    "            print(\"Database connection is closed\")\n",
    "\n",
    "# tempView does not support update function\n",
    "# spark.sql(\"UPDATE customers \\\n",
    "#           SET Credit_card_no = 4210653310061068 \\\n",
    "#           WHERE Credit_card_no = 4210653310061055\").show()"
   ]
  },
  {
   "cell_type": "code",
   "execution_count": 16,
   "id": "5ac019fb-4320-4f91-83ec-750dd7091172",
   "metadata": {},
   "outputs": [
    {
     "name": "stdout",
     "output_type": "stream",
     "text": [
      "+--------------------------------+\n",
      "|round(sum(TRANSACTION_VALUE), 2)|\n",
      "+--------------------------------+\n",
      "|                          712.51|\n",
      "+--------------------------------+\n",
      "\n"
     ]
    }
   ],
   "source": [
    "spark.sql(\"SELECT round(sum(t.TRANSACTION_VALUE), 2) \\\n",
    "          FROM credit_card t \\\n",
    "          WHERE t.CUST_CC_NO = '4210653349028689' and startswith(t.TIMEID, '201809')\").show()"
   ]
  },
  {
   "cell_type": "code",
   "execution_count": 20,
   "id": "46e931e3-b798-485c-a7b5-da16bc972e61",
   "metadata": {},
   "outputs": [
    {
     "name": "stdout",
     "output_type": "stream",
     "text": [
      "+--------+--------------+----------------+-----------------+\n",
      "|  TIMEID|TRANSACTION_ID|TRANSACTION_TYPE|TRANSACTION_VALUE|\n",
      "+--------+--------------+----------------+-----------------+\n",
      "|20180528|             6|       Education|             6.89|\n",
      "|20180519|             7|   Entertainment|            43.39|\n",
      "|20180517|            15|           Bills|             29.0|\n",
      "|20180511|            24|            Test|            32.81|\n",
      "|20180511|            26|            Test|             86.3|\n",
      "|20180604|            43|             Gas|            83.33|\n",
      "|20180512|            48|       Education|             3.79|\n",
      "|20180624|            60|   Entertainment|            72.17|\n",
      "|20180607|            69|            Test|             93.2|\n",
      "|20180612|            71|           Bills|            87.58|\n",
      "|20180613|            79|             Gas|            66.48|\n",
      "+--------+--------------+----------------+-----------------+\n",
      "\n"
     ]
    }
   ],
   "source": [
    "spark.sql(\"SELECT t.TIMEID, t.TRANSACTION_ID, t.TRANSACTION_TYPE, t.TRANSACTION_VALUE \\\n",
    "          FROM credit_card t \\\n",
    "          WHERE t.CUST_CC_NO = '4210653349028689' and t.TIMEID > '20180501' and t.TIMEID < '20180701' \\\n",
    "          ORDER BY EXTRACT(YEAR FROM t.TIMEID), EXTRACT(MONTH FROM t.TIMEID), EXTRACT(DAY FROM t.TIMEID) DESC\").show()"
   ]
  },
  {
   "cell_type": "markdown",
   "id": "18102d3c-41b4-4431-91d1-d2d13ca0deb9",
   "metadata": {},
   "source": [
    "### Data Analysis and Visualization"
   ]
  },
  {
   "cell_type": "code",
   "execution_count": 15,
   "id": "eda8f92e-2024-4574-88ea-18dce36d8426",
   "metadata": {},
   "outputs": [],
   "source": [
    "import pandas as pd\n",
    "import numpy as np\n",
    "import matplotlib.pyplot as plt\n",
    "import plotly.express as px\n",
    "import seaborn as sns\n",
    "%matplotlib inline"
   ]
  },
  {
   "cell_type": "code",
   "execution_count": 16,
   "id": "00376df5-bbf9-4d9a-a12f-21204a307fe8",
   "metadata": {},
   "outputs": [
    {
     "data": {
      "image/png": "[encoded data removed]",
      "text/plain": [
       "<Figure size 432x288 with 1 Axes>"
      ]
     },
     "metadata": {
      "needs_background": "light"
     },
     "output_type": "display_data"
    }
   ],
   "source": [
    "purchases = credits.toPandas()\n",
    "ax = sns.countplot(data=purchases, y='TRANSACTION_TYPE')"
   ]
  },
  {
   "cell_type": "code",
   "execution_count": 6,
   "id": "20d8e5ab-f897-4df6-92dc-5ad56f4db7df",
   "metadata": {},
   "outputs": [
    {
     "data": {
      "image/png": "[encoded data removed]",
      "text/plain": [
       "<Figure size 432x288 with 1 Axes>"
      ]
     },
     "metadata": {
      "needs_background": "light"
     },
     "output_type": "display_data"
    }
   ],
   "source": [
    "customers = customers.toPandas()\n",
    "ax = sns.countplot(data=customers, y=\"CUST_STATE\")"
   ]
  },
  {
   "cell_type": "code",
   "execution_count": 15,
   "id": "3fca2101-4c2d-4a82-b56f-76db332c8c86",
   "metadata": {},
   "outputs": [
    {
     "data": {
      "application/vnd.plotly.v1+json": {
       "config": {
        "plotlyServerURL": "https://plot.ly"
       },
       "data": [
        {
         "hovertemplate": "Sum=%{x}<br>CUST_SSN=%{y}<extra></extra>",
         "legendgroup": "",
         "marker": {
          "color": "#636efa",
          "symbol": "circle"
         },
         "mode": "markers",
         "name": "",
         "orientation": "h",
         "showlegend": false,
         "type": "scatter",
         "x": [
          2037.98,
          4025.69,
          2122.2,
          1085.14,
          2810.54,
          1708.85,
          873.39,
          3834.75,
          3367.16,
          2138.46,
          410.15,
          3372.61,
          4547.2,
          4355.57,
          5633.07,
          4412.48,
          3564.58,
          2989.93,
          4503.37,
          1902.6,
          4809.21,
          322.47,
          1776.51,
          3677.7,
          4428.31,
          1769.09,
          3489.62,
          2483.67,
          4003.14,
          1256.79,
          2195.38,
          4981.72,
          3590.15,
          1066.21,
          3876.22,
          3839.32,
          2500.7400000000002,
          3341.89,
          3149.88,
          244.61,
          2131.3,
          4236.6,
          2376.64,
          1046.36,
          3057.35,
          2275.7,
          1449.7,
          3755.86,
          2606.17,
          4161.92,
          224.71,
          2094.48,
          2370.25,
          2074.64,
          2898.43,
          1405.88,
          1157.25,
          204.6,
          2561,
          4245.35,
          2933.9,
          1483.5,
          1020.85,
          2795.93,
          502.05,
          2612.11,
          2710.51,
          2434.83,
          953.24,
          5023.65,
          4691.1900000000005,
          4072.79,
          446.27,
          1108.6699999999998,
          419.38,
          4822.37,
          4489.29,
          3456.75,
          2823.57,
          4238.99,
          3636.5099999999998,
          653.51,
          2.15,
          172.2,
          1434.29,
          2558.13,
          3542.4700000000003,
          835.05,
          4893.2699999999995,
          2972.94,
          326.96000000000004,
          268.85,
          4772.15,
          1710.56,
          1589.66,
          475.84,
          2546.86,
          2753.51,
          4596.49,
          5241.18,
          2162.32,
          2721.98,
          5133.29,
          3708.75,
          4233.22,
          140.52,
          674.76,
          172.64,
          1796.03,
          3230.51,
          2749.78,
          329.66999999999996,
          4946.37,
          4711.9800000000005,
          3529.12,
          865.83,
          1007.7,
          3201.23,
          333.24,
          1690.64,
          1118.28,
          336.12,
          1288.24,
          3512.27,
          4206.45,
          1362.15,
          2800.41,
          2880.07,
          690.91,
          10.41,
          2759.11,
          4309.33,
          4264.6,
          3665.54,
          3047.83,
          1329.98,
          1387.87,
          659.12,
          1472.8899999999999,
          3466.08,
          3034.79,
          2143.57,
          2177.86,
          2052.51,
          4471.92,
          2692.56,
          4168.41,
          4641.94,
          3328.48,
          1314.95,
          2058.18,
          3170,
          5223.96,
          1985.94,
          3038.08,
          101.44999999999999,
          1919.49,
          2274.27,
          955.36,
          2959.72,
          580.3,
          1153.2,
          4643.96,
          339.14,
          2697.27,
          2695.6,
          3955.14,
          1128.49,
          3199.26,
          2757.45,
          4537.33,
          623.4399999999999,
          4184.62,
          2547,
          4512.39,
          2153.66,
          4343.96,
          5548.14,
          1744.02,
          1594.91,
          126.92000000000002,
          86.76,
          2883.91,
          5008.23,
          4995.1,
          668.59,
          2411.96,
          355.54,
          3804.25,
          3382.54,
          1945.49,
          3978.85,
          551.1899999999999,
          4288.13,
          3154.69,
          1013.22,
          3513.02,
          538.27,
          3537.47,
          1350.94,
          2884.31,
          3305.89,
          894.0699999999999,
          2948.57,
          3345.03,
          3572.79,
          1578.65,
          4384.06,
          2176.4700000000003,
          2822.18,
          697.06,
          3507.44,
          3862.28,
          4719.65,
          2866.09,
          1917.91,
          907.36,
          1045.42,
          1426.66,
          690.36,
          560.62,
          3084.56,
          2213.19,
          786.45,
          582.99,
          1308.24,
          2415.23,
          3751.53,
          3640.05,
          836.18,
          1304.97,
          1780.53,
          661.04,
          2662.23,
          2719.59,
          2846.83,
          2214.66,
          2601.65,
          73.08,
          1986.14,
          1203.9099999999999,
          3623.25,
          1664.47,
          4092.88,
          1602.52,
          832.69,
          2982.6,
          1231.67,
          5476.08,
          840.69,
          4703.97,
          3615.63,
          4835.41,
          4917.59,
          2426.63,
          3025.27,
          2962.19,
          3801.3,
          4402.84,
          2508.43,
          4564.2,
          3865.23,
          702.96,
          3626.93,
          1323.82,
          2548.3,
          3586.4,
          1183.37,
          1552.59,
          3548.92,
          834.57,
          2802.05,
          3370.52,
          735.81,
          3483.68,
          4122.32,
          1382.81,
          757.92,
          2307.55,
          3660.18,
          2964.58,
          4434.18,
          3514.42,
          1353.58,
          2612.07,
          3045.21,
          3147.33,
          4174.68,
          4574.41,
          4327.34,
          2312.57,
          328.23,
          1620.33,
          2819.69,
          1801.44,
          4498.93,
          4063.58,
          4004.13,
          1983.2,
          1402.2,
          321.15,
          3689.9700000000003,
          854.1899999999999,
          2202.2799999999997,
          919.92,
          3786.1,
          3395.14,
          945.78,
          2153.16,
          3021.1,
          2616.5,
          4758.65,
          3501.89,
          700.6,
          177.77,
          1228.43,
          728.9,
          842.04,
          580.84,
          4347.3,
          3284.88,
          4324.27,
          3356.48,
          2529.05,
          1386.27,
          1652.08,
          3480.9900000000002,
          1096.07,
          702.37,
          2285.61,
          382.96,
          4722.79,
          3465.88,
          607.1800000000001,
          4037.4900000000002,
          3332.9,
          2889.52,
          4808.39,
          3917.44,
          1601.94,
          103.06,
          3239.27,
          4887.92,
          1106.87,
          563.8,
          1556.21,
          1827.5,
          2492.19,
          1724.51,
          636.08,
          2926.13,
          527.86,
          3193.35,
          3157.53,
          4260.88,
          425.74,
          3658.45,
          961.84,
          853.02,
          4092.44,
          1339.76,
          2566.66,
          2424.48,
          1335.6,
          2409.68,
          3260.61,
          78.52,
          1667.49,
          2337.81,
          1864.75,
          4119.63,
          1582.33,
          4554.08,
          3432.08,
          4273.53,
          1531.8799999999999,
          2601.53,
          2841.19,
          4450.22,
          3387.15,
          4554,
          2877.48,
          2479.29,
          874.6899999999999,
          909.4,
          3382.39,
          3330.63,
          4911.13,
          2013.63,
          2499.92,
          1645.19,
          3580.06,
          2102.15,
          1282.33,
          108.16,
          4037.18,
          142.39000000000001,
          2458.2400000000002,
          341.64,
          2547.2,
          4613.27,
          1181.33,
          3781.25,
          1027.47,
          482.5,
          1437.33,
          109.65,
          124.95,
          2486.54,
          4254.75,
          560.03,
          1533.05,
          2756.72,
          4588.34,
          5203.08,
          4378.86,
          623.39,
          2974.06,
          3499.93,
          1338.86,
          232.88,
          110.39999999999999,
          1158.84,
          3310.42,
          4655.84,
          4432.74,
          1340.22,
          1239.3,
          1301.2,
          3567.46,
          450.26,
          3304.5,
          1190.4099999999999,
          271.21,
          3619.31,
          3911.78,
          4931.57,
          2312.96,
          542.52,
          3683.63,
          4293.96,
          4214.95,
          2179.3,
          291.02,
          114.33,
          2260.75,
          4742.34,
          4682.81,
          204.53,
          3716.44,
          1255.42,
          1570.91,
          4340.23,
          2447.95,
          2777.69,
          1347.27,
          1884.52,
          366.46,
          1080.33,
          2009.83,
          977.04,
          601.91,
          925.0699999999999,
          4873.51,
          3708.23,
          256.82,
          512.92,
          2471.33,
          3691.64,
          3837.9,
          3124.63,
          3594.41,
          328.76,
          3268.1,
          3350.77,
          3450.95,
          4709.12,
          3485.97,
          1811.34,
          2105.54,
          3446.6,
          2846.5299999999997,
          2018.42,
          538.01,
          1937.58,
          1666.85,
          1155.34,
          2926.34,
          88.29,
          3169.85,
          1526.57,
          2883.61,
          1475.43,
          73.59,
          3338.91,
          1357.09,
          833.35,
          2012.44,
          1423.06,
          294.42,
          1857.26,
          3789,
          4803.44,
          4276.47,
          1214.58,
          1070.55,
          3808.63,
          2834.37,
          3756.46,
          1692.91,
          3934.62,
          2844.58,
          1622.43,
          74.59,
          2737.33,
          990.31,
          1909.05,
          4647,
          2797.78,
          4461.7,
          2063.5099999999998,
          1881.28,
          375.38,
          1880.06,
          5062.33,
          3953.09,
          1166.88,
          2703.57,
          2658.91,
          2522.11,
          3511.5299999999997,
          803.55,
          4124.69,
          3286.5299999999997,
          4255.94,
          4676.17,
          2170.79,
          5008.09,
          3769.83,
          2024.86,
          938.38,
          4650.64,
          2703.23,
          1836.99,
          3830.36,
          3170.32,
          3942.47,
          1021.03,
          1791.75,
          2396.93,
          791.42,
          2877.26,
          2425.29,
          4575.14,
          3964.98,
          2217.7400000000002,
          2759.04,
          4137.18,
          3173.0099999999998,
          981.67,
          1767.06,
          1961.57,
          90.94,
          4153.53,
          1325.31,
          1501.28,
          820.88,
          3274.03,
          2677.98,
          781.09,
          2323.18,
          2234.26,
          706.89,
          347.21999999999997,
          2320.3,
          4707.81,
          4395.2699999999995,
          3879.5299999999997,
          2245.57,
          3941.35,
          275.07,
          335.52,
          1413.62,
          2943.03,
          3550.35,
          2030.12,
          3768.76,
          228.48000000000002,
          4913.28,
          2129.52,
          2049.45,
          4307.79,
          3047.27,
          643.57,
          4438.9800000000005,
          4493.35,
          3032.42,
          2370.83,
          305.68,
          5261.03,
          3916.56,
          4520.38,
          567.4200000000001,
          2646.65,
          1123.51,
          4986.13,
          4667.39,
          1010.54,
          403.68,
          1195.19,
          1991.58,
          2799.16,
          4904.29,
          3217.35,
          2503.96,
          1389.83,
          5006.73,
          5046.07,
          1222.47,
          1132.6200000000001,
          1867.31,
          2305.16,
          1631.55,
          3280.68,
          1666.78,
          610.2,
          3014.34,
          3530.37,
          1597.67,
          4337.64,
          1795.24,
          1680.7,
          1978.24,
          2631.38,
          2201.33,
          763.9399999999999,
          4660.89,
          5014.01,
          968.9,
          2858.07,
          4041.08,
          3626.17,
          498.9,
          2847.55,
          1984.35,
          4942.5,
          2090.64,
          645.34,
          1108.45,
          2835.2200000000003,
          1255.41,
          3586.89,
          3568.14,
          4839.42,
          2999.05,
          3566.2799999999997,
          4880.13,
          4434.75,
          4898.83,
          439.85,
          1058.23,
          4517.04,
          2356.86,
          1154.8,
          3802.45,
          1456.3500000000001,
          4977.31,
          2390.9900000000002,
          4262.87,
          4244.01,
          255.01,
          3292.73,
          264.22,
          4359.65,
          4776.69,
          311.05,
          4317.36,
          4033.11,
          3359.5099999999998,
          4580.44,
          2054.2799999999997,
          2755.14,
          3325.12,
          2047.42,
          4286.18,
          278.87,
          4402.36,
          1278.98,
          3309.54,
          2550.13,
          2978.06,
          4045.66,
          108.13999999999999,
          5149.75,
          3189,
          720.87,
          4411.81,
          3480.77,
          1412.99,
          5012.81,
          1074.88,
          2806.77,
          629.3199999999999,
          4060.06,
          1777.68,
          2560.09,
          4806.63,
          4354.63,
          4742.2,
          580.73,
          4501.14,
          2622.1,
          503.57,
          580.03,
          2234.87,
          3110.36,
          3464.99,
          3080.29,
          175.17000000000002,
          1122.54,
          4385.61,
          2233.11,
          4066.1,
          2179.7,
          948.9,
          3063.92,
          4011.03,
          853.29,
          4746.5,
          1115.51,
          856.27,
          1604.45,
          1678.71,
          4174.27,
          2523.01,
          714.72,
          3984.64,
          1990.76,
          3807.42,
          983.41,
          1371.26,
          4075.81,
          2192.22,
          1115.75,
          166.69,
          3578.97,
          1887.73,
          2045.19,
          4723.06,
          2565.61,
          351.61,
          2638.31,
          3639.66,
          4201.6,
          4529.82,
          1085.45,
          2589,
          3564.96,
          2806.08,
          462.83000000000004,
          795.19,
          1973.81,
          3981.32,
          3344.66,
          3827.57,
          1956.18,
          2468.18,
          3568.48,
          4289.34,
          4505.96,
          2195.18,
          3082.8,
          3506.09,
          176.18999999999997,
          1715.6,
          3686.9900000000002,
          2655.61,
          3571.18,
          2813.31,
          1446.98,
          889.9200000000001,
          3370.85,
          3763.83,
          3635.93,
          3713.08,
          3020.2400000000002,
          3370.65,
          1228.18,
          2057.8,
          1733.2,
          3475.23,
          1967.44,
          1992.35,
          408.32,
          4359.13,
          671.27,
          2021.97,
          2978.53,
          1361.39,
          2921.27,
          974.39,
          951.1700000000001,
          4907.6,
          306.88,
          3488.36,
          4135.72,
          3384.8,
          4021.7400000000002,
          1734.68,
          818.59,
          1159.48,
          4658.95,
          434.61,
          814.25,
          5314.97,
          4110.91,
          2296.11,
          3986.15,
          3521.2,
          1053.07,
          526.32,
          4405.8,
          2366.08,
          3544.91,
          2556.11,
          3045.61,
          98.52,
          521.6899999999999,
          3077.26,
          4640.45,
          514.16,
          412.18,
          3552.7,
          2951.09,
          4446.94,
          2872.19,
          1693.32,
          2397.77,
          3408.6,
          3096.68,
          1660.94,
          302.87,
          3688.41,
          2123.71,
          1523.56,
          353.98,
          2817.12,
          261.38,
          4964.48,
          4702.51,
          1952.37,
          4273.87,
          641.3199999999999,
          658.37,
          1575.72,
          1983.03,
          2404.7,
          468.51,
          1915.47,
          1136.85,
          597.93,
          2116.11,
          3414.9700000000003,
          4142.12,
          2543.77,
          1315.09,
          2580.73,
          3779.12,
          4698.18,
          1450.66,
          563.37,
          4185.11,
          856.88,
          61.67,
          2522.82,
          2658.37,
          2513.7,
          1685.01,
          868,
          4042.68,
          2620.68,
          4882.52,
          1961.8700000000001,
          1489.76,
          1021.9399999999999,
          1000.42,
          787.12,
          661.01,
          4163.63,
          1683.4,
          208.14000000000001,
          2035.4,
          519.44,
          1125.15,
          479.51,
          1349.36,
          4523.98,
          3027.67,
          4947.91,
          1261.17,
          4753.22,
          1323.48,
          2902.54,
          2942.92,
          4277.25,
          4871.28,
          2764.46,
          2161.32,
          4536.8,
          663.58,
          2497.45,
          4612.11,
          2818.77,
          2669.95,
          4816.52,
          3135.78,
          4006.11,
          4492.95,
          457.01,
          2468.44,
          1404.1,
          3804.97,
          1754.69,
          2954.4,
          764.36,
          4275.01,
          560.02,
          2110.5299999999997,
          322.65,
          4911.11,
          3223.11,
          1302.9,
          641.94,
          3485.0499999999997,
          4085.6,
          2597.07,
          1293.51,
          2001.79,
          1620.23,
          408.02,
          2946.92,
          1212.8899999999999,
          160.54999999999998,
          3834.67,
          2492.59,
          3405.46,
          2504.92,
          96.27,
          2152.7,
          964.21,
          3091.78,
          4760.29
         ],
         "xaxis": "x",
         "y": [
          "123451007",
          "123451012",
          "123451037",
          "123451041",
          "123451068",
          "123451069",
          "123451070",
          "123451071",
          "123451088",
          "123451092",
          "123451093",
          "123451104",
          "123451105",
          "123451108",
          "123451125",
          "123451131",
          "123451135",
          "123451152",
          "123451164",
          "123451170",
          "123451173",
          "123451180",
          "123451185",
          "123451203",
          "123451215",
          "123451239",
          "123451300",
          "123451303",
          "123451310",
          "123451330",
          "123451348",
          "123451357",
          "123451364",
          "123451369",
          "123451372",
          "123451383",
          "123451388",
          "123451402",
          "123451405",
          "123451414",
          "123451417",
          "123451422",
          "123451428",
          "123451436",
          "123451445",
          "123451454",
          "123451468",
          "123451477",
          "123451503",
          "123451504",
          "123451505",
          "123451519",
          "123451526",
          "123451527",
          "123451533",
          "123451540",
          "123451542",
          "123451556",
          "123451560",
          "123451578",
          "123451580",
          "123451589",
          "123451594",
          "123451597",
          "123451602",
          "123451604",
          "123451624",
          "123451679",
          "123451691",
          "123451701",
          "123451723",
          "123451734",
          "123451762",
          "123451769",
          "123451781",
          "123451786",
          "123451799",
          "123451801",
          "123451806",
          "123451818",
          "123451820",
          "123451830",
          "123451837",
          "123451845",
          "123451846",
          "123451868",
          "123451886",
          "123451889",
          "123451915",
          "123451927",
          "123451939",
          "123451978",
          "123451980",
          "123451985",
          "123451991",
          "123451995",
          "123452008",
          "123452015",
          "123452023",
          "123452026",
          "123452052",
          "123452072",
          "123452085",
          "123452087",
          "123452091",
          "123452100",
          "123452108",
          "123452113",
          "123452129",
          "123452137",
          "123452177",
          "123452179",
          "123452194",
          "123452196",
          "123452204",
          "123452214",
          "123452226",
          "123452236",
          "123452240",
          "123452250",
          "123452256",
          "123452258",
          "123452269",
          "123452286",
          "123452301",
          "123452312",
          "123452318",
          "123452330",
          "123452342",
          "123452345",
          "123452363",
          "123452370",
          "123452373",
          "123452376",
          "123452380",
          "123452381",
          "123452393",
          "123452404",
          "123452415",
          "123452427",
          "123452449",
          "123452454",
          "123452460",
          "123452482",
          "123452490",
          "123452492",
          "123452497",
          "123452498",
          "123452502",
          "123452505",
          "123452512",
          "123452517",
          "123452518",
          "123452524",
          "123452528",
          "123452532",
          "123452538",
          "123452553",
          "123452555",
          "123452567",
          "123452574",
          "123452576",
          "123452592",
          "123452595",
          "123452624",
          "123452630",
          "123452631",
          "123452635",
          "123452636",
          "123452650",
          "123452706",
          "123452714",
          "123452722",
          "123452729",
          "123452746",
          "123452768",
          "123452771",
          "123452783",
          "123452784",
          "123452785",
          "123452805",
          "123452826",
          "123452827",
          "123452856",
          "123452890",
          "123452893",
          "123452907",
          "123452933",
          "123452934",
          "123452947",
          "123452951",
          "123452975",
          "123452976",
          "123452980",
          "123452984",
          "123452993",
          "123453008",
          "123453014",
          "123453019",
          "123453023",
          "123453027",
          "123453048",
          "123453071",
          "123453074",
          "123453102",
          "123453105",
          "123453107",
          "123453114",
          "123453160",
          "123453166",
          "123453179",
          "123453185",
          "123453190",
          "123453191",
          "123453196",
          "123453211",
          "123453229",
          "123453230",
          "123453242",
          "123453243",
          "123453245",
          "123453249",
          "123453259",
          "123453261",
          "123453267",
          "123453270",
          "123453287",
          "123453301",
          "123453303",
          "123453314",
          "123453317",
          "123453327",
          "123453332",
          "123453335",
          "123453343",
          "123453348",
          "123453350",
          "123453371",
          "123453375",
          "123453378",
          "123453395",
          "123453403",
          "123453411",
          "123453414",
          "123453438",
          "123453463",
          "123453468",
          "123453476",
          "123453486",
          "123453487",
          "123453488",
          "123453500",
          "123453505",
          "123453509",
          "123453520",
          "123453534",
          "123453549",
          "123453565",
          "123453575",
          "123453579",
          "123453600",
          "123453604",
          "123453605",
          "123453610",
          "123453623",
          "123453637",
          "123453639",
          "123453640",
          "123453646",
          "123453653",
          "123453679",
          "123453689",
          "123453696",
          "123453697",
          "123453711",
          "123453712",
          "123453717",
          "123453720",
          "123453723",
          "123453727",
          "123453728",
          "123453747",
          "123453755",
          "123453756",
          "123453757",
          "123453758",
          "123453762",
          "123453765",
          "123453781",
          "123453796",
          "123453798",
          "123453807",
          "123453810",
          "123453811",
          "123453814",
          "123453831",
          "123453875",
          "123453881",
          "123453904",
          "123453907",
          "123453919",
          "123453940",
          "123453942",
          "123453956",
          "123453966",
          "123453981",
          "123453984",
          "123453985",
          "123453988",
          "123454003",
          "123454005",
          "123454006",
          "123454024",
          "123454026",
          "123454047",
          "123454064",
          "123454075",
          "123454089",
          "123454111",
          "123454137",
          "123454163",
          "123454166",
          "123454189",
          "123454191",
          "123454202",
          "123454203",
          "123454207",
          "123454213",
          "123454219",
          "123454224",
          "123454244",
          "123454249",
          "123454251",
          "123454255",
          "123454262",
          "123454276",
          "123454277",
          "123454282",
          "123454288",
          "123454297",
          "123454311",
          "123454339",
          "123454344",
          "123454351",
          "123454357",
          "123454361",
          "123454371",
          "123454372",
          "123454373",
          "123454377",
          "123454378",
          "123454390",
          "123454391",
          "123454392",
          "123454408",
          "123454415",
          "123454426",
          "123454429",
          "123454431",
          "123454437",
          "123454439",
          "123454442",
          "123454449",
          "123454458",
          "123454476",
          "123454478",
          "123454485",
          "123454487",
          "123454500",
          "123454502",
          "123454503",
          "123454504",
          "123454507",
          "123454524",
          "123454531",
          "123454532",
          "123454537",
          "123454553",
          "123454555",
          "123454559",
          "123454561",
          "123454567",
          "123454594",
          "123454597",
          "123454613",
          "123454634",
          "123454636",
          "123454641",
          "123454642",
          "123454668",
          "123454683",
          "123454698",
          "123454719",
          "123454745",
          "123454750",
          "123454784",
          "123454814",
          "123454819",
          "123454829",
          "123454839",
          "123454842",
          "123454851",
          "123454864",
          "123454876",
          "123454886",
          "123454889",
          "123454890",
          "123454892",
          "123454894",
          "123454900",
          "123454902",
          "123454905",
          "123454917",
          "123454932",
          "123454933",
          "123454936",
          "123454940",
          "123454945",
          "123454956",
          "123454963",
          "123454975",
          "123454995",
          "123455000",
          "123455001",
          "123455002",
          "123455024",
          "123455035",
          "123455038",
          "123455041",
          "123455042",
          "123455043",
          "123455046",
          "123455047",
          "123455071",
          "123455074",
          "123455081",
          "123455083",
          "123455084",
          "123455094",
          "123455098",
          "123455101",
          "123455115",
          "123455117",
          "123455130",
          "123455140",
          "123455142",
          "123455176",
          "123455183",
          "123455202",
          "123455217",
          "123455219",
          "123455221",
          "123455258",
          "123455265",
          "123455295",
          "123455296",
          "123455302",
          "123455315",
          "123455322",
          "123455330",
          "123455340",
          "123455343",
          "123455345",
          "123455349",
          "123455362",
          "123455376",
          "123455384",
          "123455386",
          "123455406",
          "123455417",
          "123455423",
          "123455425",
          "123455433",
          "123455439",
          "123455440",
          "123455460",
          "123455462",
          "123455467",
          "123455471",
          "123455477",
          "123455505",
          "123455514",
          "123455518",
          "123455526",
          "123455541",
          "123455547",
          "123455552",
          "123455554",
          "123455577",
          "123455582",
          "123455609",
          "123455617",
          "123455638",
          "123455652",
          "123455654",
          "123455659",
          "123455661",
          "123455667",
          "123455671",
          "123455676",
          "123455677",
          "123455683",
          "123455692",
          "123455699",
          "123455707",
          "123455713",
          "123455726",
          "123455734",
          "123455735",
          "123455748",
          "123455754",
          "123455769",
          "123455783",
          "123455792",
          "123455802",
          "123455809",
          "123455815",
          "123455818",
          "123455857",
          "123455875",
          "123455876",
          "123455878",
          "123455895",
          "123455896",
          "123455898",
          "123455907",
          "123455920",
          "123455934",
          "123455966",
          "123455975",
          "123455991",
          "123455993",
          "123456011",
          "123456042",
          "123456053",
          "123456057",
          "123456069",
          "123456079",
          "123456098",
          "123456100",
          "123456102",
          "123456110",
          "123456120",
          "123456131",
          "123456134",
          "123456143",
          "123456153",
          "123456182",
          "123456188",
          "123456210",
          "123456222",
          "123456224",
          "123456240",
          "123456243",
          "123456271",
          "123456275",
          "123456281",
          "123456287",
          "123456290",
          "123456291",
          "123456297",
          "123456308",
          "123456309",
          "123456322",
          "123456329",
          "123456330",
          "123456356",
          "123456374",
          "123456391",
          "123456392",
          "123456398",
          "123456399",
          "123456407",
          "123456411",
          "123456428",
          "123456430",
          "123456436",
          "123456448",
          "123456455",
          "123456466",
          "123456491",
          "123456505",
          "123456507",
          "123456522",
          "123456525",
          "123456538",
          "123456554",
          "123456556",
          "123456557",
          "123456574",
          "123456582",
          "123456595",
          "123456602",
          "123456604",
          "123456629",
          "123456635",
          "123456638",
          "123456640",
          "123456663",
          "123456678",
          "123456695",
          "123456698",
          "123456703",
          "123456704",
          "123456738",
          "123456747",
          "123456760",
          "123456765",
          "123456775",
          "123456786",
          "123456790",
          "123456802",
          "123456808",
          "123456814",
          "123456834",
          "123456847",
          "123456849",
          "123456862",
          "123456866",
          "123456873",
          "123456903",
          "123456905",
          "123456915",
          "123456919",
          "123456938",
          "123456940",
          "123456941",
          "123456963",
          "123456968",
          "123456995",
          "123457003",
          "123457005",
          "123457037",
          "123457044",
          "123457047",
          "123457054",
          "123457068",
          "123457070",
          "123457088",
          "123457093",
          "123457094",
          "123457108",
          "123457128",
          "123457129",
          "123457132",
          "123457139",
          "123457143",
          "123457148",
          "123457149",
          "123457152",
          "123457155",
          "123457171",
          "123457184",
          "123457191",
          "123457200",
          "123457217",
          "123457227",
          "123457230",
          "123457233",
          "123457238",
          "123457242",
          "123457245",
          "123457255",
          "123457270",
          "123457272",
          "123457274",
          "123457278",
          "123457279",
          "123457282",
          "123457286",
          "123457298",
          "123457307",
          "123457308",
          "123457321",
          "123457323",
          "123457345",
          "123457354",
          "123457387",
          "123457399",
          "123457402",
          "123457445",
          "123457452",
          "123457454",
          "123457455",
          "123457457",
          "123457464",
          "123457489",
          "123457507",
          "123457511",
          "123457514",
          "123457519",
          "123457521",
          "123457528",
          "123457547",
          "123457562",
          "123457575",
          "123457631",
          "123457639",
          "123457640",
          "123457654",
          "123457655",
          "123457673",
          "123457681",
          "123457682",
          "123457721",
          "123457724",
          "123457744",
          "123457745",
          "123457747",
          "123457755",
          "123457767",
          "123457773",
          "123457776",
          "123457778",
          "123457795",
          "123457806",
          "123457816",
          "123457826",
          "123457828",
          "123457830",
          "123457834",
          "123457844",
          "123457849",
          "123457856",
          "123457867",
          "123457874",
          "123457877",
          "123457894",
          "123457895",
          "123457902",
          "123457907",
          "123457910",
          "123457913",
          "123457918",
          "123457931",
          "123457937",
          "123457941",
          "123457943",
          "123457947",
          "123457950",
          "123457961",
          "123457963",
          "123457998",
          "123458001",
          "123458012",
          "123458035",
          "123458038",
          "123458040",
          "123458062",
          "123458073",
          "123458076",
          "123458078",
          "123458083",
          "123458094",
          "123458095",
          "123458101",
          "123458117",
          "123458119",
          "123458138",
          "123458157",
          "123458158",
          "123458185",
          "123458197",
          "123458199",
          "123458224",
          "123458243",
          "123458251",
          "123458254",
          "123458264",
          "123458265",
          "123458275",
          "123458277",
          "123458278",
          "123458284",
          "123458309",
          "123458317",
          "123458328",
          "123458330",
          "123458332",
          "123458337",
          "123458342",
          "123458353",
          "123458368",
          "123458390",
          "123458400",
          "123458403",
          "123458407",
          "123458416",
          "123458431",
          "123458437",
          "123458440",
          "123458471",
          "123458478",
          "123458484",
          "123458488",
          "123458491",
          "123458499",
          "123458502",
          "123458509",
          "123458519",
          "123458522",
          "123458544",
          "123458546",
          "123458563",
          "123458574",
          "123458591",
          "123458602",
          "123458614",
          "123458616",
          "123458633",
          "123458644",
          "123458645",
          "123458651",
          "123458659",
          "123458668",
          "123458679",
          "123458684",
          "123458697",
          "123458702",
          "123458703",
          "123458707",
          "123458724",
          "123458732",
          "123458737",
          "123458744",
          "123458751",
          "123458766",
          "123458770",
          "123458789",
          "123458807",
          "123458809",
          "123458810",
          "123458817",
          "123458818",
          "123458830",
          "123458839",
          "123458847",
          "123458848",
          "123458883",
          "123458890",
          "123458892",
          "123458902",
          "123458905",
          "123458915",
          "123458925",
          "123458932",
          "123458943",
          "123458966",
          "123458993",
          "123458999",
          "123459019",
          "123459021",
          "123459024",
          "123459025",
          "123459034",
          "123459045",
          "123459057",
          "123459060",
          "123459068",
          "123459074",
          "123459076",
          "123459087",
          "123459108",
          "123459137",
          "123459139",
          "123459155",
          "123459158",
          "123459170",
          "123459173",
          "123459175",
          "123459177",
          "123459181",
          "123459196",
          "123459201",
          "123459206",
          "123459240",
          "123459247",
          "123459262",
          "123459276",
          "123459277",
          "123459278",
          "123459282",
          "123459284",
          "123459288",
          "123459305",
          "123459312",
          "123459324",
          "123459333",
          "123459336",
          "123459359",
          "123459360",
          "123459362",
          "123459363",
          "123459368",
          "123459391",
          "123459400",
          "123459441",
          "123459443",
          "123459476",
          "123459481",
          "123459499",
          "123459506",
          "123459508",
          "123459511",
          "123459532",
          "123459558",
          "123459564",
          "123459571",
          "123459600",
          "123459606",
          "123459614",
          "123459619",
          "123459628",
          "123459663",
          "123459674",
          "123459692",
          "123459719",
          "123459723",
          "123459736",
          "123459742",
          "123459747",
          "123459758",
          "123459764",
          "123459771",
          "123459788",
          "123459797",
          "123459798",
          "123459803",
          "123459805",
          "123459810",
          "123459812",
          "123459815",
          "123459829",
          "123459831",
          "123459833",
          "123459839",
          "123459843",
          "123459852",
          "123459861",
          "123459877",
          "123459879",
          "123459894",
          "123459900",
          "123459909",
          "123459915",
          "123459916",
          "123459918",
          "123459940",
          "123459965",
          "123459968",
          "123459978",
          "123459988"
         ],
         "yaxis": "y"
        }
       ],
       "layout": {
        "autosize": true,
        "legend": {
         "tracegroupgap": 0
        },
        "margin": {
         "t": 60
        },
        "template": {
         "data": {
          "bar": [
           {
            "error_x": {
             "color": "#2a3f5f"
            },
            "error_y": {
             "color": "#2a3f5f"
            },
            "marker": {
             "line": {
              "color": "#E5ECF6",
              "width": 0.5
             },
             "pattern": {
              "fillmode": "overlay",
              "size": 10,
              "solidity": 0.2
             }
            },
            "type": "bar"
           }
          ],
          "barpolar": [
           {
            "marker": {
             "line": {
              "color": "#E5ECF6",
              "width": 0.5
             },
             "pattern": {
              "fillmode": "overlay",
              "size": 10,
              "solidity": 0.2
             }
            },
            "type": "barpolar"
           }
          ],
          "carpet": [
           {
            "aaxis": {
             "endlinecolor": "#2a3f5f",
             "gridcolor": "white",
             "linecolor": "white",
             "minorgridcolor": "white",
             "startlinecolor": "#2a3f5f"
            },
            "baxis": {
             "endlinecolor": "#2a3f5f",
             "gridcolor": "white",
             "linecolor": "white",
             "minorgridcolor": "white",
             "startlinecolor": "#2a3f5f"
            },
            "type": "carpet"
           }
          ],
          "choropleth": [
           {
            "colorbar": {
             "outlinewidth": 0,
             "ticks": ""
            },
            "type": "choropleth"
           }
          ],
          "contour": [
           {
            "colorbar": {
             "outlinewidth": 0,
             "ticks": ""
            },
            "colorscale": [
             [
              0,
              "#0d0887"
             ],
             [
              0.1111111111111111,
              "#46039f"
             ],
             [
              0.2222222222222222,
              "#7201a8"
             ],
             [
              0.3333333333333333,
              "#9c179e"
             ],
             [
              0.4444444444444444,
              "#bd3786"
             ],
             [
              0.5555555555555556,
              "#d8576b"
             ],
             [
              0.6666666666666666,
              "#ed7953"
             ],
             [
              0.7777777777777778,
              "#fb9f3a"
             ],
             [
              0.8888888888888888,
              "#fdca26"
             ],
             [
              1,
              "#f0f921"
             ]
            ],
            "type": "contour"
           }
          ],
          "contourcarpet": [
           {
            "colorbar": {
             "outlinewidth": 0,
             "ticks": ""
            },
            "type": "contourcarpet"
           }
          ],
          "heatmap": [
           {
            "colorbar": {
             "outlinewidth": 0,
             "ticks": ""
            },
            "colorscale": [
             [
              0,
              "#0d0887"
             ],
             [
              0.1111111111111111,
              "#46039f"
             ],
             [
              0.2222222222222222,
              "#7201a8"
             ],
             [
              0.3333333333333333,
              "#9c179e"
             ],
             [
              0.4444444444444444,
              "#bd3786"
             ],
             [
              0.5555555555555556,
              "#d8576b"
             ],
             [
              0.6666666666666666,
              "#ed7953"
             ],
             [
              0.7777777777777778,
              "#fb9f3a"
             ],
             [
              0.8888888888888888,
              "#fdca26"
             ],
             [
              1,
              "#f0f921"
             ]
            ],
            "type": "heatmap"
           }
          ],
          "heatmapgl": [
           {
            "colorbar": {
             "outlinewidth": 0,
             "ticks": ""
            },
            "colorscale": [
             [
              0,
              "#0d0887"
             ],
             [
              0.1111111111111111,
              "#46039f"
             ],
             [
              0.2222222222222222,
              "#7201a8"
             ],
             [
              0.3333333333333333,
              "#9c179e"
             ],
             [
              0.4444444444444444,
              "#bd3786"
             ],
             [
              0.5555555555555556,
              "#d8576b"
             ],
             [
              0.6666666666666666,
              "#ed7953"
             ],
             [
              0.7777777777777778,
              "#fb9f3a"
             ],
             [
              0.8888888888888888,
              "#fdca26"
             ],
             [
              1,
              "#f0f921"
             ]
            ],
            "type": "heatmapgl"
           }
          ],
          "histogram": [
           {
            "marker": {
             "pattern": {
              "fillmode": "overlay",
              "size": 10,
              "solidity": 0.2
             }
            },
            "type": "histogram"
           }
          ],
          "histogram2d": [
           {
            "colorbar": {
             "outlinewidth": 0,
             "ticks": ""
            },
            "colorscale": [
             [
              0,
              "#0d0887"
             ],
             [
              0.1111111111111111,
              "#46039f"
             ],
             [
              0.2222222222222222,
              "#7201a8"
             ],
             [
              0.3333333333333333,
              "#9c179e"
             ],
             [
              0.4444444444444444,
              "#bd3786"
             ],
             [
              0.5555555555555556,
              "#d8576b"
             ],
             [
              0.6666666666666666,
              "#ed7953"
             ],
             [
              0.7777777777777778,
              "#fb9f3a"
             ],
             [
              0.8888888888888888,
              "#fdca26"
             ],
             [
              1,
              "#f0f921"
             ]
            ],
            "type": "histogram2d"
           }
          ],
          "histogram2dcontour": [
           {
            "colorbar": {
             "outlinewidth": 0,
             "ticks": ""
            },
            "colorscale": [
             [
              0,
              "#0d0887"
             ],
             [
              0.1111111111111111,
              "#46039f"
             ],
             [
              0.2222222222222222,
              "#7201a8"
             ],
             [
              0.3333333333333333,
              "#9c179e"
             ],
             [
              0.4444444444444444,
              "#bd3786"
             ],
             [
              0.5555555555555556,
              "#d8576b"
             ],
             [
              0.6666666666666666,
              "#ed7953"
             ],
             [
              0.7777777777777778,
              "#fb9f3a"
             ],
             [
              0.8888888888888888,
              "#fdca26"
             ],
             [
              1,
              "#f0f921"
             ]
            ],
            "type": "histogram2dcontour"
           }
          ],
          "mesh3d": [
           {
            "colorbar": {
             "outlinewidth": 0,
             "ticks": ""
            },
            "type": "mesh3d"
           }
          ],
          "parcoords": [
           {
            "line": {
             "colorbar": {
              "outlinewidth": 0,
              "ticks": ""
             }
            },
            "type": "parcoords"
           }
          ],
          "pie": [
           {
            "automargin": true,
            "type": "pie"
           }
          ],
          "scatter": [
           {
            "fillpattern": {
             "fillmode": "overlay",
             "size": 10,
             "solidity": 0.2
            },
            "type": "scatter"
           }
          ],
          "scatter3d": [
           {
            "line": {
             "colorbar": {
              "outlinewidth": 0,
              "ticks": ""
             }
            },
            "marker": {
             "colorbar": {
              "outlinewidth": 0,
              "ticks": ""
             }
            },
            "type": "scatter3d"
           }
          ],
          "scattercarpet": [
           {
            "marker": {
             "colorbar": {
              "outlinewidth": 0,
              "ticks": ""
             }
            },
            "type": "scattercarpet"
           }
          ],
          "scattergeo": [
           {
            "marker": {
             "colorbar": {
              "outlinewidth": 0,
              "ticks": ""
             }
            },
            "type": "scattergeo"
           }
          ],
          "scattergl": [
           {
            "marker": {
             "colorbar": {
              "outlinewidth": 0,
              "ticks": ""
             }
            },
            "type": "scattergl"
           }
          ],
          "scattermapbox": [
           {
            "marker": {
             "colorbar": {
              "outlinewidth": 0,
              "ticks": ""
             }
            },
            "type": "scattermapbox"
           }
          ],
          "scatterpolar": [
           {
            "marker": {
             "colorbar": {
              "outlinewidth": 0,
              "ticks": ""
             }
            },
            "type": "scatterpolar"
           }
          ],
          "scatterpolargl": [
           {
            "marker": {
             "colorbar": {
              "outlinewidth": 0,
              "ticks": ""
             }
            },
            "type": "scatterpolargl"
           }
          ],
          "scatterternary": [
           {
            "marker": {
             "colorbar": {
              "outlinewidth": 0,
              "ticks": ""
             }
            },
            "type": "scatterternary"
           }
          ],
          "surface": [
           {
            "colorbar": {
             "outlinewidth": 0,
             "ticks": ""
            },
            "colorscale": [
             [
              0,
              "#0d0887"
             ],
             [
              0.1111111111111111,
              "#46039f"
             ],
             [
              0.2222222222222222,
              "#7201a8"
             ],
             [
              0.3333333333333333,
              "#9c179e"
             ],
             [
              0.4444444444444444,
              "#bd3786"
             ],
             [
              0.5555555555555556,
              "#d8576b"
             ],
             [
              0.6666666666666666,
              "#ed7953"
             ],
             [
              0.7777777777777778,
              "#fb9f3a"
             ],
             [
              0.8888888888888888,
              "#fdca26"
             ],
             [
              1,
              "#f0f921"
             ]
            ],
            "type": "surface"
           }
          ],
          "table": [
           {
            "cells": {
             "fill": {
              "color": "#EBF0F8"
             },
             "line": {
              "color": "white"
             }
            },
            "header": {
             "fill": {
              "color": "#C8D4E3"
             },
             "line": {
              "color": "white"
             }
            },
            "type": "table"
           }
          ]
         },
         "layout": {
          "annotationdefaults": {
           "arrowcolor": "#2a3f5f",
           "arrowhead": 0,
           "arrowwidth": 1
          },
          "autotypenumbers": "strict",
          "coloraxis": {
           "colorbar": {
            "outlinewidth": 0,
            "ticks": ""
           }
          },
          "colorscale": {
           "diverging": [
            [
             0,
             "#8e0152"
            ],
            [
             0.1,
             "#c51b7d"
            ],
            [
             0.2,
             "#de77ae"
            ],
            [
             0.3,
             "#f1b6da"
            ],
            [
             0.4,
             "#fde0ef"
            ],
            [
             0.5,
             "#f7f7f7"
            ],
            [
             0.6,
             "#e6f5d0"
            ],
            [
             0.7,
             "#b8e186"
            ],
            [
             0.8,
             "#7fbc41"
            ],
            [
             0.9,
             "#4d9221"
            ],
            [
             1,
             "#276419"
            ]
           ],
           "sequential": [
            [
             0,
             "#0d0887"
            ],
            [
             0.1111111111111111,
             "#46039f"
            ],
            [
             0.2222222222222222,
             "#7201a8"
            ],
            [
             0.3333333333333333,
             "#9c179e"
            ],
            [
             0.4444444444444444,
             "#bd3786"
            ],
            [
             0.5555555555555556,
             "#d8576b"
            ],
            [
             0.6666666666666666,
             "#ed7953"
            ],
            [
             0.7777777777777778,
             "#fb9f3a"
            ],
            [
             0.8888888888888888,
             "#fdca26"
            ],
            [
             1,
             "#f0f921"
            ]
           ],
           "sequentialminus": [
            [
             0,
             "#0d0887"
            ],
            [
             0.1111111111111111,
             "#46039f"
            ],
            [
             0.2222222222222222,
             "#7201a8"
            ],
            [
             0.3333333333333333,
             "#9c179e"
            ],
            [
             0.4444444444444444,
             "#bd3786"
            ],
            [
             0.5555555555555556,
             "#d8576b"
            ],
            [
             0.6666666666666666,
             "#ed7953"
            ],
            [
             0.7777777777777778,
             "#fb9f3a"
            ],
            [
             0.8888888888888888,
             "#fdca26"
            ],
            [
             1,
             "#f0f921"
            ]
           ]
          },
          "colorway": [
           "#636efa",
           "#EF553B",
           "#00cc96",
           "#ab63fa",
           "#FFA15A",
           "#19d3f3",
           "#FF6692",
           "#B6E880",
           "#FF97FF",
           "#FECB52"
          ],
          "font": {
           "color": "#2a3f5f"
          },
          "geo": {
           "bgcolor": "white",
           "lakecolor": "white",
           "landcolor": "#E5ECF6",
           "showlakes": true,
           "showland": true,
           "subunitcolor": "white"
          },
          "hoverlabel": {
           "align": "left"
          },
          "hovermode": "closest",
          "mapbox": {
           "style": "light"
          },
          "paper_bgcolor": "white",
          "plot_bgcolor": "#E5ECF6",
          "polar": {
           "angularaxis": {
            "gridcolor": "white",
            "linecolor": "white",
            "ticks": ""
           },
           "bgcolor": "#E5ECF6",
           "radialaxis": {
            "gridcolor": "white",
            "linecolor": "white",
            "ticks": ""
           }
          },
          "scene": {
           "xaxis": {
            "backgroundcolor": "#E5ECF6",
            "gridcolor": "white",
            "gridwidth": 2,
            "linecolor": "white",
            "showbackground": true,
            "ticks": "",
            "zerolinecolor": "white"
           },
           "yaxis": {
            "backgroundcolor": "#E5ECF6",
            "gridcolor": "white",
            "gridwidth": 2,
            "linecolor": "white",
            "showbackground": true,
            "ticks": "",
            "zerolinecolor": "white"
           },
           "zaxis": {
            "backgroundcolor": "#E5ECF6",
            "gridcolor": "white",
            "gridwidth": 2,
            "linecolor": "white",
            "showbackground": true,
            "ticks": "",
            "zerolinecolor": "white"
           }
          },
          "shapedefaults": {
           "line": {
            "color": "#2a3f5f"
           }
          },
          "ternary": {
           "aaxis": {
            "gridcolor": "white",
            "linecolor": "white",
            "ticks": ""
           },
           "baxis": {
            "gridcolor": "white",
            "linecolor": "white",
            "ticks": ""
           },
           "bgcolor": "#E5ECF6",
           "caxis": {
            "gridcolor": "white",
            "linecolor": "white",
            "ticks": ""
           }
          },
          "title": {
           "x": 0.05
          },
          "xaxis": {
           "automargin": true,
           "gridcolor": "white",
           "linecolor": "white",
           "ticks": "",
           "title": {
            "standoff": 15
           },
           "zerolinecolor": "white",
           "zerolinewidth": 2
          },
          "yaxis": {
           "automargin": true,
           "gridcolor": "white",
           "linecolor": "white",
           "ticks": "",
           "title": {
            "standoff": 15
           },
           "zerolinecolor": "white",
           "zerolinewidth": 2
          }
         }
        },
        "xaxis": {
         "anchor": "y",
         "autorange": true,
         "domain": [
          0,
          1
         ],
         "range": [
          -331.0985291557877,
          5966.3185291557875
         ],
         "title": {
          "text": "Sum"
         },
         "type": "linear"
        },
        "yaxis": {
         "anchor": "x",
         "autorange": true,
         "domain": [
          0,
          1
         ],
         "range": [
          -73.63385826771653,
          1024.6338582677165
         ],
         "title": {
          "text": "CUST_SSN"
         },
         "type": "category"
        }
       }
      },
      "image/png": "[encoded data removed]",
      "text/html": [
       "<div>                            <div id=\"fce4b277-a3f5-426a-b594-dc7b4c0fd521\" class=\"plotly-graph-div\" style=\"height:525px; width:100%;\"></div>            <script type=\"text/javascript\">                require([\"plotly\"], function(Plotly) {                    window.PLOTLYENV=window.PLOTLYENV || {};                                    if (document.getElementById(\"fce4b277-a3f5-426a-b594-dc7b4c0fd521\")) {                    Plotly.newPlot(                        \"fce4b277-a3f5-426a-b594-dc7b4c0fd521\",                        [{\"hovertemplate\":\"Sum=%{x}<br>CUST_SSN=%{y}<extra></extra>\",\"legendgroup\":\"\",\"marker\":{\"color\":\"#636efa\",\"symbol\":\"circle\"},\"mode\":\"markers\",\"name\":\"\",\"orientation\":\"h\",\"showlegend\":false,\"x\":[2037.98,4025.69,2122.2,1085.14,2810.54,1708.85,873.39,3834.75,3367.16,2138.46,410.15,3372.61,4547.2,4355.57,5633.07,4412.48,3564.58,2989.93,4503.37,1902.6,4809.21,322.47,1776.51,3677.7,4428.31,1769.09,3489.62,2483.67,4003.14,1256.79,2195.38,4981.72,3590.15,1066.21,3876.22,3839.32,2500.7400000000002,3341.89,3149.88,244.61,2131.3,4236.6,2376.64,1046.36,3057.35,2275.7,1449.7,3755.86,2606.17,4161.92,224.71,2094.48,2370.25,2074.64,2898.43,1405.88,1157.25,204.6,2561.0,4245.35,2933.9,1483.5,1020.85,2795.93,502.05,2612.11,2710.51,2434.83,953.24,5023.65,4691.1900000000005,4072.79,446.27,1108.6699999999998,419.38,4822.37,4489.29,3456.75,2823.57,4238.99,3636.5099999999998,653.51,2.15,172.2,1434.29,2558.13,3542.4700000000003,835.05,4893.2699999999995,2972.94,326.96000000000004,268.85,4772.15,1710.56,1589.66,475.84,2546.86,2753.51,4596.49,5241.18,2162.32,2721.98,5133.29,3708.75,4233.22,140.52,674.76,172.64,1796.03,3230.51,2749.78,329.66999999999996,4946.37,4711.9800000000005,3529.12,865.83,1007.7,3201.23,333.24,1690.64,1118.28,336.12,1288.24,3512.27,4206.45,1362.15,2800.41,2880.07,690.91,10.41,2759.11,4309.33,4264.6,3665.54,3047.83,1329.98,1387.87,659.12,1472.8899999999999,3466.08,3034.79,2143.57,2177.86,2052.51,4471.92,2692.56,4168.41,4641.94,3328.48,1314.95,2058.18,3170.0,5223.96,1985.94,3038.08,101.44999999999999,1919.49,2274.27,955.36,2959.72,580.3,1153.2,4643.96,339.14,2697.27,2695.6,3955.14,1128.49,3199.26,2757.45,4537.33,623.4399999999999,4184.62,2547.0,4512.39,2153.66,4343.96,5548.14,1744.02,1594.91,126.92000000000002,86.76,2883.91,5008.23,4995.1,668.59,2411.96,355.54,3804.25,3382.54,1945.49,3978.85,551.1899999999999,4288.13,3154.69,1013.22,3513.02,538.27,3537.47,1350.94,2884.31,3305.89,894.0699999999999,2948.57,3345.03,3572.79,1578.65,4384.06,2176.4700000000003,2822.18,697.06,3507.44,3862.28,4719.65,2866.09,1917.91,907.36,1045.42,1426.66,690.36,560.62,3084.56,2213.19,786.45,582.99,1308.24,2415.23,3751.53,3640.05,836.18,1304.97,1780.53,661.04,2662.23,2719.59,2846.83,2214.66,2601.65,73.08,1986.14,1203.9099999999999,3623.25,1664.47,4092.88,1602.52,832.69,2982.6,1231.67,5476.08,840.69,4703.97,3615.63,4835.41,4917.59,2426.63,3025.27,2962.19,3801.3,4402.84,2508.43,4564.2,3865.23,702.96,3626.93,1323.82,2548.3,3586.4,1183.37,1552.59,3548.92,834.57,2802.05,3370.52,735.81,3483.68,4122.32,1382.81,757.92,2307.55,3660.18,2964.58,4434.18,3514.42,1353.58,2612.07,3045.21,3147.33,4174.68,4574.41,4327.34,2312.57,328.23,1620.33,2819.69,1801.44,4498.93,4063.58,4004.13,1983.2,1402.2,321.15,3689.9700000000003,854.1899999999999,2202.2799999999997,919.92,3786.1,3395.14,945.78,2153.16,3021.1,2616.5,4758.65,3501.89,700.6,177.77,1228.43,728.9,842.04,580.84,4347.3,3284.88,4324.27,3356.48,2529.05,1386.27,1652.08,3480.9900000000002,1096.07,702.37,2285.61,382.96,4722.79,3465.88,607.1800000000001,4037.4900000000002,3332.9,2889.52,4808.39,3917.44,1601.94,103.06,3239.27,4887.92,1106.87,563.8,1556.21,1827.5,2492.19,1724.51,636.08,2926.13,527.86,3193.35,3157.53,4260.88,425.74,3658.45,961.84,853.02,4092.44,1339.76,2566.66,2424.48,1335.6,2409.68,3260.61,78.52,1667.49,2337.81,1864.75,4119.63,1582.33,4554.08,3432.08,4273.53,1531.8799999999999,2601.53,2841.19,4450.22,3387.15,4554.0,2877.48,2479.29,874.6899999999999,909.4,3382.39,3330.63,4911.13,2013.63,2499.92,1645.19,3580.06,2102.15,1282.33,108.16,4037.18,142.39000000000001,2458.2400000000002,341.64,2547.2,4613.27,1181.33,3781.25,1027.47,482.5,1437.33,109.65,124.95,2486.54,4254.75,560.03,1533.05,2756.72,4588.34,5203.08,4378.86,623.39,2974.06,3499.93,1338.86,232.88,110.39999999999999,1158.84,3310.42,4655.84,4432.74,1340.22,1239.3,1301.2,3567.46,450.26,3304.5,1190.4099999999999,271.21,3619.31,3911.78,4931.57,2312.96,542.52,3683.63,4293.96,4214.95,2179.3,291.02,114.33,2260.75,4742.34,4682.81,204.53,3716.44,1255.42,1570.91,4340.23,2447.95,2777.69,1347.27,1884.52,366.46,1080.33,2009.83,977.04,601.91,925.0699999999999,4873.51,3708.23,256.82,512.92,2471.33,3691.64,3837.9,3124.63,3594.41,328.76,3268.1,3350.77,3450.95,4709.12,3485.97,1811.34,2105.54,3446.6,2846.5299999999997,2018.42,538.01,1937.58,1666.85,1155.34,2926.34,88.29,3169.85,1526.57,2883.61,1475.43,73.59,3338.91,1357.09,833.35,2012.44,1423.06,294.42,1857.26,3789.0,4803.44,4276.47,1214.58,1070.55,3808.63,2834.37,3756.46,1692.91,3934.62,2844.58,1622.43,74.59,2737.33,990.31,1909.05,4647.0,2797.78,4461.7,2063.5099999999998,1881.28,375.38,1880.06,5062.33,3953.09,1166.88,2703.57,2658.91,2522.11,3511.5299999999997,803.55,4124.69,3286.5299999999997,4255.94,4676.17,2170.79,5008.09,3769.83,2024.86,938.38,4650.64,2703.23,1836.99,3830.36,3170.32,3942.47,1021.03,1791.75,2396.93,791.42,2877.26,2425.29,4575.14,3964.98,2217.7400000000002,2759.04,4137.18,3173.0099999999998,981.67,1767.06,1961.57,90.94,4153.53,1325.31,1501.28,820.88,3274.03,2677.98,781.09,2323.18,2234.26,706.89,347.21999999999997,2320.3,4707.81,4395.2699999999995,3879.5299999999997,2245.57,3941.35,275.07,335.52,1413.62,2943.03,3550.35,2030.12,3768.76,228.48000000000002,4913.28,2129.52,2049.45,4307.79,3047.27,643.57,4438.9800000000005,4493.35,3032.42,2370.83,305.68,5261.03,3916.56,4520.38,567.4200000000001,2646.65,1123.51,4986.13,4667.39,1010.54,403.68,1195.19,1991.58,2799.16,4904.29,3217.35,2503.96,1389.83,5006.73,5046.07,1222.47,1132.6200000000001,1867.31,2305.16,1631.55,3280.68,1666.78,610.2,3014.34,3530.37,1597.67,4337.64,1795.24,1680.7,1978.24,2631.38,2201.33,763.9399999999999,4660.89,5014.01,968.9,2858.07,4041.08,3626.17,498.9,2847.55,1984.35,4942.5,2090.64,645.34,1108.45,2835.2200000000003,1255.41,3586.89,3568.14,4839.42,2999.05,3566.2799999999997,4880.13,4434.75,4898.83,439.85,1058.23,4517.04,2356.86,1154.8,3802.45,1456.3500000000001,4977.31,2390.9900000000002,4262.87,4244.01,255.01,3292.73,264.22,4359.65,4776.69,311.05,4317.36,4033.11,3359.5099999999998,4580.44,2054.2799999999997,2755.14,3325.12,2047.42,4286.18,278.87,4402.36,1278.98,3309.54,2550.13,2978.06,4045.66,108.13999999999999,5149.75,3189.0,720.87,4411.81,3480.77,1412.99,5012.81,1074.88,2806.77,629.3199999999999,4060.06,1777.68,2560.09,4806.63,4354.63,4742.2,580.73,4501.14,2622.1,503.57,580.03,2234.87,3110.36,3464.99,3080.29,175.17000000000002,1122.54,4385.61,2233.11,4066.1,2179.7,948.9,3063.92,4011.03,853.29,4746.5,1115.51,856.27,1604.45,1678.71,4174.27,2523.01,714.72,3984.64,1990.76,3807.42,983.41,1371.26,4075.81,2192.22,1115.75,166.69,3578.97,1887.73,2045.19,4723.06,2565.61,351.61,2638.31,3639.66,4201.6,4529.82,1085.45,2589.0,3564.96,2806.08,462.83000000000004,795.19,1973.81,3981.32,3344.66,3827.57,1956.18,2468.18,3568.48,4289.34,4505.96,2195.18,3082.8,3506.09,176.18999999999997,1715.6,3686.9900000000002,2655.61,3571.18,2813.31,1446.98,889.9200000000001,3370.85,3763.83,3635.93,3713.08,3020.2400000000002,3370.65,1228.18,2057.8,1733.2,3475.23,1967.44,1992.35,408.32,4359.13,671.27,2021.97,2978.53,1361.39,2921.27,974.39,951.1700000000001,4907.6,306.88,3488.36,4135.72,3384.8,4021.7400000000002,1734.68,818.59,1159.48,4658.95,434.61,814.25,5314.97,4110.91,2296.11,3986.15,3521.2,1053.07,526.32,4405.8,2366.08,3544.91,2556.11,3045.61,98.52,521.6899999999999,3077.26,4640.45,514.16,412.18,3552.7,2951.09,4446.94,2872.19,1693.32,2397.77,3408.6,3096.68,1660.94,302.87,3688.41,2123.71,1523.56,353.98,2817.12,261.38,4964.48,4702.51,1952.37,4273.87,641.3199999999999,658.37,1575.72,1983.03,2404.7,468.51,1915.47,1136.85,597.93,2116.11,3414.9700000000003,4142.12,2543.77,1315.09,2580.73,3779.12,4698.18,1450.66,563.37,4185.11,856.88,61.67,2522.82,2658.37,2513.7,1685.01,868.0,4042.68,2620.68,4882.52,1961.8700000000001,1489.76,1021.9399999999999,1000.42,787.12,661.01,4163.63,1683.4,208.14000000000001,2035.4,519.44,1125.15,479.51,1349.36,4523.98,3027.67,4947.91,1261.17,4753.22,1323.48,2902.54,2942.92,4277.25,4871.28,2764.46,2161.32,4536.8,663.58,2497.45,4612.11,2818.77,2669.95,4816.52,3135.78,4006.11,4492.95,457.01,2468.44,1404.1,3804.97,1754.69,2954.4,764.36,4275.01,560.02,2110.5299999999997,322.65,4911.11,3223.11,1302.9,641.94,3485.0499999999997,4085.6,2597.07,1293.51,2001.79,1620.23,408.02,2946.92,1212.8899999999999,160.54999999999998,3834.67,2492.59,3405.46,2504.92,96.27,2152.7,964.21,3091.78,4760.29],\"xaxis\":\"x\",\"y\":[\"123451007\",\"123451012\",\"123451037\",\"123451041\",\"123451068\",\"123451069\",\"123451070\",\"123451071\",\"123451088\",\"123451092\",\"123451093\",\"123451104\",\"123451105\",\"123451108\",\"123451125\",\"123451131\",\"123451135\",\"123451152\",\"123451164\",\"123451170\",\"123451173\",\"123451180\",\"123451185\",\"123451203\",\"123451215\",\"123451239\",\"123451300\",\"123451303\",\"123451310\",\"123451330\",\"123451348\",\"123451357\",\"123451364\",\"123451369\",\"123451372\",\"123451383\",\"123451388\",\"123451402\",\"123451405\",\"123451414\",\"123451417\",\"123451422\",\"123451428\",\"123451436\",\"123451445\",\"123451454\",\"123451468\",\"123451477\",\"123451503\",\"123451504\",\"123451505\",\"123451519\",\"123451526\",\"123451527\",\"123451533\",\"123451540\",\"123451542\",\"123451556\",\"123451560\",\"123451578\",\"123451580\",\"123451589\",\"123451594\",\"123451597\",\"123451602\",\"123451604\",\"123451624\",\"123451679\",\"123451691\",\"123451701\",\"123451723\",\"123451734\",\"123451762\",\"123451769\",\"123451781\",\"123451786\",\"123451799\",\"123451801\",\"123451806\",\"123451818\",\"123451820\",\"123451830\",\"123451837\",\"123451845\",\"123451846\",\"123451868\",\"123451886\",\"123451889\",\"123451915\",\"123451927\",\"123451939\",\"123451978\",\"123451980\",\"123451985\",\"123451991\",\"123451995\",\"123452008\",\"123452015\",\"123452023\",\"123452026\",\"123452052\",\"123452072\",\"123452085\",\"123452087\",\"123452091\",\"123452100\",\"123452108\",\"123452113\",\"123452129\",\"123452137\",\"123452177\",\"123452179\",\"123452194\",\"123452196\",\"123452204\",\"123452214\",\"123452226\",\"123452236\",\"123452240\",\"123452250\",\"123452256\",\"123452258\",\"123452269\",\"123452286\",\"123452301\",\"123452312\",\"123452318\",\"123452330\",\"123452342\",\"123452345\",\"123452363\",\"123452370\",\"123452373\",\"123452376\",\"123452380\",\"123452381\",\"123452393\",\"123452404\",\"123452415\",\"123452427\",\"123452449\",\"123452454\",\"123452460\",\"123452482\",\"123452490\",\"123452492\",\"123452497\",\"123452498\",\"123452502\",\"123452505\",\"123452512\",\"123452517\",\"123452518\",\"123452524\",\"123452528\",\"123452532\",\"123452538\",\"123452553\",\"123452555\",\"123452567\",\"123452574\",\"123452576\",\"123452592\",\"123452595\",\"123452624\",\"123452630\",\"123452631\",\"123452635\",\"123452636\",\"123452650\",\"123452706\",\"123452714\",\"123452722\",\"123452729\",\"123452746\",\"123452768\",\"123452771\",\"123452783\",\"123452784\",\"123452785\",\"123452805\",\"123452826\",\"123452827\",\"123452856\",\"123452890\",\"123452893\",\"123452907\",\"123452933\",\"123452934\",\"123452947\",\"123452951\",\"123452975\",\"123452976\",\"123452980\",\"123452984\",\"123452993\",\"123453008\",\"123453014\",\"123453019\",\"123453023\",\"123453027\",\"123453048\",\"123453071\",\"123453074\",\"123453102\",\"123453105\",\"123453107\",\"123453114\",\"123453160\",\"123453166\",\"123453179\",\"123453185\",\"123453190\",\"123453191\",\"123453196\",\"123453211\",\"123453229\",\"123453230\",\"123453242\",\"123453243\",\"123453245\",\"123453249\",\"123453259\",\"123453261\",\"123453267\",\"123453270\",\"123453287\",\"123453301\",\"123453303\",\"123453314\",\"123453317\",\"123453327\",\"123453332\",\"123453335\",\"123453343\",\"123453348\",\"123453350\",\"123453371\",\"123453375\",\"123453378\",\"123453395\",\"123453403\",\"123453411\",\"123453414\",\"123453438\",\"123453463\",\"123453468\",\"123453476\",\"123453486\",\"123453487\",\"123453488\",\"123453500\",\"123453505\",\"123453509\",\"123453520\",\"123453534\",\"123453549\",\"123453565\",\"123453575\",\"123453579\",\"123453600\",\"123453604\",\"123453605\",\"123453610\",\"123453623\",\"123453637\",\"123453639\",\"123453640\",\"123453646\",\"123453653\",\"123453679\",\"123453689\",\"123453696\",\"123453697\",\"123453711\",\"123453712\",\"123453717\",\"123453720\",\"123453723\",\"123453727\",\"123453728\",\"123453747\",\"123453755\",\"123453756\",\"123453757\",\"123453758\",\"123453762\",\"123453765\",\"123453781\",\"123453796\",\"123453798\",\"123453807\",\"123453810\",\"123453811\",\"123453814\",\"123453831\",\"123453875\",\"123453881\",\"123453904\",\"123453907\",\"123453919\",\"123453940\",\"123453942\",\"123453956\",\"123453966\",\"123453981\",\"123453984\",\"123453985\",\"123453988\",\"123454003\",\"123454005\",\"123454006\",\"123454024\",\"123454026\",\"123454047\",\"123454064\",\"123454075\",\"123454089\",\"123454111\",\"123454137\",\"123454163\",\"123454166\",\"123454189\",\"123454191\",\"123454202\",\"123454203\",\"123454207\",\"123454213\",\"123454219\",\"123454224\",\"123454244\",\"123454249\",\"123454251\",\"123454255\",\"123454262\",\"123454276\",\"123454277\",\"123454282\",\"123454288\",\"123454297\",\"123454311\",\"123454339\",\"123454344\",\"123454351\",\"123454357\",\"123454361\",\"123454371\",\"123454372\",\"123454373\",\"123454377\",\"123454378\",\"123454390\",\"123454391\",\"123454392\",\"123454408\",\"123454415\",\"123454426\",\"123454429\",\"123454431\",\"123454437\",\"123454439\",\"123454442\",\"123454449\",\"123454458\",\"123454476\",\"123454478\",\"123454485\",\"123454487\",\"123454500\",\"123454502\",\"123454503\",\"123454504\",\"123454507\",\"123454524\",\"123454531\",\"123454532\",\"123454537\",\"123454553\",\"123454555\",\"123454559\",\"123454561\",\"123454567\",\"123454594\",\"123454597\",\"123454613\",\"123454634\",\"123454636\",\"123454641\",\"123454642\",\"123454668\",\"123454683\",\"123454698\",\"123454719\",\"123454745\",\"123454750\",\"123454784\",\"123454814\",\"123454819\",\"123454829\",\"123454839\",\"123454842\",\"123454851\",\"123454864\",\"123454876\",\"123454886\",\"123454889\",\"123454890\",\"123454892\",\"123454894\",\"123454900\",\"123454902\",\"123454905\",\"123454917\",\"123454932\",\"123454933\",\"123454936\",\"123454940\",\"123454945\",\"123454956\",\"123454963\",\"123454975\",\"123454995\",\"123455000\",\"123455001\",\"123455002\",\"123455024\",\"123455035\",\"123455038\",\"123455041\",\"123455042\",\"123455043\",\"123455046\",\"123455047\",\"123455071\",\"123455074\",\"123455081\",\"123455083\",\"123455084\",\"123455094\",\"123455098\",\"123455101\",\"123455115\",\"123455117\",\"123455130\",\"123455140\",\"123455142\",\"123455176\",\"123455183\",\"123455202\",\"123455217\",\"123455219\",\"123455221\",\"123455258\",\"123455265\",\"123455295\",\"123455296\",\"123455302\",\"123455315\",\"123455322\",\"123455330\",\"123455340\",\"123455343\",\"123455345\",\"123455349\",\"123455362\",\"123455376\",\"123455384\",\"123455386\",\"123455406\",\"123455417\",\"123455423\",\"123455425\",\"123455433\",\"123455439\",\"123455440\",\"123455460\",\"123455462\",\"123455467\",\"123455471\",\"123455477\",\"123455505\",\"123455514\",\"123455518\",\"123455526\",\"123455541\",\"123455547\",\"123455552\",\"123455554\",\"123455577\",\"123455582\",\"123455609\",\"123455617\",\"123455638\",\"123455652\",\"123455654\",\"123455659\",\"123455661\",\"123455667\",\"123455671\",\"123455676\",\"123455677\",\"123455683\",\"123455692\",\"123455699\",\"123455707\",\"123455713\",\"123455726\",\"123455734\",\"123455735\",\"123455748\",\"123455754\",\"123455769\",\"123455783\",\"123455792\",\"123455802\",\"123455809\",\"123455815\",\"123455818\",\"123455857\",\"123455875\",\"123455876\",\"123455878\",\"123455895\",\"123455896\",\"123455898\",\"123455907\",\"123455920\",\"123455934\",\"123455966\",\"123455975\",\"123455991\",\"123455993\",\"123456011\",\"123456042\",\"123456053\",\"123456057\",\"123456069\",\"123456079\",\"123456098\",\"123456100\",\"123456102\",\"123456110\",\"123456120\",\"123456131\",\"123456134\",\"123456143\",\"123456153\",\"123456182\",\"123456188\",\"123456210\",\"123456222\",\"123456224\",\"123456240\",\"123456243\",\"123456271\",\"123456275\",\"123456281\",\"123456287\",\"123456290\",\"123456291\",\"123456297\",\"123456308\",\"123456309\",\"123456322\",\"123456329\",\"123456330\",\"123456356\",\"123456374\",\"123456391\",\"123456392\",\"123456398\",\"123456399\",\"123456407\",\"123456411\",\"123456428\",\"123456430\",\"123456436\",\"123456448\",\"123456455\",\"123456466\",\"123456491\",\"123456505\",\"123456507\",\"123456522\",\"123456525\",\"123456538\",\"123456554\",\"123456556\",\"123456557\",\"123456574\",\"123456582\",\"123456595\",\"123456602\",\"123456604\",\"123456629\",\"123456635\",\"123456638\",\"123456640\",\"123456663\",\"123456678\",\"123456695\",\"123456698\",\"123456703\",\"123456704\",\"123456738\",\"123456747\",\"123456760\",\"123456765\",\"123456775\",\"123456786\",\"123456790\",\"123456802\",\"123456808\",\"123456814\",\"123456834\",\"123456847\",\"123456849\",\"123456862\",\"123456866\",\"123456873\",\"123456903\",\"123456905\",\"123456915\",\"123456919\",\"123456938\",\"123456940\",\"123456941\",\"123456963\",\"123456968\",\"123456995\",\"123457003\",\"123457005\",\"123457037\",\"123457044\",\"123457047\",\"123457054\",\"123457068\",\"123457070\",\"123457088\",\"123457093\",\"123457094\",\"123457108\",\"123457128\",\"123457129\",\"123457132\",\"123457139\",\"123457143\",\"123457148\",\"123457149\",\"123457152\",\"123457155\",\"123457171\",\"123457184\",\"123457191\",\"123457200\",\"123457217\",\"123457227\",\"123457230\",\"123457233\",\"123457238\",\"123457242\",\"123457245\",\"123457255\",\"123457270\",\"123457272\",\"123457274\",\"123457278\",\"123457279\",\"123457282\",\"123457286\",\"123457298\",\"123457307\",\"123457308\",\"123457321\",\"123457323\",\"123457345\",\"123457354\",\"123457387\",\"123457399\",\"123457402\",\"123457445\",\"123457452\",\"123457454\",\"123457455\",\"123457457\",\"123457464\",\"123457489\",\"123457507\",\"123457511\",\"123457514\",\"123457519\",\"123457521\",\"123457528\",\"123457547\",\"123457562\",\"123457575\",\"123457631\",\"123457639\",\"123457640\",\"123457654\",\"123457655\",\"123457673\",\"123457681\",\"123457682\",\"123457721\",\"123457724\",\"123457744\",\"123457745\",\"123457747\",\"123457755\",\"123457767\",\"123457773\",\"123457776\",\"123457778\",\"123457795\",\"123457806\",\"123457816\",\"123457826\",\"123457828\",\"123457830\",\"123457834\",\"123457844\",\"123457849\",\"123457856\",\"123457867\",\"123457874\",\"123457877\",\"123457894\",\"123457895\",\"123457902\",\"123457907\",\"123457910\",\"123457913\",\"123457918\",\"123457931\",\"123457937\",\"123457941\",\"123457943\",\"123457947\",\"123457950\",\"123457961\",\"123457963\",\"123457998\",\"123458001\",\"123458012\",\"123458035\",\"123458038\",\"123458040\",\"123458062\",\"123458073\",\"123458076\",\"123458078\",\"123458083\",\"123458094\",\"123458095\",\"123458101\",\"123458117\",\"123458119\",\"123458138\",\"123458157\",\"123458158\",\"123458185\",\"123458197\",\"123458199\",\"123458224\",\"123458243\",\"123458251\",\"123458254\",\"123458264\",\"123458265\",\"123458275\",\"123458277\",\"123458278\",\"123458284\",\"123458309\",\"123458317\",\"123458328\",\"123458330\",\"123458332\",\"123458337\",\"123458342\",\"123458353\",\"123458368\",\"123458390\",\"123458400\",\"123458403\",\"123458407\",\"123458416\",\"123458431\",\"123458437\",\"123458440\",\"123458471\",\"123458478\",\"123458484\",\"123458488\",\"123458491\",\"123458499\",\"123458502\",\"123458509\",\"123458519\",\"123458522\",\"123458544\",\"123458546\",\"123458563\",\"123458574\",\"123458591\",\"123458602\",\"123458614\",\"123458616\",\"123458633\",\"123458644\",\"123458645\",\"123458651\",\"123458659\",\"123458668\",\"123458679\",\"123458684\",\"123458697\",\"123458702\",\"123458703\",\"123458707\",\"123458724\",\"123458732\",\"123458737\",\"123458744\",\"123458751\",\"123458766\",\"123458770\",\"123458789\",\"123458807\",\"123458809\",\"123458810\",\"123458817\",\"123458818\",\"123458830\",\"123458839\",\"123458847\",\"123458848\",\"123458883\",\"123458890\",\"123458892\",\"123458902\",\"123458905\",\"123458915\",\"123458925\",\"123458932\",\"123458943\",\"123458966\",\"123458993\",\"123458999\",\"123459019\",\"123459021\",\"123459024\",\"123459025\",\"123459034\",\"123459045\",\"123459057\",\"123459060\",\"123459068\",\"123459074\",\"123459076\",\"123459087\",\"123459108\",\"123459137\",\"123459139\",\"123459155\",\"123459158\",\"123459170\",\"123459173\",\"123459175\",\"123459177\",\"123459181\",\"123459196\",\"123459201\",\"123459206\",\"123459240\",\"123459247\",\"123459262\",\"123459276\",\"123459277\",\"123459278\",\"123459282\",\"123459284\",\"123459288\",\"123459305\",\"123459312\",\"123459324\",\"123459333\",\"123459336\",\"123459359\",\"123459360\",\"123459362\",\"123459363\",\"123459368\",\"123459391\",\"123459400\",\"123459441\",\"123459443\",\"123459476\",\"123459481\",\"123459499\",\"123459506\",\"123459508\",\"123459511\",\"123459532\",\"123459558\",\"123459564\",\"123459571\",\"123459600\",\"123459606\",\"123459614\",\"123459619\",\"123459628\",\"123459663\",\"123459674\",\"123459692\",\"123459719\",\"123459723\",\"123459736\",\"123459742\",\"123459747\",\"123459758\",\"123459764\",\"123459771\",\"123459788\",\"123459797\",\"123459798\",\"123459803\",\"123459805\",\"123459810\",\"123459812\",\"123459815\",\"123459829\",\"123459831\",\"123459833\",\"123459839\",\"123459843\",\"123459852\",\"123459861\",\"123459877\",\"123459879\",\"123459894\",\"123459900\",\"123459909\",\"123459915\",\"123459916\",\"123459918\",\"123459940\",\"123459965\",\"123459968\",\"123459978\",\"123459988\"],\"yaxis\":\"y\",\"type\":\"scatter\"}],                        {\"template\":{\"data\":{\"histogram2dcontour\":[{\"type\":\"histogram2dcontour\",\"colorbar\":{\"outlinewidth\":0,\"ticks\":\"\"},\"colorscale\":[[0.0,\"#0d0887\"],[0.1111111111111111,\"#46039f\"],[0.2222222222222222,\"#7201a8\"],[0.3333333333333333,\"#9c179e\"],[0.4444444444444444,\"#bd3786\"],[0.5555555555555556,\"#d8576b\"],[0.6666666666666666,\"#ed7953\"],[0.7777777777777778,\"#fb9f3a\"],[0.8888888888888888,\"#fdca26\"],[1.0,\"#f0f921\"]]}],\"choropleth\":[{\"type\":\"choropleth\",\"colorbar\":{\"outlinewidth\":0,\"ticks\":\"\"}}],\"histogram2d\":[{\"type\":\"histogram2d\",\"colorbar\":{\"outlinewidth\":0,\"ticks\":\"\"},\"colorscale\":[[0.0,\"#0d0887\"],[0.1111111111111111,\"#46039f\"],[0.2222222222222222,\"#7201a8\"],[0.3333333333333333,\"#9c179e\"],[0.4444444444444444,\"#bd3786\"],[0.5555555555555556,\"#d8576b\"],[0.6666666666666666,\"#ed7953\"],[0.7777777777777778,\"#fb9f3a\"],[0.8888888888888888,\"#fdca26\"],[1.0,\"#f0f921\"]]}],\"heatmap\":[{\"type\":\"heatmap\",\"colorbar\":{\"outlinewidth\":0,\"ticks\":\"\"},\"colorscale\":[[0.0,\"#0d0887\"],[0.1111111111111111,\"#46039f\"],[0.2222222222222222,\"#7201a8\"],[0.3333333333333333,\"#9c179e\"],[0.4444444444444444,\"#bd3786\"],[0.5555555555555556,\"#d8576b\"],[0.6666666666666666,\"#ed7953\"],[0.7777777777777778,\"#fb9f3a\"],[0.8888888888888888,\"#fdca26\"],[1.0,\"#f0f921\"]]}],\"heatmapgl\":[{\"type\":\"heatmapgl\",\"colorbar\":{\"outlinewidth\":0,\"ticks\":\"\"},\"colorscale\":[[0.0,\"#0d0887\"],[0.1111111111111111,\"#46039f\"],[0.2222222222222222,\"#7201a8\"],[0.3333333333333333,\"#9c179e\"],[0.4444444444444444,\"#bd3786\"],[0.5555555555555556,\"#d8576b\"],[0.6666666666666666,\"#ed7953\"],[0.7777777777777778,\"#fb9f3a\"],[0.8888888888888888,\"#fdca26\"],[1.0,\"#f0f921\"]]}],\"contourcarpet\":[{\"type\":\"contourcarpet\",\"colorbar\":{\"outlinewidth\":0,\"ticks\":\"\"}}],\"contour\":[{\"type\":\"contour\",\"colorbar\":{\"outlinewidth\":0,\"ticks\":\"\"},\"colorscale\":[[0.0,\"#0d0887\"],[0.1111111111111111,\"#46039f\"],[0.2222222222222222,\"#7201a8\"],[0.3333333333333333,\"#9c179e\"],[0.4444444444444444,\"#bd3786\"],[0.5555555555555556,\"#d8576b\"],[0.6666666666666666,\"#ed7953\"],[0.7777777777777778,\"#fb9f3a\"],[0.8888888888888888,\"#fdca26\"],[1.0,\"#f0f921\"]]}],\"surface\":[{\"type\":\"surface\",\"colorbar\":{\"outlinewidth\":0,\"ticks\":\"\"},\"colorscale\":[[0.0,\"#0d0887\"],[0.1111111111111111,\"#46039f\"],[0.2222222222222222,\"#7201a8\"],[0.3333333333333333,\"#9c179e\"],[0.4444444444444444,\"#bd3786\"],[0.5555555555555556,\"#d8576b\"],[0.6666666666666666,\"#ed7953\"],[0.7777777777777778,\"#fb9f3a\"],[0.8888888888888888,\"#fdca26\"],[1.0,\"#f0f921\"]]}],\"mesh3d\":[{\"type\":\"mesh3d\",\"colorbar\":{\"outlinewidth\":0,\"ticks\":\"\"}}],\"scatter\":[{\"fillpattern\":{\"fillmode\":\"overlay\",\"size\":10,\"solidity\":0.2},\"type\":\"scatter\"}],\"parcoords\":[{\"type\":\"parcoords\",\"line\":{\"colorbar\":{\"outlinewidth\":0,\"ticks\":\"\"}}}],\"scatterpolargl\":[{\"type\":\"scatterpolargl\",\"marker\":{\"colorbar\":{\"outlinewidth\":0,\"ticks\":\"\"}}}],\"bar\":[{\"error_x\":{\"color\":\"#2a3f5f\"},\"error_y\":{\"color\":\"#2a3f5f\"},\"marker\":{\"line\":{\"color\":\"#E5ECF6\",\"width\":0.5},\"pattern\":{\"fillmode\":\"overlay\",\"size\":10,\"solidity\":0.2}},\"type\":\"bar\"}],\"scattergeo\":[{\"type\":\"scattergeo\",\"marker\":{\"colorbar\":{\"outlinewidth\":0,\"ticks\":\"\"}}}],\"scatterpolar\":[{\"type\":\"scatterpolar\",\"marker\":{\"colorbar\":{\"outlinewidth\":0,\"ticks\":\"\"}}}],\"histogram\":[{\"marker\":{\"pattern\":{\"fillmode\":\"overlay\",\"size\":10,\"solidity\":0.2}},\"type\":\"histogram\"}],\"scattergl\":[{\"type\":\"scattergl\",\"marker\":{\"colorbar\":{\"outlinewidth\":0,\"ticks\":\"\"}}}],\"scatter3d\":[{\"type\":\"scatter3d\",\"line\":{\"colorbar\":{\"outlinewidth\":0,\"ticks\":\"\"}},\"marker\":{\"colorbar\":{\"outlinewidth\":0,\"ticks\":\"\"}}}],\"scattermapbox\":[{\"type\":\"scattermapbox\",\"marker\":{\"colorbar\":{\"outlinewidth\":0,\"ticks\":\"\"}}}],\"scatterternary\":[{\"type\":\"scatterternary\",\"marker\":{\"colorbar\":{\"outlinewidth\":0,\"ticks\":\"\"}}}],\"scattercarpet\":[{\"type\":\"scattercarpet\",\"marker\":{\"colorbar\":{\"outlinewidth\":0,\"ticks\":\"\"}}}],\"carpet\":[{\"aaxis\":{\"endlinecolor\":\"#2a3f5f\",\"gridcolor\":\"white\",\"linecolor\":\"white\",\"minorgridcolor\":\"white\",\"startlinecolor\":\"#2a3f5f\"},\"baxis\":{\"endlinecolor\":\"#2a3f5f\",\"gridcolor\":\"white\",\"linecolor\":\"white\",\"minorgridcolor\":\"white\",\"startlinecolor\":\"#2a3f5f\"},\"type\":\"carpet\"}],\"table\":[{\"cells\":{\"fill\":{\"color\":\"#EBF0F8\"},\"line\":{\"color\":\"white\"}},\"header\":{\"fill\":{\"color\":\"#C8D4E3\"},\"line\":{\"color\":\"white\"}},\"type\":\"table\"}],\"barpolar\":[{\"marker\":{\"line\":{\"color\":\"#E5ECF6\",\"width\":0.5},\"pattern\":{\"fillmode\":\"overlay\",\"size\":10,\"solidity\":0.2}},\"type\":\"barpolar\"}],\"pie\":[{\"automargin\":true,\"type\":\"pie\"}]},\"layout\":{\"autotypenumbers\":\"strict\",\"colorway\":[\"#636efa\",\"#EF553B\",\"#00cc96\",\"#ab63fa\",\"#FFA15A\",\"#19d3f3\",\"#FF6692\",\"#B6E880\",\"#FF97FF\",\"#FECB52\"],\"font\":{\"color\":\"#2a3f5f\"},\"hovermode\":\"closest\",\"hoverlabel\":{\"align\":\"left\"},\"paper_bgcolor\":\"white\",\"plot_bgcolor\":\"#E5ECF6\",\"polar\":{\"bgcolor\":\"#E5ECF6\",\"angularaxis\":{\"gridcolor\":\"white\",\"linecolor\":\"white\",\"ticks\":\"\"},\"radialaxis\":{\"gridcolor\":\"white\",\"linecolor\":\"white\",\"ticks\":\"\"}},\"ternary\":{\"bgcolor\":\"#E5ECF6\",\"aaxis\":{\"gridcolor\":\"white\",\"linecolor\":\"white\",\"ticks\":\"\"},\"baxis\":{\"gridcolor\":\"white\",\"linecolor\":\"white\",\"ticks\":\"\"},\"caxis\":{\"gridcolor\":\"white\",\"linecolor\":\"white\",\"ticks\":\"\"}},\"coloraxis\":{\"colorbar\":{\"outlinewidth\":0,\"ticks\":\"\"}},\"colorscale\":{\"sequential\":[[0.0,\"#0d0887\"],[0.1111111111111111,\"#46039f\"],[0.2222222222222222,\"#7201a8\"],[0.3333333333333333,\"#9c179e\"],[0.4444444444444444,\"#bd3786\"],[0.5555555555555556,\"#d8576b\"],[0.6666666666666666,\"#ed7953\"],[0.7777777777777778,\"#fb9f3a\"],[0.8888888888888888,\"#fdca26\"],[1.0,\"#f0f921\"]],\"sequentialminus\":[[0.0,\"#0d0887\"],[0.1111111111111111,\"#46039f\"],[0.2222222222222222,\"#7201a8\"],[0.3333333333333333,\"#9c179e\"],[0.4444444444444444,\"#bd3786\"],[0.5555555555555556,\"#d8576b\"],[0.6666666666666666,\"#ed7953\"],[0.7777777777777778,\"#fb9f3a\"],[0.8888888888888888,\"#fdca26\"],[1.0,\"#f0f921\"]],\"diverging\":[[0,\"#8e0152\"],[0.1,\"#c51b7d\"],[0.2,\"#de77ae\"],[0.3,\"#f1b6da\"],[0.4,\"#fde0ef\"],[0.5,\"#f7f7f7\"],[0.6,\"#e6f5d0\"],[0.7,\"#b8e186\"],[0.8,\"#7fbc41\"],[0.9,\"#4d9221\"],[1,\"#276419\"]]},\"xaxis\":{\"gridcolor\":\"white\",\"linecolor\":\"white\",\"ticks\":\"\",\"title\":{\"standoff\":15},\"zerolinecolor\":\"white\",\"automargin\":true,\"zerolinewidth\":2},\"yaxis\":{\"gridcolor\":\"white\",\"linecolor\":\"white\",\"ticks\":\"\",\"title\":{\"standoff\":15},\"zerolinecolor\":\"white\",\"automargin\":true,\"zerolinewidth\":2},\"scene\":{\"xaxis\":{\"backgroundcolor\":\"#E5ECF6\",\"gridcolor\":\"white\",\"linecolor\":\"white\",\"showbackground\":true,\"ticks\":\"\",\"zerolinecolor\":\"white\",\"gridwidth\":2},\"yaxis\":{\"backgroundcolor\":\"#E5ECF6\",\"gridcolor\":\"white\",\"linecolor\":\"white\",\"showbackground\":true,\"ticks\":\"\",\"zerolinecolor\":\"white\",\"gridwidth\":2},\"zaxis\":{\"backgroundcolor\":\"#E5ECF6\",\"gridcolor\":\"white\",\"linecolor\":\"white\",\"showbackground\":true,\"ticks\":\"\",\"zerolinecolor\":\"white\",\"gridwidth\":2}},\"shapedefaults\":{\"line\":{\"color\":\"#2a3f5f\"}},\"annotationdefaults\":{\"arrowcolor\":\"#2a3f5f\",\"arrowhead\":0,\"arrowwidth\":1},\"geo\":{\"bgcolor\":\"white\",\"landcolor\":\"#E5ECF6\",\"subunitcolor\":\"white\",\"showland\":true,\"showlakes\":true,\"lakecolor\":\"white\"},\"title\":{\"x\":0.05},\"mapbox\":{\"style\":\"light\"}}},\"xaxis\":{\"anchor\":\"y\",\"domain\":[0.0,1.0],\"title\":{\"text\":\"Sum\"}},\"yaxis\":{\"anchor\":\"x\",\"domain\":[0.0,1.0],\"title\":{\"text\":\"CUST_SSN\"}},\"legend\":{\"tracegroupgap\":0},\"margin\":{\"t\":60}},                        {\"responsive\": true}                    ).then(function(){\n",
       "                            \n",
       "var gd = document.getElementById('fce4b277-a3f5-426a-b594-dc7b4c0fd521');\n",
       "var x = new MutationObserver(function (mutations, observer) {{\n",
       "        var display = window.getComputedStyle(gd).display;\n",
       "        if (!display || display === 'none') {{\n",
       "            console.log([gd, 'removed!']);\n",
       "            Plotly.purge(gd);\n",
       "            observer.disconnect();\n",
       "        }}\n",
       "}});\n",
       "\n",
       "// Listen for the removal of the full notebook cells\n",
       "var notebookContainer = gd.closest('#notebook-container');\n",
       "if (notebookContainer) {{\n",
       "    x.observe(notebookContainer, {childList: true});\n",
       "}}\n",
       "\n",
       "// Listen for the clearing of the current output cell\n",
       "var outputEl = gd.closest('.output');\n",
       "if (outputEl) {{\n",
       "    x.observe(outputEl, {childList: true});\n",
       "}}\n",
       "\n",
       "                        })                };                });            </script>        </div>"
      ]
     },
     "metadata": {},
     "output_type": "display_data"
    }
   ],
   "source": [
    "transaction_sums = purchases[['CUST_SSN', 'TRANSACTION_VALUE']].groupby('CUST_SSN').sum().rename(columns={\"TRANSACTION_VALUE\": \"Sum\"}).reset_index()\n",
    "transaction_sums['CUST_SSN'] = transaction_sums['CUST_SSN'].astype(str)\n",
    "fig = px.scatter(transaction_sums, x='Sum (Dollars)', y='CUST_SSN')\n",
    "fig.show()"
   ]
  },
  {
   "cell_type": "code",
   "execution_count": 12,
   "id": "e3bf6d33-3d9f-4eab-a17c-f419eaae8a1b",
   "metadata": {},
   "outputs": [
    {
     "name": "stdout",
     "output_type": "stream",
     "text": [
      "+-----------------------+----------------------+\n",
      "|substring(TIMEID, 5, 2)|sum(TRANSACTION_VALUE)|\n",
      "+-----------------------+----------------------+\n",
      "|                     10|     202583.8900000002|\n",
      "|                     05|    201310.25999999998|\n",
      "|                     12|    201251.07999999964|\n",
      "|                     07|    201199.35000000006|\n",
      "|                     02|    201086.67000000007|\n",
      "|                     11|     200549.3600000001|\n",
      "|                     01|    196568.87000000005|\n",
      "|                     03|    196488.59000000005|\n",
      "|                     08|    196453.41000000053|\n",
      "|                     09|    196069.43999999994|\n",
      "|                     06|    195468.74000000005|\n",
      "|                     04|    194203.24999999997|\n",
      "+-----------------------+----------------------+\n",
      "\n"
     ]
    }
   ],
   "source": [
    "spark.sql(\"SELECT SUBSTRING(t.TIMEID, 5, 2), round(sum(t.TRANSACTION_VALUE), 2) \\\n",
    "          FROM credit_card t \\\n",
    "          GROUP BY SUBSTRING(t.TIMEID, 5, 2) \\\n",
    "          ORDER BY sum(t.TRANSACTION_VALUE) DESC\").show()"
   ]
  },
  {
   "cell_type": "code",
   "execution_count": 47,
   "id": "23753018-0ea5-4ecb-910e-e834b99ca153",
   "metadata": {},
   "outputs": [
    {
     "name": "stderr",
     "output_type": "stream",
     "text": [
      "C:\\Users\\vin39\\AppData\\Local\\Temp\\ipykernel_9256\\812007907.py:2: SettingWithCopyWarning:\n",
      "\n",
      "\n",
      "A value is trying to be set on a copy of a slice from a DataFrame.\n",
      "Try using .loc[row_indexer,col_indexer] = value instead\n",
      "\n",
      "See the caveats in the documentation: https://pandas.pydata.org/pandas-docs/stable/user_guide/indexing.html#returning-a-view-versus-a-copy\n",
      "\n"
     ]
    },
    {
     "data": {
      "application/vnd.plotly.v1+json": {
       "config": {
        "plotlyServerURL": "https://plot.ly"
       },
       "data": [
        {
         "alignmentgroup": "True",
         "hovertemplate": "Sum=%{x}<br>MONTH=%{y}<extra></extra>",
         "legendgroup": "",
         "marker": {
          "color": "#636efa",
          "pattern": {
           "shape": ""
          }
         },
         "name": "",
         "offsetgroup": "",
         "orientation": "h",
         "showlegend": false,
         "textposition": "auto",
         "type": "bar",
         "x": [
          202583.89,
          201310.26,
          201251.08
         ],
         "xaxis": "x",
         "y": [
          "10",
          "05",
          "12"
         ],
         "yaxis": "y"
        }
       ],
       "layout": {
        "autosize": true,
        "barmode": "relative",
        "legend": {
         "tracegroupgap": 0
        },
        "margin": {
         "t": 60
        },
        "template": {
         "data": {
          "bar": [
           {
            "error_x": {
             "color": "#2a3f5f"
            },
            "error_y": {
             "color": "#2a3f5f"
            },
            "marker": {
             "line": {
              "color": "#E5ECF6",
              "width": 0.5
             },
             "pattern": {
              "fillmode": "overlay",
              "size": 10,
              "solidity": 0.2
             }
            },
            "type": "bar"
           }
          ],
          "barpolar": [
           {
            "marker": {
             "line": {
              "color": "#E5ECF6",
              "width": 0.5
             },
             "pattern": {
              "fillmode": "overlay",
              "size": 10,
              "solidity": 0.2
             }
            },
            "type": "barpolar"
           }
          ],
          "carpet": [
           {
            "aaxis": {
             "endlinecolor": "#2a3f5f",
             "gridcolor": "white",
             "linecolor": "white",
             "minorgridcolor": "white",
             "startlinecolor": "#2a3f5f"
            },
            "baxis": {
             "endlinecolor": "#2a3f5f",
             "gridcolor": "white",
             "linecolor": "white",
             "minorgridcolor": "white",
             "startlinecolor": "#2a3f5f"
            },
            "type": "carpet"
           }
          ],
          "choropleth": [
           {
            "colorbar": {
             "outlinewidth": 0,
             "ticks": ""
            },
            "type": "choropleth"
           }
          ],
          "contour": [
           {
            "colorbar": {
             "outlinewidth": 0,
             "ticks": ""
            },
            "colorscale": [
             [
              0,
              "#0d0887"
             ],
             [
              0.1111111111111111,
              "#46039f"
             ],
             [
              0.2222222222222222,
              "#7201a8"
             ],
             [
              0.3333333333333333,
              "#9c179e"
             ],
             [
              0.4444444444444444,
              "#bd3786"
             ],
             [
              0.5555555555555556,
              "#d8576b"
             ],
             [
              0.6666666666666666,
              "#ed7953"
             ],
             [
              0.7777777777777778,
              "#fb9f3a"
             ],
             [
              0.8888888888888888,
              "#fdca26"
             ],
             [
              1,
              "#f0f921"
             ]
            ],
            "type": "contour"
           }
          ],
          "contourcarpet": [
           {
            "colorbar": {
             "outlinewidth": 0,
             "ticks": ""
            },
            "type": "contourcarpet"
           }
          ],
          "heatmap": [
           {
            "colorbar": {
             "outlinewidth": 0,
             "ticks": ""
            },
            "colorscale": [
             [
              0,
              "#0d0887"
             ],
             [
              0.1111111111111111,
              "#46039f"
             ],
             [
              0.2222222222222222,
              "#7201a8"
             ],
             [
              0.3333333333333333,
              "#9c179e"
             ],
             [
              0.4444444444444444,
              "#bd3786"
             ],
             [
              0.5555555555555556,
              "#d8576b"
             ],
             [
              0.6666666666666666,
              "#ed7953"
             ],
             [
              0.7777777777777778,
              "#fb9f3a"
             ],
             [
              0.8888888888888888,
              "#fdca26"
             ],
             [
              1,
              "#f0f921"
             ]
            ],
            "type": "heatmap"
           }
          ],
          "heatmapgl": [
           {
            "colorbar": {
             "outlinewidth": 0,
             "ticks": ""
            },
            "colorscale": [
             [
              0,
              "#0d0887"
             ],
             [
              0.1111111111111111,
              "#46039f"
             ],
             [
              0.2222222222222222,
              "#7201a8"
             ],
             [
              0.3333333333333333,
              "#9c179e"
             ],
             [
              0.4444444444444444,
              "#bd3786"
             ],
             [
              0.5555555555555556,
              "#d8576b"
             ],
             [
              0.6666666666666666,
              "#ed7953"
             ],
             [
              0.7777777777777778,
              "#fb9f3a"
             ],
             [
              0.8888888888888888,
              "#fdca26"
             ],
             [
              1,
              "#f0f921"
             ]
            ],
            "type": "heatmapgl"
           }
          ],
          "histogram": [
           {
            "marker": {
             "pattern": {
              "fillmode": "overlay",
              "size": 10,
              "solidity": 0.2
             }
            },
            "type": "histogram"
           }
          ],
          "histogram2d": [
           {
            "colorbar": {
             "outlinewidth": 0,
             "ticks": ""
            },
            "colorscale": [
             [
              0,
              "#0d0887"
             ],
             [
              0.1111111111111111,
              "#46039f"
             ],
             [
              0.2222222222222222,
              "#7201a8"
             ],
             [
              0.3333333333333333,
              "#9c179e"
             ],
             [
              0.4444444444444444,
              "#bd3786"
             ],
             [
              0.5555555555555556,
              "#d8576b"
             ],
             [
              0.6666666666666666,
              "#ed7953"
             ],
             [
              0.7777777777777778,
              "#fb9f3a"
             ],
             [
              0.8888888888888888,
              "#fdca26"
             ],
             [
              1,
              "#f0f921"
             ]
            ],
            "type": "histogram2d"
           }
          ],
          "histogram2dcontour": [
           {
            "colorbar": {
             "outlinewidth": 0,
             "ticks": ""
            },
            "colorscale": [
             [
              0,
              "#0d0887"
             ],
             [
              0.1111111111111111,
              "#46039f"
             ],
             [
              0.2222222222222222,
              "#7201a8"
             ],
             [
              0.3333333333333333,
              "#9c179e"
             ],
             [
              0.4444444444444444,
              "#bd3786"
             ],
             [
              0.5555555555555556,
              "#d8576b"
             ],
             [
              0.6666666666666666,
              "#ed7953"
             ],
             [
              0.7777777777777778,
              "#fb9f3a"
             ],
             [
              0.8888888888888888,
              "#fdca26"
             ],
             [
              1,
              "#f0f921"
             ]
            ],
            "type": "histogram2dcontour"
           }
          ],
          "mesh3d": [
           {
            "colorbar": {
             "outlinewidth": 0,
             "ticks": ""
            },
            "type": "mesh3d"
           }
          ],
          "parcoords": [
           {
            "line": {
             "colorbar": {
              "outlinewidth": 0,
              "ticks": ""
             }
            },
            "type": "parcoords"
           }
          ],
          "pie": [
           {
            "automargin": true,
            "type": "pie"
           }
          ],
          "scatter": [
           {
            "fillpattern": {
             "fillmode": "overlay",
             "size": 10,
             "solidity": 0.2
            },
            "type": "scatter"
           }
          ],
          "scatter3d": [
           {
            "line": {
             "colorbar": {
              "outlinewidth": 0,
              "ticks": ""
             }
            },
            "marker": {
             "colorbar": {
              "outlinewidth": 0,
              "ticks": ""
             }
            },
            "type": "scatter3d"
           }
          ],
          "scattercarpet": [
           {
            "marker": {
             "colorbar": {
              "outlinewidth": 0,
              "ticks": ""
             }
            },
            "type": "scattercarpet"
           }
          ],
          "scattergeo": [
           {
            "marker": {
             "colorbar": {
              "outlinewidth": 0,
              "ticks": ""
             }
            },
            "type": "scattergeo"
           }
          ],
          "scattergl": [
           {
            "marker": {
             "colorbar": {
              "outlinewidth": 0,
              "ticks": ""
             }
            },
            "type": "scattergl"
           }
          ],
          "scattermapbox": [
           {
            "marker": {
             "colorbar": {
              "outlinewidth": 0,
              "ticks": ""
             }
            },
            "type": "scattermapbox"
           }
          ],
          "scatterpolar": [
           {
            "marker": {
             "colorbar": {
              "outlinewidth": 0,
              "ticks": ""
             }
            },
            "type": "scatterpolar"
           }
          ],
          "scatterpolargl": [
           {
            "marker": {
             "colorbar": {
              "outlinewidth": 0,
              "ticks": ""
             }
            },
            "type": "scatterpolargl"
           }
          ],
          "scatterternary": [
           {
            "marker": {
             "colorbar": {
              "outlinewidth": 0,
              "ticks": ""
             }
            },
            "type": "scatterternary"
           }
          ],
          "surface": [
           {
            "colorbar": {
             "outlinewidth": 0,
             "ticks": ""
            },
            "colorscale": [
             [
              0,
              "#0d0887"
             ],
             [
              0.1111111111111111,
              "#46039f"
             ],
             [
              0.2222222222222222,
              "#7201a8"
             ],
             [
              0.3333333333333333,
              "#9c179e"
             ],
             [
              0.4444444444444444,
              "#bd3786"
             ],
             [
              0.5555555555555556,
              "#d8576b"
             ],
             [
              0.6666666666666666,
              "#ed7953"
             ],
             [
              0.7777777777777778,
              "#fb9f3a"
             ],
             [
              0.8888888888888888,
              "#fdca26"
             ],
             [
              1,
              "#f0f921"
             ]
            ],
            "type": "surface"
           }
          ],
          "table": [
           {
            "cells": {
             "fill": {
              "color": "#EBF0F8"
             },
             "line": {
              "color": "white"
             }
            },
            "header": {
             "fill": {
              "color": "#C8D4E3"
             },
             "line": {
              "color": "white"
             }
            },
            "type": "table"
           }
          ]
         },
         "layout": {
          "annotationdefaults": {
           "arrowcolor": "#2a3f5f",
           "arrowhead": 0,
           "arrowwidth": 1
          },
          "autotypenumbers": "strict",
          "coloraxis": {
           "colorbar": {
            "outlinewidth": 0,
            "ticks": ""
           }
          },
          "colorscale": {
           "diverging": [
            [
             0,
             "#8e0152"
            ],
            [
             0.1,
             "#c51b7d"
            ],
            [
             0.2,
             "#de77ae"
            ],
            [
             0.3,
             "#f1b6da"
            ],
            [
             0.4,
             "#fde0ef"
            ],
            [
             0.5,
             "#f7f7f7"
            ],
            [
             0.6,
             "#e6f5d0"
            ],
            [
             0.7,
             "#b8e186"
            ],
            [
             0.8,
             "#7fbc41"
            ],
            [
             0.9,
             "#4d9221"
            ],
            [
             1,
             "#276419"
            ]
           ],
           "sequential": [
            [
             0,
             "#0d0887"
            ],
            [
             0.1111111111111111,
             "#46039f"
            ],
            [
             0.2222222222222222,
             "#7201a8"
            ],
            [
             0.3333333333333333,
             "#9c179e"
            ],
            [
             0.4444444444444444,
             "#bd3786"
            ],
            [
             0.5555555555555556,
             "#d8576b"
            ],
            [
             0.6666666666666666,
             "#ed7953"
            ],
            [
             0.7777777777777778,
             "#fb9f3a"
            ],
            [
             0.8888888888888888,
             "#fdca26"
            ],
            [
             1,
             "#f0f921"
            ]
           ],
           "sequentialminus": [
            [
             0,
             "#0d0887"
            ],
            [
             0.1111111111111111,
             "#46039f"
            ],
            [
             0.2222222222222222,
             "#7201a8"
            ],
            [
             0.3333333333333333,
             "#9c179e"
            ],
            [
             0.4444444444444444,
             "#bd3786"
            ],
            [
             0.5555555555555556,
             "#d8576b"
            ],
            [
             0.6666666666666666,
             "#ed7953"
            ],
            [
             0.7777777777777778,
             "#fb9f3a"
            ],
            [
             0.8888888888888888,
             "#fdca26"
            ],
            [
             1,
             "#f0f921"
            ]
           ]
          },
          "colorway": [
           "#636efa",
           "#EF553B",
           "#00cc96",
           "#ab63fa",
           "#FFA15A",
           "#19d3f3",
           "#FF6692",
           "#B6E880",
           "#FF97FF",
           "#FECB52"
          ],
          "font": {
           "color": "#2a3f5f"
          },
          "geo": {
           "bgcolor": "white",
           "lakecolor": "white",
           "landcolor": "#E5ECF6",
           "showlakes": true,
           "showland": true,
           "subunitcolor": "white"
          },
          "hoverlabel": {
           "align": "left"
          },
          "hovermode": "closest",
          "mapbox": {
           "style": "light"
          },
          "paper_bgcolor": "white",
          "plot_bgcolor": "#E5ECF6",
          "polar": {
           "angularaxis": {
            "gridcolor": "white",
            "linecolor": "white",
            "ticks": ""
           },
           "bgcolor": "#E5ECF6",
           "radialaxis": {
            "gridcolor": "white",
            "linecolor": "white",
            "ticks": ""
           }
          },
          "scene": {
           "xaxis": {
            "backgroundcolor": "#E5ECF6",
            "gridcolor": "white",
            "gridwidth": 2,
            "linecolor": "white",
            "showbackground": true,
            "ticks": "",
            "zerolinecolor": "white"
           },
           "yaxis": {
            "backgroundcolor": "#E5ECF6",
            "gridcolor": "white",
            "gridwidth": 2,
            "linecolor": "white",
            "showbackground": true,
            "ticks": "",
            "zerolinecolor": "white"
           },
           "zaxis": {
            "backgroundcolor": "#E5ECF6",
            "gridcolor": "white",
            "gridwidth": 2,
            "linecolor": "white",
            "showbackground": true,
            "ticks": "",
            "zerolinecolor": "white"
           }
          },
          "shapedefaults": {
           "line": {
            "color": "#2a3f5f"
           }
          },
          "ternary": {
           "aaxis": {
            "gridcolor": "white",
            "linecolor": "white",
            "ticks": ""
           },
           "baxis": {
            "gridcolor": "white",
            "linecolor": "white",
            "ticks": ""
           },
           "bgcolor": "#E5ECF6",
           "caxis": {
            "gridcolor": "white",
            "linecolor": "white",
            "ticks": ""
           }
          },
          "title": {
           "x": 0.05
          },
          "xaxis": {
           "automargin": true,
           "gridcolor": "white",
           "linecolor": "white",
           "ticks": "",
           "title": {
            "standoff": 15
           },
           "zerolinecolor": "white",
           "zerolinewidth": 2
          },
          "yaxis": {
           "automargin": true,
           "gridcolor": "white",
           "linecolor": "white",
           "ticks": "",
           "title": {
            "standoff": 15
           },
           "zerolinecolor": "white",
           "zerolinewidth": 2
          }
         }
        },
        "xaxis": {
         "anchor": "y",
         "autorange": true,
         "domain": [
          0,
          1
         ],
         "range": [
          0,
          213246.2
         ],
         "title": {
          "text": "Sum"
         },
         "type": "linear"
        },
        "yaxis": {
         "anchor": "x",
         "autorange": true,
         "domain": [
          0,
          1
         ],
         "range": [
          -0.5,
          2.5
         ],
         "title": {
          "text": "MONTH"
         },
         "type": "category"
        }
       }
      },
      "image/png": "[encoded data removed]",
      "text/html": [
       "<div>                            <div id=\"d9ef7a0d-d1c0-43ae-b499-46f0c2c91ff0\" class=\"plotly-graph-div\" style=\"height:525px; width:100%;\"></div>            <script type=\"text/javascript\">                require([\"plotly\"], function(Plotly) {                    window.PLOTLYENV=window.PLOTLYENV || {};                                    if (document.getElementById(\"d9ef7a0d-d1c0-43ae-b499-46f0c2c91ff0\")) {                    Plotly.newPlot(                        \"d9ef7a0d-d1c0-43ae-b499-46f0c2c91ff0\",                        [{\"alignmentgroup\":\"True\",\"hovertemplate\":\"Sum=%{x}<br>MONTH=%{y}<extra></extra>\",\"legendgroup\":\"\",\"marker\":{\"color\":\"#636efa\",\"pattern\":{\"shape\":\"\"}},\"name\":\"\",\"offsetgroup\":\"\",\"orientation\":\"h\",\"showlegend\":false,\"textposition\":\"auto\",\"x\":[202583.89,201310.26,201251.08],\"xaxis\":\"x\",\"y\":[\"10\",\"05\",\"12\"],\"yaxis\":\"y\",\"type\":\"bar\"}],                        {\"template\":{\"data\":{\"histogram2dcontour\":[{\"type\":\"histogram2dcontour\",\"colorbar\":{\"outlinewidth\":0,\"ticks\":\"\"},\"colorscale\":[[0.0,\"#0d0887\"],[0.1111111111111111,\"#46039f\"],[0.2222222222222222,\"#7201a8\"],[0.3333333333333333,\"#9c179e\"],[0.4444444444444444,\"#bd3786\"],[0.5555555555555556,\"#d8576b\"],[0.6666666666666666,\"#ed7953\"],[0.7777777777777778,\"#fb9f3a\"],[0.8888888888888888,\"#fdca26\"],[1.0,\"#f0f921\"]]}],\"choropleth\":[{\"type\":\"choropleth\",\"colorbar\":{\"outlinewidth\":0,\"ticks\":\"\"}}],\"histogram2d\":[{\"type\":\"histogram2d\",\"colorbar\":{\"outlinewidth\":0,\"ticks\":\"\"},\"colorscale\":[[0.0,\"#0d0887\"],[0.1111111111111111,\"#46039f\"],[0.2222222222222222,\"#7201a8\"],[0.3333333333333333,\"#9c179e\"],[0.4444444444444444,\"#bd3786\"],[0.5555555555555556,\"#d8576b\"],[0.6666666666666666,\"#ed7953\"],[0.7777777777777778,\"#fb9f3a\"],[0.8888888888888888,\"#fdca26\"],[1.0,\"#f0f921\"]]}],\"heatmap\":[{\"type\":\"heatmap\",\"colorbar\":{\"outlinewidth\":0,\"ticks\":\"\"},\"colorscale\":[[0.0,\"#0d0887\"],[0.1111111111111111,\"#46039f\"],[0.2222222222222222,\"#7201a8\"],[0.3333333333333333,\"#9c179e\"],[0.4444444444444444,\"#bd3786\"],[0.5555555555555556,\"#d8576b\"],[0.6666666666666666,\"#ed7953\"],[0.7777777777777778,\"#fb9f3a\"],[0.8888888888888888,\"#fdca26\"],[1.0,\"#f0f921\"]]}],\"heatmapgl\":[{\"type\":\"heatmapgl\",\"colorbar\":{\"outlinewidth\":0,\"ticks\":\"\"},\"colorscale\":[[0.0,\"#0d0887\"],[0.1111111111111111,\"#46039f\"],[0.2222222222222222,\"#7201a8\"],[0.3333333333333333,\"#9c179e\"],[0.4444444444444444,\"#bd3786\"],[0.5555555555555556,\"#d8576b\"],[0.6666666666666666,\"#ed7953\"],[0.7777777777777778,\"#fb9f3a\"],[0.8888888888888888,\"#fdca26\"],[1.0,\"#f0f921\"]]}],\"contourcarpet\":[{\"type\":\"contourcarpet\",\"colorbar\":{\"outlinewidth\":0,\"ticks\":\"\"}}],\"contour\":[{\"type\":\"contour\",\"colorbar\":{\"outlinewidth\":0,\"ticks\":\"\"},\"colorscale\":[[0.0,\"#0d0887\"],[0.1111111111111111,\"#46039f\"],[0.2222222222222222,\"#7201a8\"],[0.3333333333333333,\"#9c179e\"],[0.4444444444444444,\"#bd3786\"],[0.5555555555555556,\"#d8576b\"],[0.6666666666666666,\"#ed7953\"],[0.7777777777777778,\"#fb9f3a\"],[0.8888888888888888,\"#fdca26\"],[1.0,\"#f0f921\"]]}],\"surface\":[{\"type\":\"surface\",\"colorbar\":{\"outlinewidth\":0,\"ticks\":\"\"},\"colorscale\":[[0.0,\"#0d0887\"],[0.1111111111111111,\"#46039f\"],[0.2222222222222222,\"#7201a8\"],[0.3333333333333333,\"#9c179e\"],[0.4444444444444444,\"#bd3786\"],[0.5555555555555556,\"#d8576b\"],[0.6666666666666666,\"#ed7953\"],[0.7777777777777778,\"#fb9f3a\"],[0.8888888888888888,\"#fdca26\"],[1.0,\"#f0f921\"]]}],\"mesh3d\":[{\"type\":\"mesh3d\",\"colorbar\":{\"outlinewidth\":0,\"ticks\":\"\"}}],\"scatter\":[{\"fillpattern\":{\"fillmode\":\"overlay\",\"size\":10,\"solidity\":0.2},\"type\":\"scatter\"}],\"parcoords\":[{\"type\":\"parcoords\",\"line\":{\"colorbar\":{\"outlinewidth\":0,\"ticks\":\"\"}}}],\"scatterpolargl\":[{\"type\":\"scatterpolargl\",\"marker\":{\"colorbar\":{\"outlinewidth\":0,\"ticks\":\"\"}}}],\"bar\":[{\"error_x\":{\"color\":\"#2a3f5f\"},\"error_y\":{\"color\":\"#2a3f5f\"},\"marker\":{\"line\":{\"color\":\"#E5ECF6\",\"width\":0.5},\"pattern\":{\"fillmode\":\"overlay\",\"size\":10,\"solidity\":0.2}},\"type\":\"bar\"}],\"scattergeo\":[{\"type\":\"scattergeo\",\"marker\":{\"colorbar\":{\"outlinewidth\":0,\"ticks\":\"\"}}}],\"scatterpolar\":[{\"type\":\"scatterpolar\",\"marker\":{\"colorbar\":{\"outlinewidth\":0,\"ticks\":\"\"}}}],\"histogram\":[{\"marker\":{\"pattern\":{\"fillmode\":\"overlay\",\"size\":10,\"solidity\":0.2}},\"type\":\"histogram\"}],\"scattergl\":[{\"type\":\"scattergl\",\"marker\":{\"colorbar\":{\"outlinewidth\":0,\"ticks\":\"\"}}}],\"scatter3d\":[{\"type\":\"scatter3d\",\"line\":{\"colorbar\":{\"outlinewidth\":0,\"ticks\":\"\"}},\"marker\":{\"colorbar\":{\"outlinewidth\":0,\"ticks\":\"\"}}}],\"scattermapbox\":[{\"type\":\"scattermapbox\",\"marker\":{\"colorbar\":{\"outlinewidth\":0,\"ticks\":\"\"}}}],\"scatterternary\":[{\"type\":\"scatterternary\",\"marker\":{\"colorbar\":{\"outlinewidth\":0,\"ticks\":\"\"}}}],\"scattercarpet\":[{\"type\":\"scattercarpet\",\"marker\":{\"colorbar\":{\"outlinewidth\":0,\"ticks\":\"\"}}}],\"carpet\":[{\"aaxis\":{\"endlinecolor\":\"#2a3f5f\",\"gridcolor\":\"white\",\"linecolor\":\"white\",\"minorgridcolor\":\"white\",\"startlinecolor\":\"#2a3f5f\"},\"baxis\":{\"endlinecolor\":\"#2a3f5f\",\"gridcolor\":\"white\",\"linecolor\":\"white\",\"minorgridcolor\":\"white\",\"startlinecolor\":\"#2a3f5f\"},\"type\":\"carpet\"}],\"table\":[{\"cells\":{\"fill\":{\"color\":\"#EBF0F8\"},\"line\":{\"color\":\"white\"}},\"header\":{\"fill\":{\"color\":\"#C8D4E3\"},\"line\":{\"color\":\"white\"}},\"type\":\"table\"}],\"barpolar\":[{\"marker\":{\"line\":{\"color\":\"#E5ECF6\",\"width\":0.5},\"pattern\":{\"fillmode\":\"overlay\",\"size\":10,\"solidity\":0.2}},\"type\":\"barpolar\"}],\"pie\":[{\"automargin\":true,\"type\":\"pie\"}]},\"layout\":{\"autotypenumbers\":\"strict\",\"colorway\":[\"#636efa\",\"#EF553B\",\"#00cc96\",\"#ab63fa\",\"#FFA15A\",\"#19d3f3\",\"#FF6692\",\"#B6E880\",\"#FF97FF\",\"#FECB52\"],\"font\":{\"color\":\"#2a3f5f\"},\"hovermode\":\"closest\",\"hoverlabel\":{\"align\":\"left\"},\"paper_bgcolor\":\"white\",\"plot_bgcolor\":\"#E5ECF6\",\"polar\":{\"bgcolor\":\"#E5ECF6\",\"angularaxis\":{\"gridcolor\":\"white\",\"linecolor\":\"white\",\"ticks\":\"\"},\"radialaxis\":{\"gridcolor\":\"white\",\"linecolor\":\"white\",\"ticks\":\"\"}},\"ternary\":{\"bgcolor\":\"#E5ECF6\",\"aaxis\":{\"gridcolor\":\"white\",\"linecolor\":\"white\",\"ticks\":\"\"},\"baxis\":{\"gridcolor\":\"white\",\"linecolor\":\"white\",\"ticks\":\"\"},\"caxis\":{\"gridcolor\":\"white\",\"linecolor\":\"white\",\"ticks\":\"\"}},\"coloraxis\":{\"colorbar\":{\"outlinewidth\":0,\"ticks\":\"\"}},\"colorscale\":{\"sequential\":[[0.0,\"#0d0887\"],[0.1111111111111111,\"#46039f\"],[0.2222222222222222,\"#7201a8\"],[0.3333333333333333,\"#9c179e\"],[0.4444444444444444,\"#bd3786\"],[0.5555555555555556,\"#d8576b\"],[0.6666666666666666,\"#ed7953\"],[0.7777777777777778,\"#fb9f3a\"],[0.8888888888888888,\"#fdca26\"],[1.0,\"#f0f921\"]],\"sequentialminus\":[[0.0,\"#0d0887\"],[0.1111111111111111,\"#46039f\"],[0.2222222222222222,\"#7201a8\"],[0.3333333333333333,\"#9c179e\"],[0.4444444444444444,\"#bd3786\"],[0.5555555555555556,\"#d8576b\"],[0.6666666666666666,\"#ed7953\"],[0.7777777777777778,\"#fb9f3a\"],[0.8888888888888888,\"#fdca26\"],[1.0,\"#f0f921\"]],\"diverging\":[[0,\"#8e0152\"],[0.1,\"#c51b7d\"],[0.2,\"#de77ae\"],[0.3,\"#f1b6da\"],[0.4,\"#fde0ef\"],[0.5,\"#f7f7f7\"],[0.6,\"#e6f5d0\"],[0.7,\"#b8e186\"],[0.8,\"#7fbc41\"],[0.9,\"#4d9221\"],[1,\"#276419\"]]},\"xaxis\":{\"gridcolor\":\"white\",\"linecolor\":\"white\",\"ticks\":\"\",\"title\":{\"standoff\":15},\"zerolinecolor\":\"white\",\"automargin\":true,\"zerolinewidth\":2},\"yaxis\":{\"gridcolor\":\"white\",\"linecolor\":\"white\",\"ticks\":\"\",\"title\":{\"standoff\":15},\"zerolinecolor\":\"white\",\"automargin\":true,\"zerolinewidth\":2},\"scene\":{\"xaxis\":{\"backgroundcolor\":\"#E5ECF6\",\"gridcolor\":\"white\",\"linecolor\":\"white\",\"showbackground\":true,\"ticks\":\"\",\"zerolinecolor\":\"white\",\"gridwidth\":2},\"yaxis\":{\"backgroundcolor\":\"#E5ECF6\",\"gridcolor\":\"white\",\"linecolor\":\"white\",\"showbackground\":true,\"ticks\":\"\",\"zerolinecolor\":\"white\",\"gridwidth\":2},\"zaxis\":{\"backgroundcolor\":\"#E5ECF6\",\"gridcolor\":\"white\",\"linecolor\":\"white\",\"showbackground\":true,\"ticks\":\"\",\"zerolinecolor\":\"white\",\"gridwidth\":2}},\"shapedefaults\":{\"line\":{\"color\":\"#2a3f5f\"}},\"annotationdefaults\":{\"arrowcolor\":\"#2a3f5f\",\"arrowhead\":0,\"arrowwidth\":1},\"geo\":{\"bgcolor\":\"white\",\"landcolor\":\"#E5ECF6\",\"subunitcolor\":\"white\",\"showland\":true,\"showlakes\":true,\"lakecolor\":\"white\"},\"title\":{\"x\":0.05},\"mapbox\":{\"style\":\"light\"}}},\"xaxis\":{\"anchor\":\"y\",\"domain\":[0.0,1.0],\"title\":{\"text\":\"Sum\"}},\"yaxis\":{\"anchor\":\"x\",\"domain\":[0.0,1.0],\"title\":{\"text\":\"MONTH\"}},\"legend\":{\"tracegroupgap\":0},\"margin\":{\"t\":60},\"barmode\":\"relative\"},                        {\"responsive\": true}                    ).then(function(){\n",
       "                            \n",
       "var gd = document.getElementById('d9ef7a0d-d1c0-43ae-b499-46f0c2c91ff0');\n",
       "var x = new MutationObserver(function (mutations, observer) {{\n",
       "        var display = window.getComputedStyle(gd).display;\n",
       "        if (!display || display === 'none') {{\n",
       "            console.log([gd, 'removed!']);\n",
       "            Plotly.purge(gd);\n",
       "            observer.disconnect();\n",
       "        }}\n",
       "}});\n",
       "\n",
       "// Listen for the removal of the full notebook cells\n",
       "var notebookContainer = gd.closest('#notebook-container');\n",
       "if (notebookContainer) {{\n",
       "    x.observe(notebookContainer, {childList: true});\n",
       "}}\n",
       "\n",
       "// Listen for the clearing of the current output cell\n",
       "var outputEl = gd.closest('.output');\n",
       "if (outputEl) {{\n",
       "    x.observe(outputEl, {childList: true});\n",
       "}}\n",
       "\n",
       "                        })                };                });            </script>        </div>"
      ]
     },
     "metadata": {},
     "output_type": "display_data"
    }
   ],
   "source": [
    "month_purchases = purchases[['TIMEID', 'TRANSACTION_VALUE']]\n",
    "month_purchases['MONTH'] = month_purchases['TIMEID'].apply(lambda e: e[4:6])\n",
    "month_sums = month_purchases.groupby('MONTH').sum().rename(columns={\"TRANSACTION_VALUE\": \"Sum\"}).reset_index().sort_values('Sum', ascending=False)\n",
    "fig = px.bar(month_sums.iloc[0:3], x='Sum', y='MONTH', orientation='h')\n",
    "fig.show()"
   ]
  },
  {
   "cell_type": "code",
   "execution_count": 100,
   "id": "b7342c5e-df16-41f1-b304-080afc4b69f7",
   "metadata": {},
   "outputs": [
    {
     "data": {
      "application/vnd.plotly.v1+json": {
       "config": {
        "plotlyServerURL": "https://plot.ly"
       },
       "data": [
        {
         "hovertemplate": "BRANCH_CODE=%{x}<br>BRANCH_SUM=%{marker.size}<extra></extra>",
         "legendgroup": "",
         "marker": {
          "color": "#636efa",
          "size": [
           2920.15,
           3284.31,
           3353.55,
           2436.8,
           2736.69,
           3567.28,
           2303.11,
           3434.7,
           2780.97,
           2332.03,
           3516.54,
           3530.67,
           1873.71,
           3136.45,
           2558.09,
           3256.26,
           3051.52,
           3397.49,
           3651.7400000000002,
           2766.07,
           3419.75,
           2764.01,
           4370.18,
           2398.85,
           3306.77,
           2629.68,
           2306.13,
           3026.11,
           3084.78,
           3024.16,
           2601.99,
           3823.87,
           3181.73,
           3295.88,
           3097.27,
           3419.44,
           3603.25,
           2787.13,
           3335.4,
           3562.39,
           3407.05,
           2435.5,
           2900.35,
           1677.07,
           3167.14,
           3080.78,
           2972.88,
           2837.37,
           3435.38,
           3374.19,
           3466.31,
           2369.84,
           2724.91,
           4072.04,
           3446.12,
           2667.9,
           3052.8,
           2869.61,
           3594.35,
           3286.7,
           3217.14,
           1965.88,
           3145.39,
           2649.67,
           2742.16,
           2796.89,
           3043.2799999999997,
           2775.21,
           3513.44,
           4003.37,
           3133.88,
           3475.27,
           3697.16,
           2730.69,
           3048.93,
           2721.66,
           2353.7,
           2614.79,
           3237.37,
           2735.26,
           2590.9,
           3436.85,
           3603.67,
           3720.27,
           3070.34,
           2931.74,
           2734.19,
           3111.87,
           3264.18,
           2068.39,
           3087.23,
           2436.62,
           2886.63,
           2652.86,
           2454.36,
           3273.67,
           2593.05,
           3199.78,
           2497.58,
           3451.96,
           2707.63,
           2890.36,
           2680.81,
           1983.04,
           3258.06,
           2603.81,
           3075.9,
           2643.85,
           2727.68,
           3341.57,
           2957.41,
           2344.08,
           2869.18,
           1960.35
          ],
          "sizemode": "area",
          "sizeref": 10.925450000000001,
          "symbol": "circle"
         },
         "mode": "markers",
         "name": "",
         "orientation": "v",
         "showlegend": false,
         "type": "scatter",
         "x": [
          1,
          2,
          3,
          4,
          5,
          7,
          8,
          9,
          10,
          11,
          12,
          14,
          15,
          16,
          17,
          18,
          19,
          20,
          21,
          22,
          23,
          24,
          25,
          26,
          27,
          28,
          29,
          30,
          31,
          32,
          35,
          36,
          37,
          38,
          39,
          40,
          42,
          43,
          44,
          45,
          46,
          47,
          48,
          49,
          50,
          51,
          52,
          53,
          54,
          56,
          57,
          58,
          59,
          60,
          63,
          66,
          67,
          69,
          70,
          72,
          73,
          74,
          75,
          76,
          77,
          78,
          79,
          80,
          81,
          83,
          85,
          89,
          90,
          91,
          93,
          95,
          99,
          100,
          103,
          104,
          105,
          107,
          109,
          111,
          114,
          115,
          117,
          118,
          119,
          121,
          123,
          124,
          125,
          126,
          131,
          135,
          136,
          139,
          144,
          145,
          149,
          156,
          158,
          160,
          164,
          166,
          168,
          170,
          173,
          175,
          178,
          180,
          188,
          192
         ],
         "xaxis": "x",
         "y": [
          2920.15,
          3284.31,
          3353.55,
          2436.8,
          2736.69,
          3567.28,
          2303.11,
          3434.7,
          2780.97,
          2332.03,
          3516.54,
          3530.67,
          1873.71,
          3136.45,
          2558.09,
          3256.26,
          3051.52,
          3397.49,
          3651.7400000000002,
          2766.07,
          3419.75,
          2764.01,
          4370.18,
          2398.85,
          3306.77,
          2629.68,
          2306.13,
          3026.11,
          3084.78,
          3024.16,
          2601.99,
          3823.87,
          3181.73,
          3295.88,
          3097.27,
          3419.44,
          3603.25,
          2787.13,
          3335.4,
          3562.39,
          3407.05,
          2435.5,
          2900.35,
          1677.07,
          3167.14,
          3080.78,
          2972.88,
          2837.37,
          3435.38,
          3374.19,
          3466.31,
          2369.84,
          2724.91,
          4072.04,
          3446.12,
          2667.9,
          3052.8,
          2869.61,
          3594.35,
          3286.7,
          3217.14,
          1965.88,
          3145.39,
          2649.67,
          2742.16,
          2796.89,
          3043.2799999999997,
          2775.21,
          3513.44,
          4003.37,
          3133.88,
          3475.27,
          3697.16,
          2730.69,
          3048.93,
          2721.66,
          2353.7,
          2614.79,
          3237.37,
          2735.26,
          2590.9,
          3436.85,
          3603.67,
          3720.27,
          3070.34,
          2931.74,
          2734.19,
          3111.87,
          3264.18,
          2068.39,
          3087.23,
          2436.62,
          2886.63,
          2652.86,
          2454.36,
          3273.67,
          2593.05,
          3199.78,
          2497.58,
          3451.96,
          2707.63,
          2890.36,
          2680.81,
          1983.04,
          3258.06,
          2603.81,
          3075.9,
          2643.85,
          2727.68,
          3341.57,
          2957.41,
          2344.08,
          2869.18,
          1960.35
         ],
         "yaxis": "y"
        }
       ],
       "layout": {
        "autosize": true,
        "legend": {
         "itemsizing": "constant",
         "tracegroupgap": 0
        },
        "template": {
         "data": {
          "bar": [
           {
            "error_x": {
             "color": "#2a3f5f"
            },
            "error_y": {
             "color": "#2a3f5f"
            },
            "marker": {
             "line": {
              "color": "#E5ECF6",
              "width": 0.5
             },
             "pattern": {
              "fillmode": "overlay",
              "size": 10,
              "solidity": 0.2
             }
            },
            "type": "bar"
           }
          ],
          "barpolar": [
           {
            "marker": {
             "line": {
              "color": "#E5ECF6",
              "width": 0.5
             },
             "pattern": {
              "fillmode": "overlay",
              "size": 10,
              "solidity": 0.2
             }
            },
            "type": "barpolar"
           }
          ],
          "carpet": [
           {
            "aaxis": {
             "endlinecolor": "#2a3f5f",
             "gridcolor": "white",
             "linecolor": "white",
             "minorgridcolor": "white",
             "startlinecolor": "#2a3f5f"
            },
            "baxis": {
             "endlinecolor": "#2a3f5f",
             "gridcolor": "white",
             "linecolor": "white",
             "minorgridcolor": "white",
             "startlinecolor": "#2a3f5f"
            },
            "type": "carpet"
           }
          ],
          "choropleth": [
           {
            "colorbar": {
             "outlinewidth": 0,
             "ticks": ""
            },
            "type": "choropleth"
           }
          ],
          "contour": [
           {
            "colorbar": {
             "outlinewidth": 0,
             "ticks": ""
            },
            "colorscale": [
             [
              0,
              "#0d0887"
             ],
             [
              0.1111111111111111,
              "#46039f"
             ],
             [
              0.2222222222222222,
              "#7201a8"
             ],
             [
              0.3333333333333333,
              "#9c179e"
             ],
             [
              0.4444444444444444,
              "#bd3786"
             ],
             [
              0.5555555555555556,
              "#d8576b"
             ],
             [
              0.6666666666666666,
              "#ed7953"
             ],
             [
              0.7777777777777778,
              "#fb9f3a"
             ],
             [
              0.8888888888888888,
              "#fdca26"
             ],
             [
              1,
              "#f0f921"
             ]
            ],
            "type": "contour"
           }
          ],
          "contourcarpet": [
           {
            "colorbar": {
             "outlinewidth": 0,
             "ticks": ""
            },
            "type": "contourcarpet"
           }
          ],
          "heatmap": [
           {
            "colorbar": {
             "outlinewidth": 0,
             "ticks": ""
            },
            "colorscale": [
             [
              0,
              "#0d0887"
             ],
             [
              0.1111111111111111,
              "#46039f"
             ],
             [
              0.2222222222222222,
              "#7201a8"
             ],
             [
              0.3333333333333333,
              "#9c179e"
             ],
             [
              0.4444444444444444,
              "#bd3786"
             ],
             [
              0.5555555555555556,
              "#d8576b"
             ],
             [
              0.6666666666666666,
              "#ed7953"
             ],
             [
              0.7777777777777778,
              "#fb9f3a"
             ],
             [
              0.8888888888888888,
              "#fdca26"
             ],
             [
              1,
              "#f0f921"
             ]
            ],
            "type": "heatmap"
           }
          ],
          "heatmapgl": [
           {
            "colorbar": {
             "outlinewidth": 0,
             "ticks": ""
            },
            "colorscale": [
             [
              0,
              "#0d0887"
             ],
             [
              0.1111111111111111,
              "#46039f"
             ],
             [
              0.2222222222222222,
              "#7201a8"
             ],
             [
              0.3333333333333333,
              "#9c179e"
             ],
             [
              0.4444444444444444,
              "#bd3786"
             ],
             [
              0.5555555555555556,
              "#d8576b"
             ],
             [
              0.6666666666666666,
              "#ed7953"
             ],
             [
              0.7777777777777778,
              "#fb9f3a"
             ],
             [
              0.8888888888888888,
              "#fdca26"
             ],
             [
              1,
              "#f0f921"
             ]
            ],
            "type": "heatmapgl"
           }
          ],
          "histogram": [
           {
            "marker": {
             "pattern": {
              "fillmode": "overlay",
              "size": 10,
              "solidity": 0.2
             }
            },
            "type": "histogram"
           }
          ],
          "histogram2d": [
           {
            "colorbar": {
             "outlinewidth": 0,
             "ticks": ""
            },
            "colorscale": [
             [
              0,
              "#0d0887"
             ],
             [
              0.1111111111111111,
              "#46039f"
             ],
             [
              0.2222222222222222,
              "#7201a8"
             ],
             [
              0.3333333333333333,
              "#9c179e"
             ],
             [
              0.4444444444444444,
              "#bd3786"
             ],
             [
              0.5555555555555556,
              "#d8576b"
             ],
             [
              0.6666666666666666,
              "#ed7953"
             ],
             [
              0.7777777777777778,
              "#fb9f3a"
             ],
             [
              0.8888888888888888,
              "#fdca26"
             ],
             [
              1,
              "#f0f921"
             ]
            ],
            "type": "histogram2d"
           }
          ],
          "histogram2dcontour": [
           {
            "colorbar": {
             "outlinewidth": 0,
             "ticks": ""
            },
            "colorscale": [
             [
              0,
              "#0d0887"
             ],
             [
              0.1111111111111111,
              "#46039f"
             ],
             [
              0.2222222222222222,
              "#7201a8"
             ],
             [
              0.3333333333333333,
              "#9c179e"
             ],
             [
              0.4444444444444444,
              "#bd3786"
             ],
             [
              0.5555555555555556,
              "#d8576b"
             ],
             [
              0.6666666666666666,
              "#ed7953"
             ],
             [
              0.7777777777777778,
              "#fb9f3a"
             ],
             [
              0.8888888888888888,
              "#fdca26"
             ],
             [
              1,
              "#f0f921"
             ]
            ],
            "type": "histogram2dcontour"
           }
          ],
          "mesh3d": [
           {
            "colorbar": {
             "outlinewidth": 0,
             "ticks": ""
            },
            "type": "mesh3d"
           }
          ],
          "parcoords": [
           {
            "line": {
             "colorbar": {
              "outlinewidth": 0,
              "ticks": ""
             }
            },
            "type": "parcoords"
           }
          ],
          "pie": [
           {
            "automargin": true,
            "type": "pie"
           }
          ],
          "scatter": [
           {
            "fillpattern": {
             "fillmode": "overlay",
             "size": 10,
             "solidity": 0.2
            },
            "type": "scatter"
           }
          ],
          "scatter3d": [
           {
            "line": {
             "colorbar": {
              "outlinewidth": 0,
              "ticks": ""
             }
            },
            "marker": {
             "colorbar": {
              "outlinewidth": 0,
              "ticks": ""
             }
            },
            "type": "scatter3d"
           }
          ],
          "scattercarpet": [
           {
            "marker": {
             "colorbar": {
              "outlinewidth": 0,
              "ticks": ""
             }
            },
            "type": "scattercarpet"
           }
          ],
          "scattergeo": [
           {
            "marker": {
             "colorbar": {
              "outlinewidth": 0,
              "ticks": ""
             }
            },
            "type": "scattergeo"
           }
          ],
          "scattergl": [
           {
            "marker": {
             "colorbar": {
              "outlinewidth": 0,
              "ticks": ""
             }
            },
            "type": "scattergl"
           }
          ],
          "scattermapbox": [
           {
            "marker": {
             "colorbar": {
              "outlinewidth": 0,
              "ticks": ""
             }
            },
            "type": "scattermapbox"
           }
          ],
          "scatterpolar": [
           {
            "marker": {
             "colorbar": {
              "outlinewidth": 0,
              "ticks": ""
             }
            },
            "type": "scatterpolar"
           }
          ],
          "scatterpolargl": [
           {
            "marker": {
             "colorbar": {
              "outlinewidth": 0,
              "ticks": ""
             }
            },
            "type": "scatterpolargl"
           }
          ],
          "scatterternary": [
           {
            "marker": {
             "colorbar": {
              "outlinewidth": 0,
              "ticks": ""
             }
            },
            "type": "scatterternary"
           }
          ],
          "surface": [
           {
            "colorbar": {
             "outlinewidth": 0,
             "ticks": ""
            },
            "colorscale": [
             [
              0,
              "#0d0887"
             ],
             [
              0.1111111111111111,
              "#46039f"
             ],
             [
              0.2222222222222222,
              "#7201a8"
             ],
             [
              0.3333333333333333,
              "#9c179e"
             ],
             [
              0.4444444444444444,
              "#bd3786"
             ],
             [
              0.5555555555555556,
              "#d8576b"
             ],
             [
              0.6666666666666666,
              "#ed7953"
             ],
             [
              0.7777777777777778,
              "#fb9f3a"
             ],
             [
              0.8888888888888888,
              "#fdca26"
             ],
             [
              1,
              "#f0f921"
             ]
            ],
            "type": "surface"
           }
          ],
          "table": [
           {
            "cells": {
             "fill": {
              "color": "#EBF0F8"
             },
             "line": {
              "color": "white"
             }
            },
            "header": {
             "fill": {
              "color": "#C8D4E3"
             },
             "line": {
              "color": "white"
             }
            },
            "type": "table"
           }
          ]
         },
         "layout": {
          "annotationdefaults": {
           "arrowcolor": "#2a3f5f",
           "arrowhead": 0,
           "arrowwidth": 1
          },
          "autotypenumbers": "strict",
          "coloraxis": {
           "colorbar": {
            "outlinewidth": 0,
            "ticks": ""
           }
          },
          "colorscale": {
           "diverging": [
            [
             0,
             "#8e0152"
            ],
            [
             0.1,
             "#c51b7d"
            ],
            [
             0.2,
             "#de77ae"
            ],
            [
             0.3,
             "#f1b6da"
            ],
            [
             0.4,
             "#fde0ef"
            ],
            [
             0.5,
             "#f7f7f7"
            ],
            [
             0.6,
             "#e6f5d0"
            ],
            [
             0.7,
             "#b8e186"
            ],
            [
             0.8,
             "#7fbc41"
            ],
            [
             0.9,
             "#4d9221"
            ],
            [
             1,
             "#276419"
            ]
           ],
           "sequential": [
            [
             0,
             "#0d0887"
            ],
            [
             0.1111111111111111,
             "#46039f"
            ],
            [
             0.2222222222222222,
             "#7201a8"
            ],
            [
             0.3333333333333333,
             "#9c179e"
            ],
            [
             0.4444444444444444,
             "#bd3786"
            ],
            [
             0.5555555555555556,
             "#d8576b"
            ],
            [
             0.6666666666666666,
             "#ed7953"
            ],
            [
             0.7777777777777778,
             "#fb9f3a"
            ],
            [
             0.8888888888888888,
             "#fdca26"
            ],
            [
             1,
             "#f0f921"
            ]
           ],
           "sequentialminus": [
            [
             0,
             "#0d0887"
            ],
            [
             0.1111111111111111,
             "#46039f"
            ],
            [
             0.2222222222222222,
             "#7201a8"
            ],
            [
             0.3333333333333333,
             "#9c179e"
            ],
            [
             0.4444444444444444,
             "#bd3786"
            ],
            [
             0.5555555555555556,
             "#d8576b"
            ],
            [
             0.6666666666666666,
             "#ed7953"
            ],
            [
             0.7777777777777778,
             "#fb9f3a"
            ],
            [
             0.8888888888888888,
             "#fdca26"
            ],
            [
             1,
             "#f0f921"
            ]
           ]
          },
          "colorway": [
           "#636efa",
           "#EF553B",
           "#00cc96",
           "#ab63fa",
           "#FFA15A",
           "#19d3f3",
           "#FF6692",
           "#B6E880",
           "#FF97FF",
           "#FECB52"
          ],
          "font": {
           "color": "#2a3f5f"
          },
          "geo": {
           "bgcolor": "white",
           "lakecolor": "white",
           "landcolor": "#E5ECF6",
           "showlakes": true,
           "showland": true,
           "subunitcolor": "white"
          },
          "hoverlabel": {
           "align": "left"
          },
          "hovermode": "closest",
          "mapbox": {
           "style": "light"
          },
          "paper_bgcolor": "white",
          "plot_bgcolor": "#E5ECF6",
          "polar": {
           "angularaxis": {
            "gridcolor": "white",
            "linecolor": "white",
            "ticks": ""
           },
           "bgcolor": "#E5ECF6",
           "radialaxis": {
            "gridcolor": "white",
            "linecolor": "white",
            "ticks": ""
           }
          },
          "scene": {
           "xaxis": {
            "backgroundcolor": "#E5ECF6",
            "gridcolor": "white",
            "gridwidth": 2,
            "linecolor": "white",
            "showbackground": true,
            "ticks": "",
            "zerolinecolor": "white"
           },
           "yaxis": {
            "backgroundcolor": "#E5ECF6",
            "gridcolor": "white",
            "gridwidth": 2,
            "linecolor": "white",
            "showbackground": true,
            "ticks": "",
            "zerolinecolor": "white"
           },
           "zaxis": {
            "backgroundcolor": "#E5ECF6",
            "gridcolor": "white",
            "gridwidth": 2,
            "linecolor": "white",
            "showbackground": true,
            "ticks": "",
            "zerolinecolor": "white"
           }
          },
          "shapedefaults": {
           "line": {
            "color": "#2a3f5f"
           }
          },
          "ternary": {
           "aaxis": {
            "gridcolor": "white",
            "linecolor": "white",
            "ticks": ""
           },
           "baxis": {
            "gridcolor": "white",
            "linecolor": "white",
            "ticks": ""
           },
           "bgcolor": "#E5ECF6",
           "caxis": {
            "gridcolor": "white",
            "linecolor": "white",
            "ticks": ""
           }
          },
          "title": {
           "x": 0.05
          },
          "xaxis": {
           "automargin": true,
           "gridcolor": "white",
           "linecolor": "white",
           "ticks": "",
           "title": {
            "standoff": 15
           },
           "zerolinecolor": "white",
           "zerolinewidth": 2
          },
          "yaxis": {
           "automargin": true,
           "gridcolor": "white",
           "linecolor": "white",
           "ticks": "",
           "title": {
            "standoff": 15
           },
           "zerolinecolor": "white",
           "zerolinewidth": 2
          }
         }
        },
        "title": {
         "text": "Healthcare Spendings (Dollars) by Branch"
        },
        "xaxis": {
         "anchor": "y",
         "autorange": true,
         "domain": [
          0,
          1
         ],
         "range": [
          -11.96166579707387,
          204.57599624013577
         ],
         "title": {
          "text": "BRANCH_CODE"
         },
         "type": "linear"
        },
        "yaxis": {
         "anchor": "x",
         "autorange": true,
         "domain": [
          0,
          1
         ],
         "range": [
          1305.9645343403542,
          4860.083472448804
         ],
         "title": {
          "text": "BRANCH_SUM"
         },
         "type": "linear"
        }
       }
      },
      "image/png": "[encoded data removed]",
      "text/html": [
       "<div>                            <div id=\"588471b7-c3a6-46b5-b556-1799a215ae0f\" class=\"plotly-graph-div\" style=\"height:525px; width:100%;\"></div>            <script type=\"text/javascript\">                require([\"plotly\"], function(Plotly) {                    window.PLOTLYENV=window.PLOTLYENV || {};                                    if (document.getElementById(\"588471b7-c3a6-46b5-b556-1799a215ae0f\")) {                    Plotly.newPlot(                        \"588471b7-c3a6-46b5-b556-1799a215ae0f\",                        [{\"hovertemplate\":\"BRANCH_CODE=%{x}<br>BRANCH_SUM=%{marker.size}<extra></extra>\",\"legendgroup\":\"\",\"marker\":{\"color\":\"#636efa\",\"size\":[2920.15,3284.31,3353.55,2436.8,2736.69,3567.28,2303.11,3434.7,2780.97,2332.03,3516.54,3530.67,1873.71,3136.45,2558.09,3256.26,3051.52,3397.49,3651.7400000000002,2766.07,3419.75,2764.01,4370.18,2398.85,3306.77,2629.68,2306.13,3026.11,3084.78,3024.16,2601.99,3823.87,3181.73,3295.88,3097.27,3419.44,3603.25,2787.13,3335.4,3562.39,3407.05,2435.5,2900.35,1677.07,3167.14,3080.78,2972.88,2837.37,3435.38,3374.19,3466.31,2369.84,2724.91,4072.04,3446.12,2667.9,3052.8,2869.61,3594.35,3286.7,3217.14,1965.88,3145.39,2649.67,2742.16,2796.89,3043.2799999999997,2775.21,3513.44,4003.37,3133.88,3475.27,3697.16,2730.69,3048.93,2721.66,2353.7,2614.79,3237.37,2735.26,2590.9,3436.85,3603.67,3720.27,3070.34,2931.74,2734.19,3111.87,3264.18,2068.39,3087.23,2436.62,2886.63,2652.86,2454.36,3273.67,2593.05,3199.78,2497.58,3451.96,2707.63,2890.36,2680.81,1983.04,3258.06,2603.81,3075.9,2643.85,2727.68,3341.57,2957.41,2344.08,2869.18,1960.35],\"sizemode\":\"area\",\"sizeref\":10.925450000000001,\"symbol\":\"circle\"},\"mode\":\"markers\",\"name\":\"\",\"orientation\":\"v\",\"showlegend\":false,\"x\":[1,2,3,4,5,7,8,9,10,11,12,14,15,16,17,18,19,20,21,22,23,24,25,26,27,28,29,30,31,32,35,36,37,38,39,40,42,43,44,45,46,47,48,49,50,51,52,53,54,56,57,58,59,60,63,66,67,69,70,72,73,74,75,76,77,78,79,80,81,83,85,89,90,91,93,95,99,100,103,104,105,107,109,111,114,115,117,118,119,121,123,124,125,126,131,135,136,139,144,145,149,156,158,160,164,166,168,170,173,175,178,180,188,192],\"xaxis\":\"x\",\"y\":[2920.15,3284.31,3353.55,2436.8,2736.69,3567.28,2303.11,3434.7,2780.97,2332.03,3516.54,3530.67,1873.71,3136.45,2558.09,3256.26,3051.52,3397.49,3651.7400000000002,2766.07,3419.75,2764.01,4370.18,2398.85,3306.77,2629.68,2306.13,3026.11,3084.78,3024.16,2601.99,3823.87,3181.73,3295.88,3097.27,3419.44,3603.25,2787.13,3335.4,3562.39,3407.05,2435.5,2900.35,1677.07,3167.14,3080.78,2972.88,2837.37,3435.38,3374.19,3466.31,2369.84,2724.91,4072.04,3446.12,2667.9,3052.8,2869.61,3594.35,3286.7,3217.14,1965.88,3145.39,2649.67,2742.16,2796.89,3043.2799999999997,2775.21,3513.44,4003.37,3133.88,3475.27,3697.16,2730.69,3048.93,2721.66,2353.7,2614.79,3237.37,2735.26,2590.9,3436.85,3603.67,3720.27,3070.34,2931.74,2734.19,3111.87,3264.18,2068.39,3087.23,2436.62,2886.63,2652.86,2454.36,3273.67,2593.05,3199.78,2497.58,3451.96,2707.63,2890.36,2680.81,1983.04,3258.06,2603.81,3075.9,2643.85,2727.68,3341.57,2957.41,2344.08,2869.18,1960.35],\"yaxis\":\"y\",\"type\":\"scatter\"}],                        {\"template\":{\"data\":{\"histogram2dcontour\":[{\"type\":\"histogram2dcontour\",\"colorbar\":{\"outlinewidth\":0,\"ticks\":\"\"},\"colorscale\":[[0.0,\"#0d0887\"],[0.1111111111111111,\"#46039f\"],[0.2222222222222222,\"#7201a8\"],[0.3333333333333333,\"#9c179e\"],[0.4444444444444444,\"#bd3786\"],[0.5555555555555556,\"#d8576b\"],[0.6666666666666666,\"#ed7953\"],[0.7777777777777778,\"#fb9f3a\"],[0.8888888888888888,\"#fdca26\"],[1.0,\"#f0f921\"]]}],\"choropleth\":[{\"type\":\"choropleth\",\"colorbar\":{\"outlinewidth\":0,\"ticks\":\"\"}}],\"histogram2d\":[{\"type\":\"histogram2d\",\"colorbar\":{\"outlinewidth\":0,\"ticks\":\"\"},\"colorscale\":[[0.0,\"#0d0887\"],[0.1111111111111111,\"#46039f\"],[0.2222222222222222,\"#7201a8\"],[0.3333333333333333,\"#9c179e\"],[0.4444444444444444,\"#bd3786\"],[0.5555555555555556,\"#d8576b\"],[0.6666666666666666,\"#ed7953\"],[0.7777777777777778,\"#fb9f3a\"],[0.8888888888888888,\"#fdca26\"],[1.0,\"#f0f921\"]]}],\"heatmap\":[{\"type\":\"heatmap\",\"colorbar\":{\"outlinewidth\":0,\"ticks\":\"\"},\"colorscale\":[[0.0,\"#0d0887\"],[0.1111111111111111,\"#46039f\"],[0.2222222222222222,\"#7201a8\"],[0.3333333333333333,\"#9c179e\"],[0.4444444444444444,\"#bd3786\"],[0.5555555555555556,\"#d8576b\"],[0.6666666666666666,\"#ed7953\"],[0.7777777777777778,\"#fb9f3a\"],[0.8888888888888888,\"#fdca26\"],[1.0,\"#f0f921\"]]}],\"heatmapgl\":[{\"type\":\"heatmapgl\",\"colorbar\":{\"outlinewidth\":0,\"ticks\":\"\"},\"colorscale\":[[0.0,\"#0d0887\"],[0.1111111111111111,\"#46039f\"],[0.2222222222222222,\"#7201a8\"],[0.3333333333333333,\"#9c179e\"],[0.4444444444444444,\"#bd3786\"],[0.5555555555555556,\"#d8576b\"],[0.6666666666666666,\"#ed7953\"],[0.7777777777777778,\"#fb9f3a\"],[0.8888888888888888,\"#fdca26\"],[1.0,\"#f0f921\"]]}],\"contourcarpet\":[{\"type\":\"contourcarpet\",\"colorbar\":{\"outlinewidth\":0,\"ticks\":\"\"}}],\"contour\":[{\"type\":\"contour\",\"colorbar\":{\"outlinewidth\":0,\"ticks\":\"\"},\"colorscale\":[[0.0,\"#0d0887\"],[0.1111111111111111,\"#46039f\"],[0.2222222222222222,\"#7201a8\"],[0.3333333333333333,\"#9c179e\"],[0.4444444444444444,\"#bd3786\"],[0.5555555555555556,\"#d8576b\"],[0.6666666666666666,\"#ed7953\"],[0.7777777777777778,\"#fb9f3a\"],[0.8888888888888888,\"#fdca26\"],[1.0,\"#f0f921\"]]}],\"surface\":[{\"type\":\"surface\",\"colorbar\":{\"outlinewidth\":0,\"ticks\":\"\"},\"colorscale\":[[0.0,\"#0d0887\"],[0.1111111111111111,\"#46039f\"],[0.2222222222222222,\"#7201a8\"],[0.3333333333333333,\"#9c179e\"],[0.4444444444444444,\"#bd3786\"],[0.5555555555555556,\"#d8576b\"],[0.6666666666666666,\"#ed7953\"],[0.7777777777777778,\"#fb9f3a\"],[0.8888888888888888,\"#fdca26\"],[1.0,\"#f0f921\"]]}],\"mesh3d\":[{\"type\":\"mesh3d\",\"colorbar\":{\"outlinewidth\":0,\"ticks\":\"\"}}],\"scatter\":[{\"fillpattern\":{\"fillmode\":\"overlay\",\"size\":10,\"solidity\":0.2},\"type\":\"scatter\"}],\"parcoords\":[{\"type\":\"parcoords\",\"line\":{\"colorbar\":{\"outlinewidth\":0,\"ticks\":\"\"}}}],\"scatterpolargl\":[{\"type\":\"scatterpolargl\",\"marker\":{\"colorbar\":{\"outlinewidth\":0,\"ticks\":\"\"}}}],\"bar\":[{\"error_x\":{\"color\":\"#2a3f5f\"},\"error_y\":{\"color\":\"#2a3f5f\"},\"marker\":{\"line\":{\"color\":\"#E5ECF6\",\"width\":0.5},\"pattern\":{\"fillmode\":\"overlay\",\"size\":10,\"solidity\":0.2}},\"type\":\"bar\"}],\"scattergeo\":[{\"type\":\"scattergeo\",\"marker\":{\"colorbar\":{\"outlinewidth\":0,\"ticks\":\"\"}}}],\"scatterpolar\":[{\"type\":\"scatterpolar\",\"marker\":{\"colorbar\":{\"outlinewidth\":0,\"ticks\":\"\"}}}],\"histogram\":[{\"marker\":{\"pattern\":{\"fillmode\":\"overlay\",\"size\":10,\"solidity\":0.2}},\"type\":\"histogram\"}],\"scattergl\":[{\"type\":\"scattergl\",\"marker\":{\"colorbar\":{\"outlinewidth\":0,\"ticks\":\"\"}}}],\"scatter3d\":[{\"type\":\"scatter3d\",\"line\":{\"colorbar\":{\"outlinewidth\":0,\"ticks\":\"\"}},\"marker\":{\"colorbar\":{\"outlinewidth\":0,\"ticks\":\"\"}}}],\"scattermapbox\":[{\"type\":\"scattermapbox\",\"marker\":{\"colorbar\":{\"outlinewidth\":0,\"ticks\":\"\"}}}],\"scatterternary\":[{\"type\":\"scatterternary\",\"marker\":{\"colorbar\":{\"outlinewidth\":0,\"ticks\":\"\"}}}],\"scattercarpet\":[{\"type\":\"scattercarpet\",\"marker\":{\"colorbar\":{\"outlinewidth\":0,\"ticks\":\"\"}}}],\"carpet\":[{\"aaxis\":{\"endlinecolor\":\"#2a3f5f\",\"gridcolor\":\"white\",\"linecolor\":\"white\",\"minorgridcolor\":\"white\",\"startlinecolor\":\"#2a3f5f\"},\"baxis\":{\"endlinecolor\":\"#2a3f5f\",\"gridcolor\":\"white\",\"linecolor\":\"white\",\"minorgridcolor\":\"white\",\"startlinecolor\":\"#2a3f5f\"},\"type\":\"carpet\"}],\"table\":[{\"cells\":{\"fill\":{\"color\":\"#EBF0F8\"},\"line\":{\"color\":\"white\"}},\"header\":{\"fill\":{\"color\":\"#C8D4E3\"},\"line\":{\"color\":\"white\"}},\"type\":\"table\"}],\"barpolar\":[{\"marker\":{\"line\":{\"color\":\"#E5ECF6\",\"width\":0.5},\"pattern\":{\"fillmode\":\"overlay\",\"size\":10,\"solidity\":0.2}},\"type\":\"barpolar\"}],\"pie\":[{\"automargin\":true,\"type\":\"pie\"}]},\"layout\":{\"autotypenumbers\":\"strict\",\"colorway\":[\"#636efa\",\"#EF553B\",\"#00cc96\",\"#ab63fa\",\"#FFA15A\",\"#19d3f3\",\"#FF6692\",\"#B6E880\",\"#FF97FF\",\"#FECB52\"],\"font\":{\"color\":\"#2a3f5f\"},\"hovermode\":\"closest\",\"hoverlabel\":{\"align\":\"left\"},\"paper_bgcolor\":\"white\",\"plot_bgcolor\":\"#E5ECF6\",\"polar\":{\"bgcolor\":\"#E5ECF6\",\"angularaxis\":{\"gridcolor\":\"white\",\"linecolor\":\"white\",\"ticks\":\"\"},\"radialaxis\":{\"gridcolor\":\"white\",\"linecolor\":\"white\",\"ticks\":\"\"}},\"ternary\":{\"bgcolor\":\"#E5ECF6\",\"aaxis\":{\"gridcolor\":\"white\",\"linecolor\":\"white\",\"ticks\":\"\"},\"baxis\":{\"gridcolor\":\"white\",\"linecolor\":\"white\",\"ticks\":\"\"},\"caxis\":{\"gridcolor\":\"white\",\"linecolor\":\"white\",\"ticks\":\"\"}},\"coloraxis\":{\"colorbar\":{\"outlinewidth\":0,\"ticks\":\"\"}},\"colorscale\":{\"sequential\":[[0.0,\"#0d0887\"],[0.1111111111111111,\"#46039f\"],[0.2222222222222222,\"#7201a8\"],[0.3333333333333333,\"#9c179e\"],[0.4444444444444444,\"#bd3786\"],[0.5555555555555556,\"#d8576b\"],[0.6666666666666666,\"#ed7953\"],[0.7777777777777778,\"#fb9f3a\"],[0.8888888888888888,\"#fdca26\"],[1.0,\"#f0f921\"]],\"sequentialminus\":[[0.0,\"#0d0887\"],[0.1111111111111111,\"#46039f\"],[0.2222222222222222,\"#7201a8\"],[0.3333333333333333,\"#9c179e\"],[0.4444444444444444,\"#bd3786\"],[0.5555555555555556,\"#d8576b\"],[0.6666666666666666,\"#ed7953\"],[0.7777777777777778,\"#fb9f3a\"],[0.8888888888888888,\"#fdca26\"],[1.0,\"#f0f921\"]],\"diverging\":[[0,\"#8e0152\"],[0.1,\"#c51b7d\"],[0.2,\"#de77ae\"],[0.3,\"#f1b6da\"],[0.4,\"#fde0ef\"],[0.5,\"#f7f7f7\"],[0.6,\"#e6f5d0\"],[0.7,\"#b8e186\"],[0.8,\"#7fbc41\"],[0.9,\"#4d9221\"],[1,\"#276419\"]]},\"xaxis\":{\"gridcolor\":\"white\",\"linecolor\":\"white\",\"ticks\":\"\",\"title\":{\"standoff\":15},\"zerolinecolor\":\"white\",\"automargin\":true,\"zerolinewidth\":2},\"yaxis\":{\"gridcolor\":\"white\",\"linecolor\":\"white\",\"ticks\":\"\",\"title\":{\"standoff\":15},\"zerolinecolor\":\"white\",\"automargin\":true,\"zerolinewidth\":2},\"scene\":{\"xaxis\":{\"backgroundcolor\":\"#E5ECF6\",\"gridcolor\":\"white\",\"linecolor\":\"white\",\"showbackground\":true,\"ticks\":\"\",\"zerolinecolor\":\"white\",\"gridwidth\":2},\"yaxis\":{\"backgroundcolor\":\"#E5ECF6\",\"gridcolor\":\"white\",\"linecolor\":\"white\",\"showbackground\":true,\"ticks\":\"\",\"zerolinecolor\":\"white\",\"gridwidth\":2},\"zaxis\":{\"backgroundcolor\":\"#E5ECF6\",\"gridcolor\":\"white\",\"linecolor\":\"white\",\"showbackground\":true,\"ticks\":\"\",\"zerolinecolor\":\"white\",\"gridwidth\":2}},\"shapedefaults\":{\"line\":{\"color\":\"#2a3f5f\"}},\"annotationdefaults\":{\"arrowcolor\":\"#2a3f5f\",\"arrowhead\":0,\"arrowwidth\":1},\"geo\":{\"bgcolor\":\"white\",\"landcolor\":\"#E5ECF6\",\"subunitcolor\":\"white\",\"showland\":true,\"showlakes\":true,\"lakecolor\":\"white\"},\"title\":{\"x\":0.05},\"mapbox\":{\"style\":\"light\"}}},\"xaxis\":{\"anchor\":\"y\",\"domain\":[0.0,1.0],\"title\":{\"text\":\"BRANCH_CODE\"}},\"yaxis\":{\"anchor\":\"x\",\"domain\":[0.0,1.0],\"title\":{\"text\":\"BRANCH_SUM\"}},\"legend\":{\"tracegroupgap\":0,\"itemsizing\":\"constant\"},\"title\":{\"text\":\"Healthcare Spendings (Dollars) by Branch\"}},                        {\"responsive\": true}                    ).then(function(){\n",
       "                            \n",
       "var gd = document.getElementById('588471b7-c3a6-46b5-b556-1799a215ae0f');\n",
       "var x = new MutationObserver(function (mutations, observer) {{\n",
       "        var display = window.getComputedStyle(gd).display;\n",
       "        if (!display || display === 'none') {{\n",
       "            console.log([gd, 'removed!']);\n",
       "            Plotly.purge(gd);\n",
       "            observer.disconnect();\n",
       "        }}\n",
       "}});\n",
       "\n",
       "// Listen for the removal of the full notebook cells\n",
       "var notebookContainer = gd.closest('#notebook-container');\n",
       "if (notebookContainer) {{\n",
       "    x.observe(notebookContainer, {childList: true});\n",
       "}}\n",
       "\n",
       "// Listen for the clearing of the current output cell\n",
       "var outputEl = gd.closest('.output');\n",
       "if (outputEl) {{\n",
       "    x.observe(outputEl, {childList: true});\n",
       "}}\n",
       "\n",
       "                        })                };                });            </script>        </div>"
      ]
     },
     "metadata": {},
     "output_type": "display_data"
    }
   ],
   "source": [
    "branch_spendings = purchases[['BRANCH_CODE', 'TRANSACTION_TYPE', 'TRANSACTION_VALUE']]\n",
    "branch_spendings = branch_spendings.groupby(['TRANSACTION_TYPE', 'BRANCH_CODE']).sum().unstack()\n",
    "branch_spendings = branch_spendings.loc['Healthcare'].to_frame().reset_index().drop(['level_0'], axis=1).rename(columns={\"Healthcare\": \"BRANCH_SUM\"})\n",
    "branch_spendings\n",
    "fig = px.scatter(branch_spendings, x='BRANCH_CODE', y='BRANCH_SUM', size='BRANCH_SUM', title=\"Healthcare Spendings (Dollars) by Branch\")\n",
    "fig.show()"
   ]
  },
  {
   "cell_type": "code",
   "execution_count": null,
   "id": "ccad8e98-3cd4-4782-916a-1f2551a026be",
   "metadata": {},
   "outputs": [],
   "source": []
  }
 ],
 "metadata": {
  "kernelspec": {
   "display_name": "Python 3 (ipykernel)",
   "language": "python",
   "name": "python3"
  },
  "language_info": {
   "codemirror_mode": {
    "name": "ipython",
    "version": 3
   },
   "file_extension": ".py",
   "mimetype": "text/x-python",
   "name": "python",
   "nbconvert_exporter": "python",
   "pygments_lexer": "ipython3",
   "version": "3.10.5"
  }
 },
 "nbformat": 4,
 "nbformat_minor": 5
}
