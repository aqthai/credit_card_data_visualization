{
 "cells": [
  {
   "cell_type": "markdown",
   "id": "80946130-544e-4b3f-82cc-1071b048d185",
   "metadata": {},
   "source": [
    "### Data Extraction and Transformation with Python and PySpark\n"
   ]
  },
  {
   "cell_type": "code",
   "execution_count": 8,
   "id": "e8cf2d7e-f914-4cef-9d77-8d066fe47c88",
   "metadata": {},
   "outputs": [
    {
     "name": "stdout",
     "output_type": "stream",
     "text": [
      "root\n",
      " |-- BRANCH_CODE: long (nullable = true)\n",
      " |-- BRANCH_NAME: string (nullable = true)\n",
      " |-- BRANCH_STREET: string (nullable = true)\n",
      " |-- BRANCH_CITY: string (nullable = true)\n",
      " |-- BRANCH_STATE: string (nullable = true)\n",
      " |-- BRANCH_ZIP: long (nullable = true)\n",
      " |-- BRANCH_PHONE: string (nullable = true)\n",
      " |-- LAST_UPDATED: timestamp (nullable = true)\n",
      "\n",
      "root\n",
      " |-- SSN: long (nullable = true)\n",
      " |-- FIRST_NAME: string (nullable = true)\n",
      " |-- MIDDLE_NAME: string (nullable = true)\n",
      " |-- LAST_NAME: string (nullable = true)\n",
      " |-- Credit_card_no: string (nullable = true)\n",
      " |-- FULL_STREET_ADDRESS: string (nullable = true)\n",
      " |-- CUST_CITY: string (nullable = true)\n",
      " |-- CUST_STATE: string (nullable = true)\n",
      " |-- CUST_COUNTRY: string (nullable = true)\n",
      " |-- CUST_ZIP: long (nullable = true)\n",
      " |-- CUST_PHONE: string (nullable = true)\n",
      " |-- CUST_EMAIL: string (nullable = true)\n",
      " |-- LAST_UPDATED: timestamp (nullable = true)\n",
      "\n",
      "root\n",
      " |-- CUST_CC_NO: string (nullable = true)\n",
      " |-- TIMEID: string (nullable = true)\n",
      " |-- CUST_SSN: long (nullable = true)\n",
      " |-- BRANCH_CODE: long (nullable = true)\n",
      " |-- TRANSACTION_TYPE: string (nullable = true)\n",
      " |-- TRANSACTION_VALUE: double (nullable = true)\n",
      " |-- TRANSACTION_ID: long (nullable = true)\n",
      "\n"
     ]
    }
   ],
   "source": [
    "from datetime import datetime\n",
    "from datetime import date\n",
    "from pyspark.sql import SparkSession\n",
    "from pyspark.sql.types import StructType,StructField,StringType,IntegerType,FloatType\n",
    "\n",
    "spark = SparkSession.builder.appName('capstone').getOrCreate()\n",
    "branches = spark.read.json(\"cdw_sapp_branch.json\")\n",
    "customers = spark.read.json(\"cdw_sapp_customer.json\")\n",
    "credits = spark.read.json(\"cdw_sapp_credit.json\")\n",
    "\n",
    "branchRDD = branches.rdd.map(lambda x: (x[1], x[2], x[5], x[0], x[4], x[6], '('+x[3][:3]+')'+x[3][3:6]+'-'+x[3][6:], datetime.fromisoformat(x[7])))\n",
    "branches = spark.createDataFrame(data=branchRDD, schema=[\"BRANCH_CODE\", \"BRANCH_NAME\", \"BRANCH_STREET\", \"BRANCH_CITY\", \"BRANCH_STATE\", \"BRANCH_ZIP\", \"BRANCH_PHONE\", \"LAST_UPDATED\"])\n",
    "branches.printSchema()\n",
    "customerRDD = customers.rdd.map(lambda x: (int(x[12]), x[8].title(), x[11].lower(), x[9].title(), x[1], x[13]+\", \"+x[0], x[2], x[6], x[3], int(x[7]), str(x[5])[:3]+\"-\"+str(x[5])[3:], x[4], datetime.fromisoformat(x[10])))\n",
    "customers = spark.createDataFrame(data=customerRDD, schema=[\"SSN\",\"FIRST_NAME\",\"MIDDLE_NAME\", \"LAST_NAME\", \"Credit_card_no\", \"FULL_STREET_ADDRESS\", \"CUST_CITY\", \"CUST_STATE\", \"CUST_COUNTRY\", \"CUST_ZIP\", \"CUST_PHONE\", \"CUST_EMAIL\", \"LAST_UPDATED\"])\n",
    "customers.printSchema()\n",
    "creditRDD = credits.rdd.map(lambda x: (x[1], date(x[8], x[4], x[3]).strftime('%Y%m%d'), x[2], x[0], x[6], x[7], x[5]))  \n",
    "credits = spark.createDataFrame(data=creditRDD, schema=[\"CUST_CC_NO\", \"TIMEID\", \"CUST_SSN\", \"BRANCH_CODE\", \"TRANSACTION_TYPE\", \"TRANSACTION_VALUE\", \"TRANSACTION_ID\"])\n",
    "credits.printSchema()"
   ]
  },
  {
   "cell_type": "markdown",
   "id": "937d31ef-0016-41dc-9d8b-89ccd41d7f34",
   "metadata": {},
   "source": [
    "### Data loading into Database"
   ]
  },
  {
   "cell_type": "code",
   "execution_count": 9,
   "id": "805a0c36-ae11-46dc-8b98-b7320ad8f6bf",
   "metadata": {},
   "outputs": [],
   "source": [
    "branches.write.format(\"jdbc\") \\\n",
    "  .mode(\"overwrite\") \\\n",
    "  .option(\"url\", \"jdbc:mysql://localhost:3306/credit_capstone\") \\\n",
    "  .option(\"dbtable\", \"credit_capstone.cdw_sapp_branch\") \\\n",
    "  .option(\"user\", \"root\") \\\n",
    "  .option(\"password\", \"root\") \\\n",
    "  .save()\n",
    "customers.write.format(\"jdbc\") \\\n",
    "  .mode(\"overwrite\") \\\n",
    "  .option(\"url\", \"jdbc:mysql://localhost:3306/credit_capstone\") \\\n",
    "  .option(\"dbtable\", \"credit_capstone.cdw_sapp_customer\") \\\n",
    "  .option(\"user\", \"root\") \\\n",
    "  .option(\"password\", \"root\") \\\n",
    "  .save()\n",
    "credits.write.format(\"jdbc\") \\\n",
    "  .mode(\"overwrite\") \\\n",
    "  .option(\"url\", \"jdbc:mysql://localhost:3306/credit_capstone\") \\\n",
    "  .option(\"dbtable\", \"credit_capstone.cdw_sapp_credit_card\") \\\n",
    "  .option(\"user\", \"root\") \\\n",
    "  .option(\"password\", \"root\") \\\n",
    "  .save()"
   ]
  },
  {
   "cell_type": "code",
   "execution_count": 31,
   "id": "abab3b3a-1de4-499c-8d4d-56ecd9b07677",
   "metadata": {},
   "outputs": [],
   "source": [
    "spark.stop()"
   ]
  },
  {
   "cell_type": "markdown",
   "id": "da097ff7-edeb-4042-b20c-6b700cd76919",
   "metadata": {},
   "source": [
    "### Import from API"
   ]
  },
  {
   "cell_type": "code",
   "execution_count": 44,
   "id": "de993ad2-a6e9-464f-922d-b2b806227ea9",
   "metadata": {},
   "outputs": [
    {
     "name": "stdout",
     "output_type": "stream",
     "text": [
      "<Response [200]>\n"
     ]
    }
   ],
   "source": [
    "import requests\n",
    "import json\n",
    "response = requests.get(\"https://raw.githubusercontent.com/platformps/LoanDataset/main/loan_data.json\")\n",
    "print(response)"
   ]
  },
  {
   "cell_type": "code",
   "execution_count": 45,
   "id": "65746b2d-f3b8-4670-922b-7fe9b0de35db",
   "metadata": {},
   "outputs": [
    {
     "name": "stdout",
     "output_type": "stream",
     "text": [
      "root\n",
      " |-- Application_ID: string (nullable = true)\n",
      " |-- Gender: string (nullable = true)\n",
      " |-- Married: long (nullable = true)\n",
      " |-- Dependents: string (nullable = true)\n",
      " |-- Education: string (nullable = true)\n",
      " |-- Self_Employed: string (nullable = true)\n",
      " |-- Credit_History: string (nullable = true)\n",
      " |-- Property_Area: string (nullable = true)\n",
      " |-- Income: string (nullable = true)\n",
      " |-- Application_Status: string (nullable = true)\n",
      "\n"
     ]
    }
   ],
   "source": [
    "loans = response.json()\n",
    "loans = spark.createDataFrame(data=loans, schema=[\"Application_ID\", \"Gender\", \"Married\", \"Dependents\", \"Education\", \"Self_Employed\", \"Credit_History\", \"Property_Area\", \"Income\", \"Application_Status\"])\n",
    "loans.printSchema()"
   ]
  },
  {
   "cell_type": "markdown",
   "id": "0f9853b3-af17-4e9a-b52b-f5d2e81c7b01",
   "metadata": {},
   "source": [
    "### Load to RDBMS"
   ]
  },
  {
   "cell_type": "code",
   "execution_count": null,
   "id": "e173be8e-6ba2-4048-93fb-1ad26898515a",
   "metadata": {},
   "outputs": [],
   "source": [
    "loans.write.format(\"jdbc\") \\\n",
    "  .mode(\"overwrite\") \\\n",
    "  .option(\"url\", \"jdbc:mysql://localhost:3306/credit_capstone\") \\\n",
    "  .option(\"dbtable\", \"credit_capstone.cdw_sapp_loan_application\") \\\n",
    "  .option(\"user\", \"root\") \\\n",
    "  .option(\"password\", \"root\") \\\n",
    "  .save()"
   ]
  },
  {
   "cell_type": "code",
   "execution_count": null,
   "id": "8a7a20f0-ae2b-49d6-b729-4897eb98d574",
   "metadata": {},
   "outputs": [],
   "source": []
  }
 ],
 "metadata": {
  "kernelspec": {
   "display_name": "Python 3 (ipykernel)",
   "language": "python",
   "name": "python3"
  },
  "language_info": {
   "codemirror_mode": {
    "name": "ipython",
    "version": 3
   },
   "file_extension": ".py",
   "mimetype": "text/x-python",
   "name": "python",
   "nbconvert_exporter": "python",
   "pygments_lexer": "ipython3",
   "version": "3.10.5"
  }
 },
 "nbformat": 4,
 "nbformat_minor": 5
}
